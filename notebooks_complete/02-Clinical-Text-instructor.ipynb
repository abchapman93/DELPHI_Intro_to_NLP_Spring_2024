{
 "cells": [
  {
   "cell_type": "markdown",
   "id": "a96f3930",
   "metadata": {},
   "source": [
    "\n",
    "<img src=\"https://github.com/abchapman93/DELPHI_Intro_to_NLP_Spring_2024/blob/main/media/DELPHI-long.png?raw=true\" size=\"20%\">\n",
    "</br>\n",
    "\n",
    "<h1 valign=\"center\" align=\"center\"><font size=\"+150\">Introduction to NLP in Python</br>Spring 2024</font></h1>"
   ]
  },
  {
   "cell_type": "code",
   "execution_count": 1,
   "id": "3f770c7f-57ca-43d5-af89-cfea8f56bf55",
   "metadata": {},
   "outputs": [],
   "source": [
    "%load_ext autoreload\n",
    "%autoreload 2"
   ]
  },
  {
   "cell_type": "code",
   "execution_count": 9,
   "id": "4993c080",
   "metadata": {},
   "outputs": [],
   "source": [
    "import sys\n",
    "sys.path.insert(0, \"..\")\n",
    "\n",
    "from delphi_nlp_2024 import *\n",
    "from delphi_nlp_2024.quizzes.quizzes import *\n",
    "from delphi_nlp_2024.helpers import *"
   ]
  },
  {
   "cell_type": "markdown",
   "id": "a2e07e76",
   "metadata": {},
   "source": [
    "# Textual Data in Medicine\n",
    "As we saw in the last notebook, text is represented in Python with **strings**. In this notebook, we'll get more comfortable with working with strings. But first, we'll consider what information is stored in text form in medicine and then dive deeper into working with strings in Python. Then we'll learn a set of tools for extracting information from clinical text using Natural Language Processing.\n",
    "\n",
    "## Unstructured Data in the EHR\n",
    "When you see a doctor, they enter your information into the EHR in a few different ways. We've already seen some examples like:\n",
    "- ICD-9/10 codes\n",
    "- Numeric vital measurements\n",
    "- Flags for abnormal tests\n",
    "\n",
    "These are all **structured** data elements: the values are either numeric values or discrete elements with distinct, concrete meaning. Importantly, these values are *computable*: we can take the average of numeric vital measurements or count of ICD-10 codes.\n",
    "\n",
    "However, some forms of documentation are **unstructured**. Some examples are:\n",
    "- Videos\n",
    "- Radiology imaging\n",
    "- Full-text narratives\n",
    "\n",
    "Data forms like this are great for humans: they are easy to interpret and can include much more context and nuance than rigid, standardized data elements. However, they can't immediately be computed with. While a collection of pixels can be very meaningful to a radiologist, machines don't inherently have the ability to make sense of them.\n",
    "\n",
    "This presents a challenge to researchers since unstructured data accounts for a huge amount of the information stored in the EHR. While it would be great to utilize this information, we have to do a little extra work to make sense of it.\n",
    "\n",
    "## Clinical Narratives\n",
    "#### TODO\n",
    "Read the following excerpt of a discharge summary and then complete the quizzes that follow."
   ]
  },
  {
   "cell_type": "code",
   "execution_count": 3,
   "id": "9dd94714",
   "metadata": {},
   "outputs": [],
   "source": [
    "disch_summ = \"\"\"\n",
    "Service: MEDICINE\n",
    "\n",
    "Chief Complaint:\n",
    "5 days worsening SOB, DOE\n",
    " \n",
    "History of Present Illness:\n",
    "Pt is a 63M w/ h/o metastatic carcinoid tumor, HTN, \n",
    "hyperlipidemia who reports increasing SOB and DOE starting about \n",
    "a month ago but worsening significantly within the last 5 days. \n",
    "It has recently gotten so bad he can barely get up out of a \n",
    "chair without getting short of breath. He reports orthopnea but no PND. \n",
    "\n",
    "He reports no fever or chills, no URI symptoms, no recent travel, no changes \n",
    "in his medications.\n",
    "\n",
    "Pt also reports ~5 episodes of chest pain in the last few weeks \n",
    "which he describes as pressure on his mid-sternum and usually \n",
    "occurs during exertion.\n",
    " \n",
    "Past Medical History:\n",
    "1. metastatic carcinoid tumor, Dx'ed 2002\n",
    "2. hypertension\n",
    "3. hyperlipidemia\n",
    "4. carotid endarterectomy 1999\n",
    "5. depression/anxiety\n",
    " \n",
    "Social History:\n",
    "Lives alone, has two daughters\n",
    " \n",
    "Family History:\n",
    "early CAD\n",
    "\n",
    "Brief Hospital Course:\n",
    "1. SOB: likely from CHF\n",
    "The patient was initially diuresed for mild pulmonary edema: he \n",
    "received 20 IV Lasix on night of admission and 40mg [**9-10**], with \n",
    "good UOP. On [**9-10**], pt was reporting improvement of symptoms and \n",
    "able to walk around his room with 4L O2 NC. The following day he \n",
    "reported feeling worse, with increasing SOB, and was found to \n",
    "now be in oliguric renal failure. CXR [**9-11**] 8am showed showed \n",
    "atelectasis with possible superimposed pneumonia. Emergent TTE \n",
    "showed decreased EF (30%), anteroapical infarct with \n",
    "moderate-to-severe overall left ventricular contractile \n",
    "dysfunction; bicusapid aortic valve with at least mild aortic \n",
    "stenosis. He was sent to the MICU.\n",
    " \n",
    "Medications on Admission:\n",
    "ASA 81mg po qd\n",
    "Lipitor 20mg po qpm\n",
    "\n",
    "Discharge Disposition:\n",
    "Extended Care\n",
    "Discharge Diagnosis:\n",
    "Primary: congestive heart failure\n",
    "Secondary: metastatic carcinoid tumor, hypertension, \n",
    "hyperlipidemia, diabetes mellitus type 2, basal cell carcinoma\n",
    " \n",
    "Discharge Condition:\n",
    "good, stable\n",
    "\"\"\""
   ]
  },
  {
   "cell_type": "code",
   "execution_count": 4,
   "id": "78b40c24",
   "metadata": {},
   "outputs": [
    {
     "data": {
      "application/vnd.jupyter.widget-view+json": {
       "model_id": "3cf5208e031e4981ab3d562216b67be3",
       "version_major": 2,
       "version_minor": 0
      },
      "text/plain": [
       "VBox(children=(HTML(value='What is the main reason the patient came to the hospital?'), RadioButtons(layout=La…"
      ]
     },
     "metadata": {},
     "output_type": "display_data"
    },
    {
     "data": {
      "text/plain": []
     },
     "execution_count": 4,
     "metadata": {},
     "output_type": "execute_result"
    }
   ],
   "source": [
    "test_main_reason_hospital"
   ]
  },
  {
   "cell_type": "code",
   "execution_count": 7,
   "id": "ee314103",
   "metadata": {},
   "outputs": [
    {
     "data": {
      "application/vnd.jupyter.widget-view+json": {
       "model_id": "f5254f8968944b86b7cb0e076de96574",
       "version_major": 2,
       "version_minor": 0
      },
      "text/plain": [
       "VBox(children=(HTML(value='Which of the following conditions does the patient have?.'), SelectMultiple(options…"
      ]
     },
     "metadata": {},
     "output_type": "display_data"
    },
    {
     "data": {
      "text/plain": []
     },
     "execution_count": 7,
     "metadata": {},
     "output_type": "execute_result"
    }
   ],
   "source": [
    "test_pt_diagnoses"
   ]
  },
  {
   "cell_type": "code",
   "execution_count": 10,
   "id": "b1be280a",
   "metadata": {},
   "outputs": [
    {
     "data": {
      "application/vnd.jupyter.widget-view+json": {
       "model_id": "0c07e61bc34a42d58e449b3a562e86f6",
       "version_major": 2,
       "version_minor": 0
      },
      "text/plain": [
       "VBox(children=(HTML(value=\"The patient doesn't have any living relatives.\"), RadioButtons(layout=Layout(width=…"
      ]
     },
     "metadata": {},
     "output_type": "display_data"
    },
    {
     "data": {
      "text/plain": []
     },
     "execution_count": 10,
     "metadata": {},
     "output_type": "execute_result"
    }
   ],
   "source": [
    "test_pt_relatives"
   ]
  },
  {
   "cell_type": "code",
   "execution_count": 11,
   "id": "135c2c59",
   "metadata": {},
   "outputs": [
    {
     "data": {
      "application/vnd.jupyter.widget-view+json": {
       "model_id": "308c358beb8b4e6094436338b7d76f8f",
       "version_major": 2,
       "version_minor": 0
      },
      "text/plain": [
       "VBox(children=(HTML(value='How many episodes of chest pain has the patient had in the last few weeks?'), Texta…"
      ]
     },
     "metadata": {},
     "output_type": "display_data"
    },
    {
     "data": {
      "text/plain": []
     },
     "execution_count": 11,
     "metadata": {},
     "output_type": "execute_result"
    }
   ],
   "source": [
    "test_n_chest_pain"
   ]
  },
  {
   "cell_type": "markdown",
   "id": "c73ef04f",
   "metadata": {},
   "source": [
    "### Discussion\n",
    "As you can see, there's a lot of really useful information in clinical notes. What is the advantage of documenting it using free text? What are some challenges you see with this?"
   ]
  },
  {
   "cell_type": "code",
   "execution_count": null,
   "id": "84a0ea6d",
   "metadata": {},
   "outputs": [],
   "source": []
  }
 ],
 "metadata": {
  "kernelspec": {
   "display_name": "Python 3 (ipykernel)",
   "language": "python",
   "name": "python3"
  },
  "language_info": {
   "codemirror_mode": {
    "name": "ipython",
    "version": 3
   },
   "file_extension": ".py",
   "mimetype": "text/x-python",
   "name": "python",
   "nbconvert_exporter": "python",
   "pygments_lexer": "ipython3",
   "version": "3.10.13"
  }
 },
 "nbformat": 4,
 "nbformat_minor": 5
}
