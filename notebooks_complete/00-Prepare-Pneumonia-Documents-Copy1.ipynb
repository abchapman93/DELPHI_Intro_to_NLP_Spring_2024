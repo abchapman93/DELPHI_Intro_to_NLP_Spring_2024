{
 "cells": [
  {
   "cell_type": "markdown",
   "metadata": {},
   "source": [
    "\n",
    "<img src=\"https://github.com/abchapman93/DELPHI_Intro_to_NLP_Spring_2024/blob/main/media/DELPHI-long.png?raw=true\" size=\"20%\">\n",
    "</br>\n",
    "\n",
    "<h1 valign=\"center\" align=\"center\"><font size=\"+150\">Introduction to NLP in Python</br>Spring 2024</font></h1>"
   ]
  },
  {
   "cell_type": "code",
   "execution_count": 1,
   "metadata": {},
   "outputs": [],
   "source": [
    "%load_ext autoreload\n",
    "%autoreload 2"
   ]
  },
  {
   "cell_type": "code",
   "execution_count": 2,
   "metadata": {},
   "outputs": [],
   "source": [
    "import sys\n",
    "sys.path.insert(0, \"..\")\n",
    "\n",
    "from delphi_nlp_2024 import *\n",
    "from delphi_nlp_2024.quizzes.quizzes import *\n",
    "from delphi_nlp_2024.helpers import *\n",
    "\n",
    "import medspacy_pna"
   ]
  },
  {
   "cell_type": "code",
   "execution_count": 3,
   "metadata": {},
   "outputs": [],
   "source": [
    "import medspacy\n",
    "from IPython.display import Image"
   ]
  },
  {
   "cell_type": "code",
   "execution_count": 4,
   "metadata": {},
   "outputs": [],
   "source": [
    "from medspacy.visualization import visualize_dep, visualize_ent, MedspaCyVisualizerWidget"
   ]
  },
  {
   "cell_type": "code",
   "execution_count": 5,
   "metadata": {},
   "outputs": [],
   "source": [
    "import pandas as pd"
   ]
  },
  {
   "cell_type": "code",
   "execution_count": 20,
   "metadata": {},
   "outputs": [],
   "source": [
    "train = read_original_pneumonia_data(directory=\"../data/pneumonia_data/training_v2/\")\n",
    "train[\"split\"] = \"train\"\n",
    "test = read_original_pneumonia_data(directory=\"../data/pneumonia_data/test_v2/\")\n",
    "test[\"split\"] = \"test\""
   ]
  },
  {
   "cell_type": "code",
   "execution_count": 21,
   "metadata": {},
   "outputs": [],
   "source": [
    "df = pd.concat([train, test])"
   ]
  },
  {
   "cell_type": "code",
   "execution_count": 22,
   "metadata": {},
   "outputs": [
    {
     "data": {
      "text/html": [
       "<div>\n",
       "<style scoped>\n",
       "    .dataframe tbody tr th:only-of-type {\n",
       "        vertical-align: middle;\n",
       "    }\n",
       "\n",
       "    .dataframe tbody tr th {\n",
       "        vertical-align: top;\n",
       "    }\n",
       "\n",
       "    .dataframe thead th {\n",
       "        text-align: right;\n",
       "    }\n",
       "</style>\n",
       "<table border=\"1\" class=\"dataframe\">\n",
       "  <thead>\n",
       "    <tr style=\"text-align: right;\">\n",
       "      <th></th>\n",
       "      <th>record_id</th>\n",
       "      <th>text</th>\n",
       "      <th>annotations</th>\n",
       "      <th>document_classification</th>\n",
       "      <th>split</th>\n",
       "    </tr>\n",
       "  </thead>\n",
       "  <tbody>\n",
       "    <tr>\n",
       "      <th>0</th>\n",
       "      <td>subject_id_6383_hadm_id_19146</td>\n",
       "      <td>\\n\\n\\n     DATE: [**2717-5-23**] 12:06 PM\\n   ...</td>\n",
       "      <td>[T1\\tPNEUMONIA_DOC_NO 8 13\\tDATE:\\n]</td>\n",
       "      <td>0</td>\n",
       "      <td>train</td>\n",
       "    </tr>\n",
       "    <tr>\n",
       "      <th>1</th>\n",
       "      <td>subject_id_4549_hadm_id_2263</td>\n",
       "      <td>\\n\\n\\n     DATE: [**3368-3-20**] 11:46 AM\\n   ...</td>\n",
       "      <td>[T1\\tEVIDENCE_OF_PNEUMONIA 733 817\\tinterval o...</td>\n",
       "      <td>1</td>\n",
       "      <td>train</td>\n",
       "    </tr>\n",
       "    <tr>\n",
       "      <th>2</th>\n",
       "      <td>subject_id_8370_hadm_id_20245</td>\n",
       "      <td>\\n\\n\\n     DATE: [**3106-8-10**] 11:46 AM\\n   ...</td>\n",
       "      <td>[T1\\tEVIDENCE_OF_PNEUMONIA 1995 2022\\tImprovin...</td>\n",
       "      <td>1</td>\n",
       "      <td>train</td>\n",
       "    </tr>\n",
       "    <tr>\n",
       "      <th>3</th>\n",
       "      <td>subject_id_5587_hadm_id_10741</td>\n",
       "      <td>\\n\\n\\n     DATE: [**3469-9-13**] 6:54 PM\\n    ...</td>\n",
       "      <td>[T1\\tPNEUMONIA_DOC_NO 8 13\\tDATE:\\n]</td>\n",
       "      <td>0</td>\n",
       "      <td>train</td>\n",
       "    </tr>\n",
       "    <tr>\n",
       "      <th>4</th>\n",
       "      <td>subject_id_9002_hadm_id_20832</td>\n",
       "      <td>\\n\\n\\n     DATE: [**3346-10-31**] 4:35 PM\\n   ...</td>\n",
       "      <td>[T1\\tEVIDENCE_OF_PNEUMONIA 1149 1194\\tnew bila...</td>\n",
       "      <td>0</td>\n",
       "      <td>train</td>\n",
       "    </tr>\n",
       "  </tbody>\n",
       "</table>\n",
       "</div>"
      ],
      "text/plain": [
       "                       record_id  \\\n",
       "0  subject_id_6383_hadm_id_19146   \n",
       "1   subject_id_4549_hadm_id_2263   \n",
       "2  subject_id_8370_hadm_id_20245   \n",
       "3  subject_id_5587_hadm_id_10741   \n",
       "4  subject_id_9002_hadm_id_20832   \n",
       "\n",
       "                                                text  \\\n",
       "0  \\n\\n\\n     DATE: [**2717-5-23**] 12:06 PM\\n   ...   \n",
       "1  \\n\\n\\n     DATE: [**3368-3-20**] 11:46 AM\\n   ...   \n",
       "2  \\n\\n\\n     DATE: [**3106-8-10**] 11:46 AM\\n   ...   \n",
       "3  \\n\\n\\n     DATE: [**3469-9-13**] 6:54 PM\\n    ...   \n",
       "4  \\n\\n\\n     DATE: [**3346-10-31**] 4:35 PM\\n   ...   \n",
       "\n",
       "                                         annotations  document_classification  \\\n",
       "0               [T1\\tPNEUMONIA_DOC_NO 8 13\\tDATE:\\n]                        0   \n",
       "1  [T1\\tEVIDENCE_OF_PNEUMONIA 733 817\\tinterval o...                        1   \n",
       "2  [T1\\tEVIDENCE_OF_PNEUMONIA 1995 2022\\tImprovin...                        1   \n",
       "3               [T1\\tPNEUMONIA_DOC_NO 8 13\\tDATE:\\n]                        0   \n",
       "4  [T1\\tEVIDENCE_OF_PNEUMONIA 1149 1194\\tnew bila...                        0   \n",
       "\n",
       "   split  \n",
       "0  train  \n",
       "1  train  \n",
       "2  train  \n",
       "3  train  \n",
       "4  train  "
      ]
     },
     "execution_count": 22,
     "metadata": {},
     "output_type": "execute_result"
    }
   ],
   "source": [
    "df.head()"
   ]
  },
  {
   "cell_type": "code",
   "execution_count": 23,
   "metadata": {},
   "outputs": [
    {
     "data": {
      "text/plain": [
       "100"
      ]
     },
     "execution_count": 23,
     "metadata": {},
     "output_type": "execute_result"
    }
   ],
   "source": [
    "len(df)"
   ]
  },
  {
   "cell_type": "code",
   "execution_count": 24,
   "metadata": {},
   "outputs": [
    {
     "name": "stderr",
     "output_type": "stream",
     "text": [
      "/Users/alecchapman/opt/miniconda3/envs/medspacy_pna_dec23/lib/python3.9/site-packages/medspacy/common/regex_matcher.py:60: RuntimeWarning: You are using a TargetRule with a regex pattern, which is not natively supported in spacy and may lead to unexpected match spans. Consider using a list of dicts pattern instead. See https://spacy.io/usage/rule-based-matching\n",
      "  warnings.warn(\n",
      "/Users/alecchapman/opt/miniconda3/envs/medspacy_pna_dec23/lib/python3.9/site-packages/medspacy/common/regex_matcher.py:60: RuntimeWarning: You are using a TargetRule with a regex pattern, which is not natively supported in spacy and may lead to unexpected match spans. Consider using a list of dicts pattern instead. See https://spacy.io/usage/rule-based-matching\n",
      "  warnings.warn(\n",
      "/Users/alecchapman/opt/miniconda3/envs/medspacy_pna_dec23/lib/python3.9/site-packages/medspacy/common/regex_matcher.py:60: RuntimeWarning: You are using a TargetRule with a regex pattern, which is not natively supported in spacy and may lead to unexpected match spans. Consider using a list of dicts pattern instead. See https://spacy.io/usage/rule-based-matching\n",
      "  warnings.warn(\n",
      "/Users/alecchapman/opt/miniconda3/envs/medspacy_pna_dec23/lib/python3.9/site-packages/medspacy/common/regex_matcher.py:60: RuntimeWarning: You are using a TargetRule with a regex pattern, which is not natively supported in spacy and may lead to unexpected match spans. Consider using a list of dicts pattern instead. See https://spacy.io/usage/rule-based-matching\n",
      "  warnings.warn(\n",
      "/Users/alecchapman/opt/miniconda3/envs/medspacy_pna_dec23/lib/python3.9/site-packages/medspacy/common/regex_matcher.py:60: RuntimeWarning: You are using a TargetRule with a regex pattern, which is not natively supported in spacy and may lead to unexpected match spans. Consider using a list of dicts pattern instead. See https://spacy.io/usage/rule-based-matching\n",
      "  warnings.warn(\n",
      "/Users/alecchapman/opt/miniconda3/envs/medspacy_pna_dec23/lib/python3.9/site-packages/medspacy/common/regex_matcher.py:60: RuntimeWarning: You are using a TargetRule with a regex pattern, which is not natively supported in spacy and may lead to unexpected match spans. Consider using a list of dicts pattern instead. See https://spacy.io/usage/rule-based-matching\n",
      "  warnings.warn(\n",
      "/Users/alecchapman/opt/miniconda3/envs/medspacy_pna_dec23/lib/python3.9/site-packages/medspacy/common/regex_matcher.py:60: RuntimeWarning: You are using a TargetRule with a regex pattern, which is not natively supported in spacy and may lead to unexpected match spans. Consider using a list of dicts pattern instead. See https://spacy.io/usage/rule-based-matching\n",
      "  warnings.warn(\n",
      "/Users/alecchapman/opt/miniconda3/envs/medspacy_pna_dec23/lib/python3.9/site-packages/medspacy/common/regex_matcher.py:60: RuntimeWarning: You are using a TargetRule with a regex pattern, which is not natively supported in spacy and may lead to unexpected match spans. Consider using a list of dicts pattern instead. See https://spacy.io/usage/rule-based-matching\n",
      "  warnings.warn(\n",
      "/Users/alecchapman/opt/miniconda3/envs/medspacy_pna_dec23/lib/python3.9/site-packages/medspacy/common/regex_matcher.py:60: RuntimeWarning: You are using a TargetRule with a regex pattern, which is not natively supported in spacy and may lead to unexpected match spans. Consider using a list of dicts pattern instead. See https://spacy.io/usage/rule-based-matching\n",
      "  warnings.warn(\n",
      "/Users/alecchapman/opt/miniconda3/envs/medspacy_pna_dec23/lib/python3.9/site-packages/medspacy/common/regex_matcher.py:60: RuntimeWarning: You are using a TargetRule with a regex pattern, which is not natively supported in spacy and may lead to unexpected match spans. Consider using a list of dicts pattern instead. See https://spacy.io/usage/rule-based-matching\n",
      "  warnings.warn(\n",
      "/Users/alecchapman/opt/miniconda3/envs/medspacy_pna_dec23/lib/python3.9/site-packages/medspacy/common/regex_matcher.py:60: RuntimeWarning: You are using a TargetRule with a regex pattern, which is not natively supported in spacy and may lead to unexpected match spans. Consider using a list of dicts pattern instead. See https://spacy.io/usage/rule-based-matching\n",
      "  warnings.warn(\n",
      "/Users/alecchapman/opt/miniconda3/envs/medspacy_pna_dec23/lib/python3.9/site-packages/medspacy/common/regex_matcher.py:60: RuntimeWarning: You are using a TargetRule with a regex pattern, which is not natively supported in spacy and may lead to unexpected match spans. Consider using a list of dicts pattern instead. See https://spacy.io/usage/rule-based-matching\n",
      "  warnings.warn(\n",
      "/Users/alecchapman/opt/miniconda3/envs/medspacy_pna_dec23/lib/python3.9/site-packages/medspacy/common/regex_matcher.py:60: RuntimeWarning: You are using a TargetRule with a regex pattern, which is not natively supported in spacy and may lead to unexpected match spans. Consider using a list of dicts pattern instead. See https://spacy.io/usage/rule-based-matching\n",
      "  warnings.warn(\n",
      "/Users/alecchapman/opt/miniconda3/envs/medspacy_pna_dec23/lib/python3.9/site-packages/medspacy/common/regex_matcher.py:60: RuntimeWarning: You are using a TargetRule with a regex pattern, which is not natively supported in spacy and may lead to unexpected match spans. Consider using a list of dicts pattern instead. See https://spacy.io/usage/rule-based-matching\n",
      "  warnings.warn(\n",
      "/Users/alecchapman/opt/miniconda3/envs/medspacy_pna_dec23/lib/python3.9/site-packages/medspacy/common/regex_matcher.py:60: RuntimeWarning: You are using a TargetRule with a regex pattern, which is not natively supported in spacy and may lead to unexpected match spans. Consider using a list of dicts pattern instead. See https://spacy.io/usage/rule-based-matching\n",
      "  warnings.warn(\n",
      "/Users/alecchapman/opt/miniconda3/envs/medspacy_pna_dec23/lib/python3.9/site-packages/medspacy/common/regex_matcher.py:60: RuntimeWarning: You are using a TargetRule with a regex pattern, which is not natively supported in spacy and may lead to unexpected match spans. Consider using a list of dicts pattern instead. See https://spacy.io/usage/rule-based-matching\n",
      "  warnings.warn(\n",
      "/Users/alecchapman/opt/miniconda3/envs/medspacy_pna_dec23/lib/python3.9/site-packages/medspacy/common/regex_matcher.py:60: RuntimeWarning: You are using a TargetRule with a regex pattern, which is not natively supported in spacy and may lead to unexpected match spans. Consider using a list of dicts pattern instead. See https://spacy.io/usage/rule-based-matching\n",
      "  warnings.warn(\n",
      "/Users/alecchapman/opt/miniconda3/envs/medspacy_pna_dec23/lib/python3.9/site-packages/medspacy/common/regex_matcher.py:60: RuntimeWarning: You are using a TargetRule with a regex pattern, which is not natively supported in spacy and may lead to unexpected match spans. Consider using a list of dicts pattern instead. See https://spacy.io/usage/rule-based-matching\n",
      "  warnings.warn(\n",
      "/Users/alecchapman/opt/miniconda3/envs/medspacy_pna_dec23/lib/python3.9/site-packages/medspacy/common/regex_matcher.py:60: RuntimeWarning: You are using a TargetRule with a regex pattern, which is not natively supported in spacy and may lead to unexpected match spans. Consider using a list of dicts pattern instead. See https://spacy.io/usage/rule-based-matching\n",
      "  warnings.warn(\n",
      "/Users/alecchapman/opt/miniconda3/envs/medspacy_pna_dec23/lib/python3.9/site-packages/medspacy/common/regex_matcher.py:60: RuntimeWarning: You are using a TargetRule with a regex pattern, which is not natively supported in spacy and may lead to unexpected match spans. Consider using a list of dicts pattern instead. See https://spacy.io/usage/rule-based-matching\n",
      "  warnings.warn(\n",
      "/Users/alecchapman/opt/miniconda3/envs/medspacy_pna_dec23/lib/python3.9/site-packages/medspacy/common/regex_matcher.py:60: RuntimeWarning: You are using a TargetRule with a regex pattern, which is not natively supported in spacy and may lead to unexpected match spans. Consider using a list of dicts pattern instead. See https://spacy.io/usage/rule-based-matching\n",
      "  warnings.warn(\n",
      "/Users/alecchapman/opt/miniconda3/envs/medspacy_pna_dec23/lib/python3.9/site-packages/medspacy/common/regex_matcher.py:60: RuntimeWarning: You are using a TargetRule with a regex pattern, which is not natively supported in spacy and may lead to unexpected match spans. Consider using a list of dicts pattern instead. See https://spacy.io/usage/rule-based-matching\n",
      "  warnings.warn(\n",
      "/Users/alecchapman/opt/miniconda3/envs/medspacy_pna_dec23/lib/python3.9/site-packages/medspacy/common/regex_matcher.py:60: RuntimeWarning: You are using a TargetRule with a regex pattern, which is not natively supported in spacy and may lead to unexpected match spans. Consider using a list of dicts pattern instead. See https://spacy.io/usage/rule-based-matching\n",
      "  warnings.warn(\n",
      "/Users/alecchapman/opt/miniconda3/envs/medspacy_pna_dec23/lib/python3.9/site-packages/medspacy/common/regex_matcher.py:60: RuntimeWarning: You are using a TargetRule with a regex pattern, which is not natively supported in spacy and may lead to unexpected match spans. Consider using a list of dicts pattern instead. See https://spacy.io/usage/rule-based-matching\n",
      "  warnings.warn(\n",
      "/Users/alecchapman/opt/miniconda3/envs/medspacy_pna_dec23/lib/python3.9/site-packages/medspacy/common/regex_matcher.py:60: RuntimeWarning: You are using a TargetRule with a regex pattern, which is not natively supported in spacy and may lead to unexpected match spans. Consider using a list of dicts pattern instead. See https://spacy.io/usage/rule-based-matching\n",
      "  warnings.warn(\n",
      "/Users/alecchapman/opt/miniconda3/envs/medspacy_pna_dec23/lib/python3.9/site-packages/medspacy/common/regex_matcher.py:60: RuntimeWarning: You are using a TargetRule with a regex pattern, which is not natively supported in spacy and may lead to unexpected match spans. Consider using a list of dicts pattern instead. See https://spacy.io/usage/rule-based-matching\n",
      "  warnings.warn(\n",
      "/Users/alecchapman/opt/miniconda3/envs/medspacy_pna_dec23/lib/python3.9/site-packages/medspacy/common/regex_matcher.py:60: RuntimeWarning: You are using a TargetRule with a regex pattern, which is not natively supported in spacy and may lead to unexpected match spans. Consider using a list of dicts pattern instead. See https://spacy.io/usage/rule-based-matching\n",
      "  warnings.warn(\n",
      "/Users/alecchapman/opt/miniconda3/envs/medspacy_pna_dec23/lib/python3.9/site-packages/medspacy/common/regex_matcher.py:60: RuntimeWarning: You are using a TargetRule with a regex pattern, which is not natively supported in spacy and may lead to unexpected match spans. Consider using a list of dicts pattern instead. See https://spacy.io/usage/rule-based-matching\n",
      "  warnings.warn(\n",
      "/Users/alecchapman/opt/miniconda3/envs/medspacy_pna_dec23/lib/python3.9/site-packages/medspacy/common/regex_matcher.py:60: RuntimeWarning: You are using a TargetRule with a regex pattern, which is not natively supported in spacy and may lead to unexpected match spans. Consider using a list of dicts pattern instead. See https://spacy.io/usage/rule-based-matching\n",
      "  warnings.warn(\n",
      "/Users/alecchapman/opt/miniconda3/envs/medspacy_pna_dec23/lib/python3.9/site-packages/medspacy/common/regex_matcher.py:60: RuntimeWarning: You are using a TargetRule with a regex pattern, which is not natively supported in spacy and may lead to unexpected match spans. Consider using a list of dicts pattern instead. See https://spacy.io/usage/rule-based-matching\n",
      "  warnings.warn(\n",
      "/Users/alecchapman/opt/miniconda3/envs/medspacy_pna_dec23/lib/python3.9/site-packages/medspacy/common/regex_matcher.py:60: RuntimeWarning: You are using a TargetRule with a regex pattern, which is not natively supported in spacy and may lead to unexpected match spans. Consider using a list of dicts pattern instead. See https://spacy.io/usage/rule-based-matching\n",
      "  warnings.warn(\n",
      "/Users/alecchapman/opt/miniconda3/envs/medspacy_pna_dec23/lib/python3.9/site-packages/medspacy/common/regex_matcher.py:60: RuntimeWarning: You are using a TargetRule with a regex pattern, which is not natively supported in spacy and may lead to unexpected match spans. Consider using a list of dicts pattern instead. See https://spacy.io/usage/rule-based-matching\n",
      "  warnings.warn(\n"
     ]
    }
   ],
   "source": [
    "nlp = medspacy_pna.build_nlp(\"radiology\")"
   ]
  },
  {
   "cell_type": "code",
   "execution_count": 25,
   "metadata": {},
   "outputs": [
    {
     "name": "stderr",
     "output_type": "stream",
     "text": [
      "/Users/alecchapman/opt/miniconda3/envs/medspacy_pna_dec23/lib/python3.9/site-packages/medspacy/common/medspacy_matcher.py:80: UserWarning: [W036] The component 'matcher' does not have any patterns defined.\n",
      "  matches = self.matcher(doc)\n",
      "/Users/alecchapman/opt/miniconda3/envs/medspacy_pna_dec23/lib/python3.9/site-packages/medspacy/common/medspacy_matcher.py:80: UserWarning: [W036] The component 'matcher' does not have any patterns defined.\n",
      "  matches = self.matcher(doc)\n",
      "/Users/alecchapman/opt/miniconda3/envs/medspacy_pna_dec23/lib/python3.9/site-packages/medspacy/common/medspacy_matcher.py:80: UserWarning: [W036] The component 'matcher' does not have any patterns defined.\n",
      "  matches = self.matcher(doc)\n",
      "/Users/alecchapman/opt/miniconda3/envs/medspacy_pna_dec23/lib/python3.9/site-packages/medspacy/common/medspacy_matcher.py:80: UserWarning: [W036] The component 'matcher' does not have any patterns defined.\n",
      "  matches = self.matcher(doc)\n",
      "/Users/alecchapman/opt/miniconda3/envs/medspacy_pna_dec23/lib/python3.9/site-packages/medspacy/common/medspacy_matcher.py:80: UserWarning: [W036] The component 'matcher' does not have any patterns defined.\n",
      "  matches = self.matcher(doc)\n",
      "/Users/alecchapman/opt/miniconda3/envs/medspacy_pna_dec23/lib/python3.9/site-packages/medspacy/common/medspacy_matcher.py:80: UserWarning: [W036] The component 'matcher' does not have any patterns defined.\n",
      "  matches = self.matcher(doc)\n",
      "/Users/alecchapman/opt/miniconda3/envs/medspacy_pna_dec23/lib/python3.9/site-packages/medspacy/common/medspacy_matcher.py:80: UserWarning: [W036] The component 'matcher' does not have any patterns defined.\n",
      "  matches = self.matcher(doc)\n",
      "/Users/alecchapman/opt/miniconda3/envs/medspacy_pna_dec23/lib/python3.9/site-packages/medspacy/common/medspacy_matcher.py:80: UserWarning: [W036] The component 'matcher' does not have any patterns defined.\n",
      "  matches = self.matcher(doc)\n",
      "/Users/alecchapman/opt/miniconda3/envs/medspacy_pna_dec23/lib/python3.9/site-packages/medspacy/common/medspacy_matcher.py:80: UserWarning: [W036] The component 'matcher' does not have any patterns defined.\n",
      "  matches = self.matcher(doc)\n",
      "/Users/alecchapman/opt/miniconda3/envs/medspacy_pna_dec23/lib/python3.9/site-packages/medspacy/common/medspacy_matcher.py:80: UserWarning: [W036] The component 'matcher' does not have any patterns defined.\n",
      "  matches = self.matcher(doc)\n",
      "/Users/alecchapman/opt/miniconda3/envs/medspacy_pna_dec23/lib/python3.9/site-packages/medspacy/common/medspacy_matcher.py:80: UserWarning: [W036] The component 'matcher' does not have any patterns defined.\n",
      "  matches = self.matcher(doc)\n",
      "/Users/alecchapman/opt/miniconda3/envs/medspacy_pna_dec23/lib/python3.9/site-packages/medspacy/common/medspacy_matcher.py:80: UserWarning: [W036] The component 'matcher' does not have any patterns defined.\n",
      "  matches = self.matcher(doc)\n",
      "/Users/alecchapman/opt/miniconda3/envs/medspacy_pna_dec23/lib/python3.9/site-packages/medspacy/common/medspacy_matcher.py:80: UserWarning: [W036] The component 'matcher' does not have any patterns defined.\n",
      "  matches = self.matcher(doc)\n",
      "/Users/alecchapman/opt/miniconda3/envs/medspacy_pna_dec23/lib/python3.9/site-packages/medspacy/common/medspacy_matcher.py:80: UserWarning: [W036] The component 'matcher' does not have any patterns defined.\n",
      "  matches = self.matcher(doc)\n",
      "/Users/alecchapman/opt/miniconda3/envs/medspacy_pna_dec23/lib/python3.9/site-packages/medspacy/common/medspacy_matcher.py:80: UserWarning: [W036] The component 'matcher' does not have any patterns defined.\n",
      "  matches = self.matcher(doc)\n",
      "/Users/alecchapman/opt/miniconda3/envs/medspacy_pna_dec23/lib/python3.9/site-packages/medspacy/common/medspacy_matcher.py:80: UserWarning: [W036] The component 'matcher' does not have any patterns defined.\n",
      "  matches = self.matcher(doc)\n",
      "/Users/alecchapman/opt/miniconda3/envs/medspacy_pna_dec23/lib/python3.9/site-packages/medspacy/common/medspacy_matcher.py:80: UserWarning: [W036] The component 'matcher' does not have any patterns defined.\n",
      "  matches = self.matcher(doc)\n",
      "/Users/alecchapman/opt/miniconda3/envs/medspacy_pna_dec23/lib/python3.9/site-packages/medspacy/common/medspacy_matcher.py:80: UserWarning: [W036] The component 'matcher' does not have any patterns defined.\n",
      "  matches = self.matcher(doc)\n",
      "/Users/alecchapman/opt/miniconda3/envs/medspacy_pna_dec23/lib/python3.9/site-packages/medspacy/common/medspacy_matcher.py:80: UserWarning: [W036] The component 'matcher' does not have any patterns defined.\n",
      "  matches = self.matcher(doc)\n",
      "/Users/alecchapman/opt/miniconda3/envs/medspacy_pna_dec23/lib/python3.9/site-packages/medspacy/common/medspacy_matcher.py:80: UserWarning: [W036] The component 'matcher' does not have any patterns defined.\n",
      "  matches = self.matcher(doc)\n",
      "/Users/alecchapman/opt/miniconda3/envs/medspacy_pna_dec23/lib/python3.9/site-packages/medspacy/common/medspacy_matcher.py:80: UserWarning: [W036] The component 'matcher' does not have any patterns defined.\n",
      "  matches = self.matcher(doc)\n",
      "/Users/alecchapman/opt/miniconda3/envs/medspacy_pna_dec23/lib/python3.9/site-packages/medspacy/common/medspacy_matcher.py:80: UserWarning: [W036] The component 'matcher' does not have any patterns defined.\n",
      "  matches = self.matcher(doc)\n",
      "/Users/alecchapman/opt/miniconda3/envs/medspacy_pna_dec23/lib/python3.9/site-packages/medspacy/common/medspacy_matcher.py:80: UserWarning: [W036] The component 'matcher' does not have any patterns defined.\n",
      "  matches = self.matcher(doc)\n",
      "/Users/alecchapman/opt/miniconda3/envs/medspacy_pna_dec23/lib/python3.9/site-packages/medspacy/common/medspacy_matcher.py:80: UserWarning: [W036] The component 'matcher' does not have any patterns defined.\n",
      "  matches = self.matcher(doc)\n",
      "/Users/alecchapman/opt/miniconda3/envs/medspacy_pna_dec23/lib/python3.9/site-packages/medspacy/common/medspacy_matcher.py:80: UserWarning: [W036] The component 'matcher' does not have any patterns defined.\n",
      "  matches = self.matcher(doc)\n",
      "/Users/alecchapman/opt/miniconda3/envs/medspacy_pna_dec23/lib/python3.9/site-packages/medspacy/common/medspacy_matcher.py:80: UserWarning: [W036] The component 'matcher' does not have any patterns defined.\n",
      "  matches = self.matcher(doc)\n",
      "/Users/alecchapman/opt/miniconda3/envs/medspacy_pna_dec23/lib/python3.9/site-packages/medspacy/common/medspacy_matcher.py:80: UserWarning: [W036] The component 'matcher' does not have any patterns defined.\n",
      "  matches = self.matcher(doc)\n",
      "/Users/alecchapman/opt/miniconda3/envs/medspacy_pna_dec23/lib/python3.9/site-packages/medspacy/common/medspacy_matcher.py:80: UserWarning: [W036] The component 'matcher' does not have any patterns defined.\n",
      "  matches = self.matcher(doc)\n",
      "/Users/alecchapman/opt/miniconda3/envs/medspacy_pna_dec23/lib/python3.9/site-packages/medspacy/common/medspacy_matcher.py:80: UserWarning: [W036] The component 'matcher' does not have any patterns defined.\n",
      "  matches = self.matcher(doc)\n",
      "/Users/alecchapman/opt/miniconda3/envs/medspacy_pna_dec23/lib/python3.9/site-packages/medspacy/common/medspacy_matcher.py:80: UserWarning: [W036] The component 'matcher' does not have any patterns defined.\n",
      "  matches = self.matcher(doc)\n",
      "/Users/alecchapman/opt/miniconda3/envs/medspacy_pna_dec23/lib/python3.9/site-packages/medspacy/common/medspacy_matcher.py:80: UserWarning: [W036] The component 'matcher' does not have any patterns defined.\n",
      "  matches = self.matcher(doc)\n",
      "/Users/alecchapman/opt/miniconda3/envs/medspacy_pna_dec23/lib/python3.9/site-packages/medspacy/common/medspacy_matcher.py:80: UserWarning: [W036] The component 'matcher' does not have any patterns defined.\n",
      "  matches = self.matcher(doc)\n",
      "/Users/alecchapman/opt/miniconda3/envs/medspacy_pna_dec23/lib/python3.9/site-packages/medspacy/common/medspacy_matcher.py:80: UserWarning: [W036] The component 'matcher' does not have any patterns defined.\n",
      "  matches = self.matcher(doc)\n",
      "/Users/alecchapman/opt/miniconda3/envs/medspacy_pna_dec23/lib/python3.9/site-packages/medspacy/common/medspacy_matcher.py:80: UserWarning: [W036] The component 'matcher' does not have any patterns defined.\n",
      "  matches = self.matcher(doc)\n",
      "/Users/alecchapman/opt/miniconda3/envs/medspacy_pna_dec23/lib/python3.9/site-packages/medspacy/common/medspacy_matcher.py:80: UserWarning: [W036] The component 'matcher' does not have any patterns defined.\n",
      "  matches = self.matcher(doc)\n",
      "/Users/alecchapman/opt/miniconda3/envs/medspacy_pna_dec23/lib/python3.9/site-packages/medspacy/common/medspacy_matcher.py:80: UserWarning: [W036] The component 'matcher' does not have any patterns defined.\n",
      "  matches = self.matcher(doc)\n",
      "/Users/alecchapman/opt/miniconda3/envs/medspacy_pna_dec23/lib/python3.9/site-packages/medspacy/common/medspacy_matcher.py:80: UserWarning: [W036] The component 'matcher' does not have any patterns defined.\n",
      "  matches = self.matcher(doc)\n"
     ]
    },
    {
     "name": "stderr",
     "output_type": "stream",
     "text": [
      "/Users/alecchapman/opt/miniconda3/envs/medspacy_pna_dec23/lib/python3.9/site-packages/medspacy/common/medspacy_matcher.py:80: UserWarning: [W036] The component 'matcher' does not have any patterns defined.\n",
      "  matches = self.matcher(doc)\n",
      "/Users/alecchapman/opt/miniconda3/envs/medspacy_pna_dec23/lib/python3.9/site-packages/medspacy/common/medspacy_matcher.py:80: UserWarning: [W036] The component 'matcher' does not have any patterns defined.\n",
      "  matches = self.matcher(doc)\n",
      "/Users/alecchapman/opt/miniconda3/envs/medspacy_pna_dec23/lib/python3.9/site-packages/medspacy/common/medspacy_matcher.py:80: UserWarning: [W036] The component 'matcher' does not have any patterns defined.\n",
      "  matches = self.matcher(doc)\n",
      "/Users/alecchapman/opt/miniconda3/envs/medspacy_pna_dec23/lib/python3.9/site-packages/medspacy/common/medspacy_matcher.py:80: UserWarning: [W036] The component 'matcher' does not have any patterns defined.\n",
      "  matches = self.matcher(doc)\n",
      "/Users/alecchapman/opt/miniconda3/envs/medspacy_pna_dec23/lib/python3.9/site-packages/medspacy/common/medspacy_matcher.py:80: UserWarning: [W036] The component 'matcher' does not have any patterns defined.\n",
      "  matches = self.matcher(doc)\n",
      "/Users/alecchapman/opt/miniconda3/envs/medspacy_pna_dec23/lib/python3.9/site-packages/medspacy/common/medspacy_matcher.py:80: UserWarning: [W036] The component 'matcher' does not have any patterns defined.\n",
      "  matches = self.matcher(doc)\n",
      "/Users/alecchapman/opt/miniconda3/envs/medspacy_pna_dec23/lib/python3.9/site-packages/medspacy/common/medspacy_matcher.py:80: UserWarning: [W036] The component 'matcher' does not have any patterns defined.\n",
      "  matches = self.matcher(doc)\n",
      "/Users/alecchapman/opt/miniconda3/envs/medspacy_pna_dec23/lib/python3.9/site-packages/medspacy/common/medspacy_matcher.py:80: UserWarning: [W036] The component 'matcher' does not have any patterns defined.\n",
      "  matches = self.matcher(doc)\n",
      "/Users/alecchapman/opt/miniconda3/envs/medspacy_pna_dec23/lib/python3.9/site-packages/medspacy/common/medspacy_matcher.py:80: UserWarning: [W036] The component 'matcher' does not have any patterns defined.\n",
      "  matches = self.matcher(doc)\n",
      "/Users/alecchapman/opt/miniconda3/envs/medspacy_pna_dec23/lib/python3.9/site-packages/medspacy/common/medspacy_matcher.py:80: UserWarning: [W036] The component 'matcher' does not have any patterns defined.\n",
      "  matches = self.matcher(doc)\n",
      "/Users/alecchapman/opt/miniconda3/envs/medspacy_pna_dec23/lib/python3.9/site-packages/medspacy/common/medspacy_matcher.py:80: UserWarning: [W036] The component 'matcher' does not have any patterns defined.\n",
      "  matches = self.matcher(doc)\n",
      "/Users/alecchapman/opt/miniconda3/envs/medspacy_pna_dec23/lib/python3.9/site-packages/medspacy/common/medspacy_matcher.py:80: UserWarning: [W036] The component 'matcher' does not have any patterns defined.\n",
      "  matches = self.matcher(doc)\n",
      "/Users/alecchapman/opt/miniconda3/envs/medspacy_pna_dec23/lib/python3.9/site-packages/medspacy/common/medspacy_matcher.py:80: UserWarning: [W036] The component 'matcher' does not have any patterns defined.\n",
      "  matches = self.matcher(doc)\n",
      "/Users/alecchapman/opt/miniconda3/envs/medspacy_pna_dec23/lib/python3.9/site-packages/medspacy/common/medspacy_matcher.py:80: UserWarning: [W036] The component 'matcher' does not have any patterns defined.\n",
      "  matches = self.matcher(doc)\n",
      "/Users/alecchapman/opt/miniconda3/envs/medspacy_pna_dec23/lib/python3.9/site-packages/medspacy/common/medspacy_matcher.py:80: UserWarning: [W036] The component 'matcher' does not have any patterns defined.\n",
      "  matches = self.matcher(doc)\n",
      "/Users/alecchapman/opt/miniconda3/envs/medspacy_pna_dec23/lib/python3.9/site-packages/medspacy/common/medspacy_matcher.py:80: UserWarning: [W036] The component 'matcher' does not have any patterns defined.\n",
      "  matches = self.matcher(doc)\n",
      "/Users/alecchapman/opt/miniconda3/envs/medspacy_pna_dec23/lib/python3.9/site-packages/medspacy/common/medspacy_matcher.py:80: UserWarning: [W036] The component 'matcher' does not have any patterns defined.\n",
      "  matches = self.matcher(doc)\n",
      "/Users/alecchapman/opt/miniconda3/envs/medspacy_pna_dec23/lib/python3.9/site-packages/medspacy/common/medspacy_matcher.py:80: UserWarning: [W036] The component 'matcher' does not have any patterns defined.\n",
      "  matches = self.matcher(doc)\n",
      "/Users/alecchapman/opt/miniconda3/envs/medspacy_pna_dec23/lib/python3.9/site-packages/medspacy/common/medspacy_matcher.py:80: UserWarning: [W036] The component 'matcher' does not have any patterns defined.\n",
      "  matches = self.matcher(doc)\n",
      "/Users/alecchapman/opt/miniconda3/envs/medspacy_pna_dec23/lib/python3.9/site-packages/medspacy/common/medspacy_matcher.py:80: UserWarning: [W036] The component 'matcher' does not have any patterns defined.\n",
      "  matches = self.matcher(doc)\n",
      "/Users/alecchapman/opt/miniconda3/envs/medspacy_pna_dec23/lib/python3.9/site-packages/medspacy/common/medspacy_matcher.py:80: UserWarning: [W036] The component 'matcher' does not have any patterns defined.\n",
      "  matches = self.matcher(doc)\n",
      "/Users/alecchapman/opt/miniconda3/envs/medspacy_pna_dec23/lib/python3.9/site-packages/medspacy/common/medspacy_matcher.py:80: UserWarning: [W036] The component 'matcher' does not have any patterns defined.\n",
      "  matches = self.matcher(doc)\n",
      "/Users/alecchapman/opt/miniconda3/envs/medspacy_pna_dec23/lib/python3.9/site-packages/medspacy/common/medspacy_matcher.py:80: UserWarning: [W036] The component 'matcher' does not have any patterns defined.\n",
      "  matches = self.matcher(doc)\n",
      "/Users/alecchapman/opt/miniconda3/envs/medspacy_pna_dec23/lib/python3.9/site-packages/medspacy/common/medspacy_matcher.py:80: UserWarning: [W036] The component 'matcher' does not have any patterns defined.\n",
      "  matches = self.matcher(doc)\n",
      "/Users/alecchapman/opt/miniconda3/envs/medspacy_pna_dec23/lib/python3.9/site-packages/medspacy/common/medspacy_matcher.py:80: UserWarning: [W036] The component 'matcher' does not have any patterns defined.\n",
      "  matches = self.matcher(doc)\n",
      "/Users/alecchapman/opt/miniconda3/envs/medspacy_pna_dec23/lib/python3.9/site-packages/medspacy/common/medspacy_matcher.py:80: UserWarning: [W036] The component 'matcher' does not have any patterns defined.\n",
      "  matches = self.matcher(doc)\n",
      "/Users/alecchapman/opt/miniconda3/envs/medspacy_pna_dec23/lib/python3.9/site-packages/medspacy/common/medspacy_matcher.py:80: UserWarning: [W036] The component 'matcher' does not have any patterns defined.\n",
      "  matches = self.matcher(doc)\n",
      "/Users/alecchapman/opt/miniconda3/envs/medspacy_pna_dec23/lib/python3.9/site-packages/medspacy/common/medspacy_matcher.py:80: UserWarning: [W036] The component 'matcher' does not have any patterns defined.\n",
      "  matches = self.matcher(doc)\n",
      "/Users/alecchapman/opt/miniconda3/envs/medspacy_pna_dec23/lib/python3.9/site-packages/medspacy/common/medspacy_matcher.py:80: UserWarning: [W036] The component 'matcher' does not have any patterns defined.\n",
      "  matches = self.matcher(doc)\n",
      "/Users/alecchapman/opt/miniconda3/envs/medspacy_pna_dec23/lib/python3.9/site-packages/medspacy/common/medspacy_matcher.py:80: UserWarning: [W036] The component 'matcher' does not have any patterns defined.\n",
      "  matches = self.matcher(doc)\n",
      "/Users/alecchapman/opt/miniconda3/envs/medspacy_pna_dec23/lib/python3.9/site-packages/medspacy/common/medspacy_matcher.py:80: UserWarning: [W036] The component 'matcher' does not have any patterns defined.\n",
      "  matches = self.matcher(doc)\n",
      "/Users/alecchapman/opt/miniconda3/envs/medspacy_pna_dec23/lib/python3.9/site-packages/medspacy/common/medspacy_matcher.py:80: UserWarning: [W036] The component 'matcher' does not have any patterns defined.\n",
      "  matches = self.matcher(doc)\n",
      "/Users/alecchapman/opt/miniconda3/envs/medspacy_pna_dec23/lib/python3.9/site-packages/medspacy/common/medspacy_matcher.py:80: UserWarning: [W036] The component 'matcher' does not have any patterns defined.\n",
      "  matches = self.matcher(doc)\n",
      "/Users/alecchapman/opt/miniconda3/envs/medspacy_pna_dec23/lib/python3.9/site-packages/medspacy/common/medspacy_matcher.py:80: UserWarning: [W036] The component 'matcher' does not have any patterns defined.\n",
      "  matches = self.matcher(doc)\n",
      "/Users/alecchapman/opt/miniconda3/envs/medspacy_pna_dec23/lib/python3.9/site-packages/medspacy/common/medspacy_matcher.py:80: UserWarning: [W036] The component 'matcher' does not have any patterns defined.\n",
      "  matches = self.matcher(doc)\n",
      "/Users/alecchapman/opt/miniconda3/envs/medspacy_pna_dec23/lib/python3.9/site-packages/medspacy/common/medspacy_matcher.py:80: UserWarning: [W036] The component 'matcher' does not have any patterns defined.\n",
      "  matches = self.matcher(doc)\n",
      "/Users/alecchapman/opt/miniconda3/envs/medspacy_pna_dec23/lib/python3.9/site-packages/medspacy/common/medspacy_matcher.py:80: UserWarning: [W036] The component 'matcher' does not have any patterns defined.\n",
      "  matches = self.matcher(doc)\n",
      "/Users/alecchapman/opt/miniconda3/envs/medspacy_pna_dec23/lib/python3.9/site-packages/medspacy/common/medspacy_matcher.py:80: UserWarning: [W036] The component 'matcher' does not have any patterns defined.\n",
      "  matches = self.matcher(doc)\n"
     ]
    },
    {
     "name": "stderr",
     "output_type": "stream",
     "text": [
      "/Users/alecchapman/opt/miniconda3/envs/medspacy_pna_dec23/lib/python3.9/site-packages/medspacy/common/medspacy_matcher.py:80: UserWarning: [W036] The component 'matcher' does not have any patterns defined.\n",
      "  matches = self.matcher(doc)\n",
      "/Users/alecchapman/opt/miniconda3/envs/medspacy_pna_dec23/lib/python3.9/site-packages/medspacy/common/medspacy_matcher.py:80: UserWarning: [W036] The component 'matcher' does not have any patterns defined.\n",
      "  matches = self.matcher(doc)\n",
      "/Users/alecchapman/opt/miniconda3/envs/medspacy_pna_dec23/lib/python3.9/site-packages/medspacy/common/medspacy_matcher.py:80: UserWarning: [W036] The component 'matcher' does not have any patterns defined.\n",
      "  matches = self.matcher(doc)\n",
      "/Users/alecchapman/opt/miniconda3/envs/medspacy_pna_dec23/lib/python3.9/site-packages/medspacy/common/medspacy_matcher.py:80: UserWarning: [W036] The component 'matcher' does not have any patterns defined.\n",
      "  matches = self.matcher(doc)\n",
      "/Users/alecchapman/opt/miniconda3/envs/medspacy_pna_dec23/lib/python3.9/site-packages/medspacy/common/medspacy_matcher.py:80: UserWarning: [W036] The component 'matcher' does not have any patterns defined.\n",
      "  matches = self.matcher(doc)\n",
      "/Users/alecchapman/opt/miniconda3/envs/medspacy_pna_dec23/lib/python3.9/site-packages/medspacy/common/medspacy_matcher.py:80: UserWarning: [W036] The component 'matcher' does not have any patterns defined.\n",
      "  matches = self.matcher(doc)\n",
      "/Users/alecchapman/opt/miniconda3/envs/medspacy_pna_dec23/lib/python3.9/site-packages/medspacy/common/medspacy_matcher.py:80: UserWarning: [W036] The component 'matcher' does not have any patterns defined.\n",
      "  matches = self.matcher(doc)\n",
      "/Users/alecchapman/opt/miniconda3/envs/medspacy_pna_dec23/lib/python3.9/site-packages/medspacy/common/medspacy_matcher.py:80: UserWarning: [W036] The component 'matcher' does not have any patterns defined.\n",
      "  matches = self.matcher(doc)\n",
      "/Users/alecchapman/opt/miniconda3/envs/medspacy_pna_dec23/lib/python3.9/site-packages/medspacy/common/medspacy_matcher.py:80: UserWarning: [W036] The component 'matcher' does not have any patterns defined.\n",
      "  matches = self.matcher(doc)\n",
      "/Users/alecchapman/opt/miniconda3/envs/medspacy_pna_dec23/lib/python3.9/site-packages/medspacy/common/medspacy_matcher.py:80: UserWarning: [W036] The component 'matcher' does not have any patterns defined.\n",
      "  matches = self.matcher(doc)\n",
      "/Users/alecchapman/opt/miniconda3/envs/medspacy_pna_dec23/lib/python3.9/site-packages/medspacy/common/medspacy_matcher.py:80: UserWarning: [W036] The component 'matcher' does not have any patterns defined.\n",
      "  matches = self.matcher(doc)\n",
      "/Users/alecchapman/opt/miniconda3/envs/medspacy_pna_dec23/lib/python3.9/site-packages/medspacy/common/medspacy_matcher.py:80: UserWarning: [W036] The component 'matcher' does not have any patterns defined.\n",
      "  matches = self.matcher(doc)\n",
      "/Users/alecchapman/opt/miniconda3/envs/medspacy_pna_dec23/lib/python3.9/site-packages/medspacy/common/medspacy_matcher.py:80: UserWarning: [W036] The component 'matcher' does not have any patterns defined.\n",
      "  matches = self.matcher(doc)\n",
      "/Users/alecchapman/opt/miniconda3/envs/medspacy_pna_dec23/lib/python3.9/site-packages/medspacy/common/medspacy_matcher.py:80: UserWarning: [W036] The component 'matcher' does not have any patterns defined.\n",
      "  matches = self.matcher(doc)\n",
      "/Users/alecchapman/opt/miniconda3/envs/medspacy_pna_dec23/lib/python3.9/site-packages/medspacy/common/medspacy_matcher.py:80: UserWarning: [W036] The component 'matcher' does not have any patterns defined.\n",
      "  matches = self.matcher(doc)\n",
      "/Users/alecchapman/opt/miniconda3/envs/medspacy_pna_dec23/lib/python3.9/site-packages/medspacy/common/medspacy_matcher.py:80: UserWarning: [W036] The component 'matcher' does not have any patterns defined.\n",
      "  matches = self.matcher(doc)\n",
      "/Users/alecchapman/opt/miniconda3/envs/medspacy_pna_dec23/lib/python3.9/site-packages/medspacy/common/medspacy_matcher.py:80: UserWarning: [W036] The component 'matcher' does not have any patterns defined.\n",
      "  matches = self.matcher(doc)\n",
      "/Users/alecchapman/opt/miniconda3/envs/medspacy_pna_dec23/lib/python3.9/site-packages/medspacy/common/medspacy_matcher.py:80: UserWarning: [W036] The component 'matcher' does not have any patterns defined.\n",
      "  matches = self.matcher(doc)\n",
      "/Users/alecchapman/opt/miniconda3/envs/medspacy_pna_dec23/lib/python3.9/site-packages/medspacy/common/medspacy_matcher.py:80: UserWarning: [W036] The component 'matcher' does not have any patterns defined.\n",
      "  matches = self.matcher(doc)\n",
      "/Users/alecchapman/opt/miniconda3/envs/medspacy_pna_dec23/lib/python3.9/site-packages/medspacy/common/medspacy_matcher.py:80: UserWarning: [W036] The component 'matcher' does not have any patterns defined.\n",
      "  matches = self.matcher(doc)\n",
      "/Users/alecchapman/opt/miniconda3/envs/medspacy_pna_dec23/lib/python3.9/site-packages/medspacy/common/medspacy_matcher.py:80: UserWarning: [W036] The component 'matcher' does not have any patterns defined.\n",
      "  matches = self.matcher(doc)\n",
      "/Users/alecchapman/opt/miniconda3/envs/medspacy_pna_dec23/lib/python3.9/site-packages/medspacy/common/medspacy_matcher.py:80: UserWarning: [W036] The component 'matcher' does not have any patterns defined.\n",
      "  matches = self.matcher(doc)\n",
      "/Users/alecchapman/opt/miniconda3/envs/medspacy_pna_dec23/lib/python3.9/site-packages/medspacy/common/medspacy_matcher.py:80: UserWarning: [W036] The component 'matcher' does not have any patterns defined.\n",
      "  matches = self.matcher(doc)\n",
      "/Users/alecchapman/opt/miniconda3/envs/medspacy_pna_dec23/lib/python3.9/site-packages/medspacy/common/medspacy_matcher.py:80: UserWarning: [W036] The component 'matcher' does not have any patterns defined.\n",
      "  matches = self.matcher(doc)\n",
      "/Users/alecchapman/opt/miniconda3/envs/medspacy_pna_dec23/lib/python3.9/site-packages/medspacy/common/medspacy_matcher.py:80: UserWarning: [W036] The component 'matcher' does not have any patterns defined.\n",
      "  matches = self.matcher(doc)\n"
     ]
    }
   ],
   "source": [
    "df[\"doc\"] = list(nlp.pipe(df[\"text\"]))"
   ]
  },
  {
   "cell_type": "code",
   "execution_count": null,
   "metadata": {},
   "outputs": [],
   "source": []
  },
  {
   "cell_type": "code",
   "execution_count": 26,
   "metadata": {},
   "outputs": [],
   "source": [
    "df[\"baseline_document_classification\"] = [1*(doc._.document_classification != \"NEG\") for doc in df[\"doc\"]]\n"
   ]
  },
  {
   "cell_type": "code",
   "execution_count": 27,
   "metadata": {},
   "outputs": [],
   "source": [
    "df = df.rename({\"Pneumonia\": \"document_classification\"}, axis=1)"
   ]
  },
  {
   "cell_type": "code",
   "execution_count": 28,
   "metadata": {},
   "outputs": [],
   "source": [
    "df = df.sample(frac=1.0).reset_index(drop=True)"
   ]
  },
  {
   "cell_type": "code",
   "execution_count": 29,
   "metadata": {},
   "outputs": [],
   "source": [
    "n_train = int(0.8*200)"
   ]
  },
  {
   "cell_type": "code",
   "execution_count": 30,
   "metadata": {},
   "outputs": [
    {
     "data": {
      "text/plain": [
       "160"
      ]
     },
     "execution_count": 30,
     "metadata": {},
     "output_type": "execute_result"
    }
   ],
   "source": [
    "n_train"
   ]
  },
  {
   "cell_type": "code",
   "execution_count": 32,
   "metadata": {},
   "outputs": [],
   "source": [
    "train = df.query(\"split == 'train'\")\n",
    "train = df.query(\"split == 'test'\")"
   ]
  },
  {
   "cell_type": "code",
   "execution_count": 33,
   "metadata": {},
   "outputs": [],
   "source": [
    "ppv = train.query(\"baseline_document_classification == 1\")[\"document_classification\"].mean()\n",
    "sens = train.query(\"document_classification == 1\")[\"baseline_document_classification\"].mean()\n",
    "f1 = 2*(ppv*sens)/(ppv+sens)"
   ]
  },
  {
   "cell_type": "code",
   "execution_count": 34,
   "metadata": {},
   "outputs": [
    {
     "data": {
      "text/plain": [
       "(0.8, 0.8571428571428571, 0.8275862068965518)"
      ]
     },
     "execution_count": 34,
     "metadata": {},
     "output_type": "execute_result"
    }
   ],
   "source": [
    "(ppv, sens, f1)"
   ]
  },
  {
   "cell_type": "markdown",
   "metadata": {},
   "source": [
    "Create HTML's"
   ]
  },
  {
   "cell_type": "code",
   "execution_count": 35,
   "metadata": {},
   "outputs": [],
   "source": [
    "def parse_annotations(annotations):\n",
    "    return [parse_annotation(a) for a in annotations]\n",
    "\n",
    "def parse_annotation(annotation):\n",
    "    idx, label_span, text = annotation.split(\"\\t\")\n",
    "    label, start, end = label_span.split(\" \")\n",
    "    return {\"idx\": idx, \"label\": label,\n",
    "           \"start\": int(start), \"end\": int(end),\n",
    "           \"text\": text}"
   ]
  },
  {
   "cell_type": "code",
   "execution_count": 36,
   "metadata": {},
   "outputs": [],
   "source": [
    "\n",
    "def get_token_for_char(\n",
    "    doc, char_idx, resolve = \"left\"\n",
    "):\n",
    "    \"\"\"\n",
    "    Get the token index that best matches a particular character index. Because regex find returns a character index and\n",
    "    spaCy matches must align with token boundaries, each character index must be converted into a token index.\n",
    "\n",
    "    Args:\n",
    "        doc: The spaCy Doc to search in.\n",
    "        char_idx: The character index to find the corresponding token for.\n",
    "        resolve: The resolution type. \"left\" will snap character to the token index to the left which precede the\n",
    "        `char_idx`. \"right\" will snap character to the token index to the right, which follows the `char_idx`.\n",
    "\n",
    "    Returns:\n",
    "        The token that best fits the character index based on the resolution type.\n",
    "    \"\"\"\n",
    "    if char_idx < 0:\n",
    "        raise ValueError(\"char_idx must be > 0\")\n",
    "    if char_idx > len(doc.text_with_ws):\n",
    "        raise ValueError(\n",
    "            \"char_idx {0} is out of range for text with length {1}\".format(\n",
    "                char_idx, len(doc.text_with_ws)\n",
    "            )\n",
    "        )\n",
    "    for i, token in enumerate(doc):\n",
    "        if char_idx > token.idx:\n",
    "            continue\n",
    "        if char_idx == token.idx:\n",
    "            return token\n",
    "        if char_idx < token.idx:\n",
    "            if resolve == \"left\":\n",
    "                return doc[i - 1]\n",
    "            elif resolve == \"right\":\n",
    "                return doc[i]\n",
    "            else:\n",
    "                raise ValueError(\"resolve must be either 'left' or 'right'\")\n",
    "    # Otherwise, we've reached the end of the doc, so this must be the final token\n",
    "    # If resolving to the left, return the final token\n",
    "    # If resolving to the right, return None, meaning it should go to the end of the doc\n",
    "    if resolve == \"left\":\n",
    "        return doc[-1]\n",
    "    if resolve == \"right\":\n",
    "        return None\n"
   ]
  },
  {
   "cell_type": "code",
   "execution_count": 37,
   "metadata": {},
   "outputs": [],
   "source": [
    "from medspacy.visualization import visualize_ent"
   ]
  },
  {
   "cell_type": "code",
   "execution_count": 38,
   "metadata": {},
   "outputs": [],
   "source": [
    "from spacy.tokens import Span"
   ]
  },
  {
   "cell_type": "code",
   "execution_count": 39,
   "metadata": {},
   "outputs": [],
   "source": [
    "row = df.iloc[1]\n",
    "\n"
   ]
  },
  {
   "cell_type": "code",
   "execution_count": 40,
   "metadata": {},
   "outputs": [],
   "source": [
    "htmls = []\n",
    "for i, row in df.iterrows():\n",
    "    doc = row[\"doc\"]\n",
    "    annotations = parse_annotations(row[\"annotations\"])\n",
    "    ents = []\n",
    "    for anno in annotations:\n",
    "        if \"DOC\" in anno[\"label\"]:\n",
    "            continue\n",
    "        start = get_token_for_char(doc, anno[\"start\"], resolve=\"left\")\n",
    "        end = get_token_for_char(doc, min((anno[\"end\"], len(doc.text))), resolve=\"right\")\n",
    "        if end is None:\n",
    "            end = doc[-1]\n",
    "        span = Span(doc, start.i, end.i, label=anno[\"label\"])\n",
    "\n",
    "        ents.append(span)\n",
    "\n",
    "    doc.ents = ents\n",
    "    \n",
    "    html = f\"<h1>Document classification: {row['document_classification']}</h1>\"\n",
    "    html += visualize_ent(doc, jupyter=False, sections=False, context=False)\n",
    "    \n",
    "    htmls.append(html)"
   ]
  },
  {
   "cell_type": "code",
   "execution_count": 41,
   "metadata": {},
   "outputs": [],
   "source": [
    "df[\"html\"] = htmls"
   ]
  },
  {
   "cell_type": "code",
   "execution_count": 42,
   "metadata": {},
   "outputs": [],
   "source": [
    "from IPython.display import HTML"
   ]
  },
  {
   "cell_type": "code",
   "execution_count": 43,
   "metadata": {},
   "outputs": [
    {
     "data": {
      "text/html": [
       "<h1>Document classification: 1</h1><div class=\"entities\" style=\"line-height: 2.5; direction: ltr\"></br></br></br>     DATE: [**2623-2-13**] 2:12 PM</br>     CHEST (PORTABLE AP)                                             Clip # [**Clip Number (Radiology) 1237**]</br>     Reason: eval for desat                                              </br>     Admitting Diagnosis: CORONARY ARTERY DISEASE;PVD\\CATH AND L SFA INTERVENTION</br>     ______________________________________________________________________________</br>     UNDERLYING MEDICAL CONDITION:</br>      80 year old woman s/p cath and iliac stent                                      </br>     REASON FOR THIS EXAMINATION:</br>      eval for desat                                                                  </br>     ______________________________________________________________________________</br>                                     FINAL REPORT</br>     INDICATION:  An 80-year-old woman with iliac stent.  Desaturation.</br>     </br>     TECHNIQUE:  Portable AP chest radiograph.</br>     </br>     There is no previous chest radiograph for comparison.</br>     </br>     FINDINGS:</br>     </br>     The heart is normal in size.  The mediastinal and hilar contours are within normal limits.  Note is made of mild congestive heart failure.  Parenchymal consolidation is noted in left lower lobe, associated with bilateral small effusion.  Note is made of bilateral apical pleural thickening, probably associated with emphysema.</br>     </br>     IMPRESSION:</br>     </br>     1. Mild CHF.</br>     2. Left lower lobe \n",
       "<mark class=\"entity\" style=\"background: #1f77b4; padding: 0.45em 0.6em; margin: 0 0.25em; line-height: 1; border-radius: 0.35em;\">\n",
       "    consolidation with effusion, probably representing pneumonia.\n",
       "     3. Bilateral pleural\n",
       "    <span style=\"font-size: 0.8em; font-weight: bold; line-height: 1; border-radius: 0.35em; vertical-align: middle; margin-left: 0.5rem\">EVIDENCE_OF_PNEUMONIA</span>\n",
       "</mark>\n",
       " thickening with faint opacity in \n",
       "<mark class=\"entity\" style=\"background: #1f77b4; padding: 0.45em 0.6em; margin: 0 0.25em; line-height: 1; border-radius: 0.35em;\">\n",
       "    bilateral upper lobes,\n",
       "     which represent post\n",
       "    <span style=\"font-size: 0.8em; font-weight: bold; line-height: 1; border-radius: 0.35em; vertical-align: middle; margin-left: 0.5rem\">EVIDENCE_OF_PNEUMONIA</span>\n",
       "</mark>\n",
       "-radiation change, as the patient has a history, or prior tuberculosis infection or other parenchymal process, which needs clinical correlation and comparison with the prior study.</br></br></div>"
      ],
      "text/plain": [
       "<IPython.core.display.HTML object>"
      ]
     },
     "execution_count": 43,
     "metadata": {},
     "output_type": "execute_result"
    }
   ],
   "source": [
    "HTML(html)"
   ]
  },
  {
   "cell_type": "code",
   "execution_count": null,
   "metadata": {},
   "outputs": [],
   "source": []
  },
  {
   "cell_type": "code",
   "execution_count": 44,
   "metadata": {
    "scrolled": true
   },
   "outputs": [
    {
     "data": {
      "text/html": [
       "<div>\n",
       "<style scoped>\n",
       "    .dataframe tbody tr th:only-of-type {\n",
       "        vertical-align: middle;\n",
       "    }\n",
       "\n",
       "    .dataframe tbody tr th {\n",
       "        vertical-align: top;\n",
       "    }\n",
       "\n",
       "    .dataframe thead th {\n",
       "        text-align: right;\n",
       "    }\n",
       "</style>\n",
       "<table border=\"1\" class=\"dataframe\">\n",
       "  <thead>\n",
       "    <tr style=\"text-align: right;\">\n",
       "      <th></th>\n",
       "      <th>record_id</th>\n",
       "      <th>text</th>\n",
       "      <th>annotations</th>\n",
       "      <th>document_classification</th>\n",
       "      <th>split</th>\n",
       "      <th>doc</th>\n",
       "      <th>baseline_document_classification</th>\n",
       "      <th>html</th>\n",
       "    </tr>\n",
       "  </thead>\n",
       "  <tbody>\n",
       "    <tr>\n",
       "      <th>0</th>\n",
       "      <td>subject_id_157_hadm_id_26180</td>\n",
       "      <td>\\n\\n\\n     DATE: [**3128-5-28**] 10:42 AM\\n   ...</td>\n",
       "      <td>[T1\\tEVIDENCE_OF_PNEUMONIA 1293 1404\\tthere is...</td>\n",
       "      <td>1</td>\n",
       "      <td>train</td>\n",
       "      <td>(\\n\\n\\n     , DATE, :, [, *, *, 3128, -, 5, -,...</td>\n",
       "      <td>0</td>\n",
       "      <td>&lt;h1&gt;Document classification: 1&lt;/h1&gt;&lt;div class=...</td>\n",
       "    </tr>\n",
       "    <tr>\n",
       "      <th>1</th>\n",
       "      <td>subject_id_5738_hadm_id_18933</td>\n",
       "      <td>\\n\\n\\n     DATE: [**3452-7-19**] 6:27 PM\\n    ...</td>\n",
       "      <td>[T1\\tEVIDENCE_OF_PNEUMONIA 1663 1733\\tIMPRESSI...</td>\n",
       "      <td>1</td>\n",
       "      <td>test</td>\n",
       "      <td>(\\n\\n\\n     , DATE, :, [, *, *, 3452, -, 7, -,...</td>\n",
       "      <td>1</td>\n",
       "      <td>&lt;h1&gt;Document classification: 1&lt;/h1&gt;&lt;div class=...</td>\n",
       "    </tr>\n",
       "    <tr>\n",
       "      <th>2</th>\n",
       "      <td>subject_id_4276_hadm_id_25705</td>\n",
       "      <td>\\n\\n\\n     DATE: [**3227-9-10**] 11:01 AM\\n   ...</td>\n",
       "      <td>[T1\\tEVIDENCE_OF_PNEUMONIA 1496 1582\\tNew biba...</td>\n",
       "      <td>1</td>\n",
       "      <td>test</td>\n",
       "      <td>(\\n\\n\\n     , DATE, :, [, *, *, 3227, -, 9, -,...</td>\n",
       "      <td>1</td>\n",
       "      <td>&lt;h1&gt;Document classification: 1&lt;/h1&gt;&lt;div class=...</td>\n",
       "    </tr>\n",
       "    <tr>\n",
       "      <th>3</th>\n",
       "      <td>subject_id_7272_hadm_id_19098</td>\n",
       "      <td>\\n\\n\\n     DATE: [**2699-1-5**] 12:25 AM\\n    ...</td>\n",
       "      <td>[T1\\tEVIDENCE_OF_PNEUMONIA 1455 1511\\tCollapse...</td>\n",
       "      <td>1</td>\n",
       "      <td>train</td>\n",
       "      <td>(\\n\\n\\n     , DATE, :, [, *, *, 2699, -, 1, -,...</td>\n",
       "      <td>1</td>\n",
       "      <td>&lt;h1&gt;Document classification: 1&lt;/h1&gt;&lt;div class=...</td>\n",
       "    </tr>\n",
       "    <tr>\n",
       "      <th>4</th>\n",
       "      <td>subject_id_224_hadm_id_11004</td>\n",
       "      <td>\\n\\n\\n     DATE: [**3025-2-17**] 2:34 PM\\n    ...</td>\n",
       "      <td>[T1\\tEVIDENCE_OF_PNEUMONIA 957 1039\\tIll-defin...</td>\n",
       "      <td>1</td>\n",
       "      <td>test</td>\n",
       "      <td>(\\n\\n\\n     , DATE, :, [, *, *, 3025, -, 2, -,...</td>\n",
       "      <td>1</td>\n",
       "      <td>&lt;h1&gt;Document classification: 1&lt;/h1&gt;&lt;div class=...</td>\n",
       "    </tr>\n",
       "  </tbody>\n",
       "</table>\n",
       "</div>"
      ],
      "text/plain": [
       "                       record_id  \\\n",
       "0   subject_id_157_hadm_id_26180   \n",
       "1  subject_id_5738_hadm_id_18933   \n",
       "2  subject_id_4276_hadm_id_25705   \n",
       "3  subject_id_7272_hadm_id_19098   \n",
       "4   subject_id_224_hadm_id_11004   \n",
       "\n",
       "                                                text  \\\n",
       "0  \\n\\n\\n     DATE: [**3128-5-28**] 10:42 AM\\n   ...   \n",
       "1  \\n\\n\\n     DATE: [**3452-7-19**] 6:27 PM\\n    ...   \n",
       "2  \\n\\n\\n     DATE: [**3227-9-10**] 11:01 AM\\n   ...   \n",
       "3  \\n\\n\\n     DATE: [**2699-1-5**] 12:25 AM\\n    ...   \n",
       "4  \\n\\n\\n     DATE: [**3025-2-17**] 2:34 PM\\n    ...   \n",
       "\n",
       "                                         annotations  document_classification  \\\n",
       "0  [T1\\tEVIDENCE_OF_PNEUMONIA 1293 1404\\tthere is...                        1   \n",
       "1  [T1\\tEVIDENCE_OF_PNEUMONIA 1663 1733\\tIMPRESSI...                        1   \n",
       "2  [T1\\tEVIDENCE_OF_PNEUMONIA 1496 1582\\tNew biba...                        1   \n",
       "3  [T1\\tEVIDENCE_OF_PNEUMONIA 1455 1511\\tCollapse...                        1   \n",
       "4  [T1\\tEVIDENCE_OF_PNEUMONIA 957 1039\\tIll-defin...                        1   \n",
       "\n",
       "   split                                                doc  \\\n",
       "0  train  (\\n\\n\\n     , DATE, :, [, *, *, 3128, -, 5, -,...   \n",
       "1   test  (\\n\\n\\n     , DATE, :, [, *, *, 3452, -, 7, -,...   \n",
       "2   test  (\\n\\n\\n     , DATE, :, [, *, *, 3227, -, 9, -,...   \n",
       "3  train  (\\n\\n\\n     , DATE, :, [, *, *, 2699, -, 1, -,...   \n",
       "4   test  (\\n\\n\\n     , DATE, :, [, *, *, 3025, -, 2, -,...   \n",
       "\n",
       "   baseline_document_classification  \\\n",
       "0                                 0   \n",
       "1                                 1   \n",
       "2                                 1   \n",
       "3                                 1   \n",
       "4                                 1   \n",
       "\n",
       "                                                html  \n",
       "0  <h1>Document classification: 1</h1><div class=...  \n",
       "1  <h1>Document classification: 1</h1><div class=...  \n",
       "2  <h1>Document classification: 1</h1><div class=...  \n",
       "3  <h1>Document classification: 1</h1><div class=...  \n",
       "4  <h1>Document classification: 1</h1><div class=...  "
      ]
     },
     "execution_count": 44,
     "metadata": {},
     "output_type": "execute_result"
    }
   ],
   "source": [
    "df.head()"
   ]
  },
  {
   "cell_type": "code",
   "execution_count": 46,
   "metadata": {},
   "outputs": [],
   "source": [
    "df_out = df[\n",
    "    [\"record_id\", \"text\", \"document_classification\", \"split\",\n",
    "     \"baseline_document_classification\", \"html\"]\n",
    "].copy()\n"
   ]
  },
  {
   "cell_type": "code",
   "execution_count": 50,
   "metadata": {},
   "outputs": [],
   "source": [
    "df_out.query(\"split == 'train'\").to_pickle(\"../data/pneumonia_data/pneumonia.pkl\")"
   ]
  },
  {
   "cell_type": "code",
   "execution_count": 48,
   "metadata": {},
   "outputs": [],
   "source": [
    "df_out.query(\"split == 'train'\").to_pickle(\"../data/pneumonia_data/train.pkl\")"
   ]
  },
  {
   "cell_type": "code",
   "execution_count": 49,
   "metadata": {},
   "outputs": [],
   "source": [
    "df_out.query(\"split == 'test'\").to_pickle(\"../data/pneumonia_data/test.pkl\")\n"
   ]
  },
  {
   "cell_type": "code",
   "execution_count": null,
   "metadata": {},
   "outputs": [],
   "source": []
  },
  {
   "cell_type": "code",
   "execution_count": null,
   "metadata": {},
   "outputs": [],
   "source": []
  }
 ],
 "metadata": {
  "kernelspec": {
   "display_name": "Python 3 (ipykernel)",
   "language": "python",
   "name": "python3"
  },
  "language_info": {
   "codemirror_mode": {
    "name": "ipython",
    "version": 3
   },
   "file_extension": ".py",
   "mimetype": "text/x-python",
   "name": "python",
   "nbconvert_exporter": "python",
   "pygments_lexer": "ipython3",
   "version": "3.9.18"
  }
 },
 "nbformat": 4,
 "nbformat_minor": 4
}
