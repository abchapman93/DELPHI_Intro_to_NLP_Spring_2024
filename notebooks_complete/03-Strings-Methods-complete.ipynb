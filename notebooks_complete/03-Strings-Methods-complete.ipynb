{
 "cells": [
  {
   "cell_type": "markdown",
   "id": "a96f3930",
   "metadata": {},
   "source": [
    "\n",
    "<img src=\"https://github.com/abchapman93/DELPHI_Intro_to_NLP_Spring_2024/blob/main/media/DELPHI-long.png?raw=true\" size=\"20%\">\n",
    "</br>\n",
    "\n",
    "<h1 valign=\"center\" align=\"center\"><font size=\"+150\">Introduction to NLP in Python</br>Spring 2024</font></h1>"
   ]
  },
  {
   "cell_type": "code",
   "execution_count": 59,
   "id": "45346eb6-08b8-4cee-8f2f-41b05e0f943e",
   "metadata": {},
   "outputs": [
    {
     "name": "stdout",
     "output_type": "stream",
     "text": [
      "Collecting https://github.com/abchapman93/DELPHI_Intro_to_NLP_Spring_2024/releases/download/v0.1/delphi_nlp_2024-0.1.tar.gz\n",
      "  Downloading https://github.com/abchapman93/DELPHI_Intro_to_NLP_Spring_2024/releases/download/v0.1/delphi_nlp_2024-0.1.tar.gz (13 kB)\n",
      "  Preparing metadata (setup.py) ... \u001b[?25ldone\n",
      "\u001b[?25hRequirement already satisfied: jupyter in /Users/alecchapman/opt/miniconda3/envs/delphi-nlp/lib/python3.10/site-packages (from delphi-nlp-2024==0.1) (1.0.0)\n",
      "Requirement already satisfied: notebook in /Users/alecchapman/opt/miniconda3/envs/delphi-nlp/lib/python3.10/site-packages (from jupyter->delphi-nlp-2024==0.1) (7.1.0)\n",
      "Requirement already satisfied: qtconsole in /Users/alecchapman/opt/miniconda3/envs/delphi-nlp/lib/python3.10/site-packages (from jupyter->delphi-nlp-2024==0.1) (5.5.1)\n",
      "Requirement already satisfied: jupyter-console in /Users/alecchapman/opt/miniconda3/envs/delphi-nlp/lib/python3.10/site-packages (from jupyter->delphi-nlp-2024==0.1) (6.6.3)\n",
      "Requirement already satisfied: nbconvert in /Users/alecchapman/opt/miniconda3/envs/delphi-nlp/lib/python3.10/site-packages (from jupyter->delphi-nlp-2024==0.1) (7.16.0)\n",
      "Requirement already satisfied: ipykernel in /Users/alecchapman/opt/miniconda3/envs/delphi-nlp/lib/python3.10/site-packages (from jupyter->delphi-nlp-2024==0.1) (6.29.2)\n",
      "Requirement already satisfied: ipywidgets in /Users/alecchapman/opt/miniconda3/envs/delphi-nlp/lib/python3.10/site-packages (from jupyter->delphi-nlp-2024==0.1) (8.1.2)\n",
      "Requirement already satisfied: appnope in /Users/alecchapman/opt/miniconda3/envs/delphi-nlp/lib/python3.10/site-packages (from ipykernel->jupyter->delphi-nlp-2024==0.1) (0.1.4)\n",
      "Requirement already satisfied: comm>=0.1.1 in /Users/alecchapman/opt/miniconda3/envs/delphi-nlp/lib/python3.10/site-packages (from ipykernel->jupyter->delphi-nlp-2024==0.1) (0.2.1)\n",
      "Requirement already satisfied: debugpy>=1.6.5 in /Users/alecchapman/opt/miniconda3/envs/delphi-nlp/lib/python3.10/site-packages (from ipykernel->jupyter->delphi-nlp-2024==0.1) (1.8.1)\n",
      "Requirement already satisfied: ipython>=7.23.1 in /Users/alecchapman/opt/miniconda3/envs/delphi-nlp/lib/python3.10/site-packages (from ipykernel->jupyter->delphi-nlp-2024==0.1) (8.21.0)\n",
      "Requirement already satisfied: jupyter-client>=6.1.12 in /Users/alecchapman/opt/miniconda3/envs/delphi-nlp/lib/python3.10/site-packages (from ipykernel->jupyter->delphi-nlp-2024==0.1) (8.6.0)\n",
      "Requirement already satisfied: jupyter-core!=5.0.*,>=4.12 in /Users/alecchapman/opt/miniconda3/envs/delphi-nlp/lib/python3.10/site-packages (from ipykernel->jupyter->delphi-nlp-2024==0.1) (5.7.1)\n",
      "Requirement already satisfied: matplotlib-inline>=0.1 in /Users/alecchapman/opt/miniconda3/envs/delphi-nlp/lib/python3.10/site-packages (from ipykernel->jupyter->delphi-nlp-2024==0.1) (0.1.6)\n",
      "Requirement already satisfied: nest-asyncio in /Users/alecchapman/opt/miniconda3/envs/delphi-nlp/lib/python3.10/site-packages (from ipykernel->jupyter->delphi-nlp-2024==0.1) (1.6.0)\n",
      "Requirement already satisfied: packaging in /Users/alecchapman/opt/miniconda3/envs/delphi-nlp/lib/python3.10/site-packages (from ipykernel->jupyter->delphi-nlp-2024==0.1) (23.2)\n",
      "Requirement already satisfied: psutil in /Users/alecchapman/opt/miniconda3/envs/delphi-nlp/lib/python3.10/site-packages (from ipykernel->jupyter->delphi-nlp-2024==0.1) (5.9.8)\n",
      "Requirement already satisfied: pyzmq>=24 in /Users/alecchapman/opt/miniconda3/envs/delphi-nlp/lib/python3.10/site-packages (from ipykernel->jupyter->delphi-nlp-2024==0.1) (25.1.2)\n",
      "Requirement already satisfied: tornado>=6.1 in /Users/alecchapman/opt/miniconda3/envs/delphi-nlp/lib/python3.10/site-packages (from ipykernel->jupyter->delphi-nlp-2024==0.1) (6.4)\n",
      "Requirement already satisfied: traitlets>=5.4.0 in /Users/alecchapman/opt/miniconda3/envs/delphi-nlp/lib/python3.10/site-packages (from ipykernel->jupyter->delphi-nlp-2024==0.1) (5.14.1)\n",
      "Requirement already satisfied: widgetsnbextension~=4.0.10 in /Users/alecchapman/opt/miniconda3/envs/delphi-nlp/lib/python3.10/site-packages (from ipywidgets->jupyter->delphi-nlp-2024==0.1) (4.0.10)\n",
      "Requirement already satisfied: jupyterlab-widgets~=3.0.10 in /Users/alecchapman/opt/miniconda3/envs/delphi-nlp/lib/python3.10/site-packages (from ipywidgets->jupyter->delphi-nlp-2024==0.1) (3.0.10)\n",
      "Requirement already satisfied: prompt-toolkit>=3.0.30 in /Users/alecchapman/opt/miniconda3/envs/delphi-nlp/lib/python3.10/site-packages (from jupyter-console->jupyter->delphi-nlp-2024==0.1) (3.0.43)\n",
      "Requirement already satisfied: pygments in /Users/alecchapman/opt/miniconda3/envs/delphi-nlp/lib/python3.10/site-packages (from jupyter-console->jupyter->delphi-nlp-2024==0.1) (2.17.2)\n",
      "Requirement already satisfied: beautifulsoup4 in /Users/alecchapman/opt/miniconda3/envs/delphi-nlp/lib/python3.10/site-packages (from nbconvert->jupyter->delphi-nlp-2024==0.1) (4.12.3)\n",
      "Requirement already satisfied: bleach!=5.0.0 in /Users/alecchapman/opt/miniconda3/envs/delphi-nlp/lib/python3.10/site-packages (from nbconvert->jupyter->delphi-nlp-2024==0.1) (6.1.0)\n",
      "Requirement already satisfied: defusedxml in /Users/alecchapman/opt/miniconda3/envs/delphi-nlp/lib/python3.10/site-packages (from nbconvert->jupyter->delphi-nlp-2024==0.1) (0.7.1)\n",
      "Requirement already satisfied: jinja2>=3.0 in /Users/alecchapman/opt/miniconda3/envs/delphi-nlp/lib/python3.10/site-packages (from nbconvert->jupyter->delphi-nlp-2024==0.1) (3.1.3)\n",
      "Requirement already satisfied: jupyterlab-pygments in /Users/alecchapman/opt/miniconda3/envs/delphi-nlp/lib/python3.10/site-packages (from nbconvert->jupyter->delphi-nlp-2024==0.1) (0.3.0)\n",
      "Requirement already satisfied: markupsafe>=2.0 in /Users/alecchapman/opt/miniconda3/envs/delphi-nlp/lib/python3.10/site-packages (from nbconvert->jupyter->delphi-nlp-2024==0.1) (2.1.5)\n",
      "Requirement already satisfied: mistune<4,>=2.0.3 in /Users/alecchapman/opt/miniconda3/envs/delphi-nlp/lib/python3.10/site-packages (from nbconvert->jupyter->delphi-nlp-2024==0.1) (3.0.2)\n",
      "Requirement already satisfied: nbclient>=0.5.0 in /Users/alecchapman/opt/miniconda3/envs/delphi-nlp/lib/python3.10/site-packages (from nbconvert->jupyter->delphi-nlp-2024==0.1) (0.9.0)\n",
      "Requirement already satisfied: nbformat>=5.7 in /Users/alecchapman/opt/miniconda3/envs/delphi-nlp/lib/python3.10/site-packages (from nbconvert->jupyter->delphi-nlp-2024==0.1) (5.9.2)\n",
      "Requirement already satisfied: pandocfilters>=1.4.1 in /Users/alecchapman/opt/miniconda3/envs/delphi-nlp/lib/python3.10/site-packages (from nbconvert->jupyter->delphi-nlp-2024==0.1) (1.5.1)\n",
      "Requirement already satisfied: tinycss2 in /Users/alecchapman/opt/miniconda3/envs/delphi-nlp/lib/python3.10/site-packages (from nbconvert->jupyter->delphi-nlp-2024==0.1) (1.2.1)\n",
      "Requirement already satisfied: jupyter-server<3,>=2.4.0 in /Users/alecchapman/opt/miniconda3/envs/delphi-nlp/lib/python3.10/site-packages (from notebook->jupyter->delphi-nlp-2024==0.1) (2.12.5)\n",
      "Requirement already satisfied: jupyterlab-server<3,>=2.22.1 in /Users/alecchapman/opt/miniconda3/envs/delphi-nlp/lib/python3.10/site-packages (from notebook->jupyter->delphi-nlp-2024==0.1) (2.25.3)\n",
      "Requirement already satisfied: jupyterlab<4.2,>=4.1.1 in /Users/alecchapman/opt/miniconda3/envs/delphi-nlp/lib/python3.10/site-packages (from notebook->jupyter->delphi-nlp-2024==0.1) (4.1.1)\n",
      "Requirement already satisfied: notebook-shim<0.3,>=0.2 in /Users/alecchapman/opt/miniconda3/envs/delphi-nlp/lib/python3.10/site-packages (from notebook->jupyter->delphi-nlp-2024==0.1) (0.2.4)\n",
      "Requirement already satisfied: qtpy>=2.4.0 in /Users/alecchapman/opt/miniconda3/envs/delphi-nlp/lib/python3.10/site-packages (from qtconsole->jupyter->delphi-nlp-2024==0.1) (2.4.1)\n",
      "Requirement already satisfied: six>=1.9.0 in /Users/alecchapman/opt/miniconda3/envs/delphi-nlp/lib/python3.10/site-packages (from bleach!=5.0.0->nbconvert->jupyter->delphi-nlp-2024==0.1) (1.16.0)\n",
      "Requirement already satisfied: webencodings in /Users/alecchapman/opt/miniconda3/envs/delphi-nlp/lib/python3.10/site-packages (from bleach!=5.0.0->nbconvert->jupyter->delphi-nlp-2024==0.1) (0.5.1)\n",
      "Requirement already satisfied: decorator in /Users/alecchapman/opt/miniconda3/envs/delphi-nlp/lib/python3.10/site-packages (from ipython>=7.23.1->ipykernel->jupyter->delphi-nlp-2024==0.1) (5.1.1)\n",
      "Requirement already satisfied: jedi>=0.16 in /Users/alecchapman/opt/miniconda3/envs/delphi-nlp/lib/python3.10/site-packages (from ipython>=7.23.1->ipykernel->jupyter->delphi-nlp-2024==0.1) (0.19.1)\n",
      "Requirement already satisfied: stack-data in /Users/alecchapman/opt/miniconda3/envs/delphi-nlp/lib/python3.10/site-packages (from ipython>=7.23.1->ipykernel->jupyter->delphi-nlp-2024==0.1) (0.6.3)\n",
      "Requirement already satisfied: exceptiongroup in /Users/alecchapman/opt/miniconda3/envs/delphi-nlp/lib/python3.10/site-packages (from ipython>=7.23.1->ipykernel->jupyter->delphi-nlp-2024==0.1) (1.2.0)\n",
      "Requirement already satisfied: pexpect>4.3 in /Users/alecchapman/opt/miniconda3/envs/delphi-nlp/lib/python3.10/site-packages (from ipython>=7.23.1->ipykernel->jupyter->delphi-nlp-2024==0.1) (4.9.0)\n",
      "Requirement already satisfied: python-dateutil>=2.8.2 in /Users/alecchapman/opt/miniconda3/envs/delphi-nlp/lib/python3.10/site-packages (from jupyter-client>=6.1.12->ipykernel->jupyter->delphi-nlp-2024==0.1) (2.8.2)\n",
      "Requirement already satisfied: platformdirs>=2.5 in /Users/alecchapman/opt/miniconda3/envs/delphi-nlp/lib/python3.10/site-packages (from jupyter-core!=5.0.*,>=4.12->ipykernel->jupyter->delphi-nlp-2024==0.1) (4.2.0)\n",
      "Requirement already satisfied: anyio>=3.1.0 in /Users/alecchapman/opt/miniconda3/envs/delphi-nlp/lib/python3.10/site-packages (from jupyter-server<3,>=2.4.0->notebook->jupyter->delphi-nlp-2024==0.1) (4.2.0)\n",
      "Requirement already satisfied: argon2-cffi in /Users/alecchapman/opt/miniconda3/envs/delphi-nlp/lib/python3.10/site-packages (from jupyter-server<3,>=2.4.0->notebook->jupyter->delphi-nlp-2024==0.1) (23.1.0)\n",
      "Requirement already satisfied: jupyter-events>=0.9.0 in /Users/alecchapman/opt/miniconda3/envs/delphi-nlp/lib/python3.10/site-packages (from jupyter-server<3,>=2.4.0->notebook->jupyter->delphi-nlp-2024==0.1) (0.9.0)\n",
      "Requirement already satisfied: jupyter-server-terminals in /Users/alecchapman/opt/miniconda3/envs/delphi-nlp/lib/python3.10/site-packages (from jupyter-server<3,>=2.4.0->notebook->jupyter->delphi-nlp-2024==0.1) (0.5.2)\n",
      "Requirement already satisfied: overrides in /Users/alecchapman/opt/miniconda3/envs/delphi-nlp/lib/python3.10/site-packages (from jupyter-server<3,>=2.4.0->notebook->jupyter->delphi-nlp-2024==0.1) (7.7.0)\n",
      "Requirement already satisfied: prometheus-client in /Users/alecchapman/opt/miniconda3/envs/delphi-nlp/lib/python3.10/site-packages (from jupyter-server<3,>=2.4.0->notebook->jupyter->delphi-nlp-2024==0.1) (0.20.0)\n",
      "Requirement already satisfied: send2trash>=1.8.2 in /Users/alecchapman/opt/miniconda3/envs/delphi-nlp/lib/python3.10/site-packages (from jupyter-server<3,>=2.4.0->notebook->jupyter->delphi-nlp-2024==0.1) (1.8.2)\n",
      "Requirement already satisfied: terminado>=0.8.3 in /Users/alecchapman/opt/miniconda3/envs/delphi-nlp/lib/python3.10/site-packages (from jupyter-server<3,>=2.4.0->notebook->jupyter->delphi-nlp-2024==0.1) (0.18.0)\n",
      "Requirement already satisfied: websocket-client in /Users/alecchapman/opt/miniconda3/envs/delphi-nlp/lib/python3.10/site-packages (from jupyter-server<3,>=2.4.0->notebook->jupyter->delphi-nlp-2024==0.1) (1.7.0)\n",
      "Requirement already satisfied: async-lru>=1.0.0 in /Users/alecchapman/opt/miniconda3/envs/delphi-nlp/lib/python3.10/site-packages (from jupyterlab<4.2,>=4.1.1->notebook->jupyter->delphi-nlp-2024==0.1) (2.0.4)\n",
      "Requirement already satisfied: httpx>=0.25.0 in /Users/alecchapman/opt/miniconda3/envs/delphi-nlp/lib/python3.10/site-packages (from jupyterlab<4.2,>=4.1.1->notebook->jupyter->delphi-nlp-2024==0.1) (0.26.0)\n",
      "Requirement already satisfied: jupyter-lsp>=2.0.0 in /Users/alecchapman/opt/miniconda3/envs/delphi-nlp/lib/python3.10/site-packages (from jupyterlab<4.2,>=4.1.1->notebook->jupyter->delphi-nlp-2024==0.1) (2.2.2)\n",
      "Requirement already satisfied: tomli in /Users/alecchapman/opt/miniconda3/envs/delphi-nlp/lib/python3.10/site-packages (from jupyterlab<4.2,>=4.1.1->notebook->jupyter->delphi-nlp-2024==0.1) (2.0.1)\n",
      "Requirement already satisfied: babel>=2.10 in /Users/alecchapman/opt/miniconda3/envs/delphi-nlp/lib/python3.10/site-packages (from jupyterlab-server<3,>=2.22.1->notebook->jupyter->delphi-nlp-2024==0.1) (2.14.0)\n",
      "Requirement already satisfied: json5>=0.9.0 in /Users/alecchapman/opt/miniconda3/envs/delphi-nlp/lib/python3.10/site-packages (from jupyterlab-server<3,>=2.22.1->notebook->jupyter->delphi-nlp-2024==0.1) (0.9.14)\n",
      "Requirement already satisfied: jsonschema>=4.18.0 in /Users/alecchapman/opt/miniconda3/envs/delphi-nlp/lib/python3.10/site-packages (from jupyterlab-server<3,>=2.22.1->notebook->jupyter->delphi-nlp-2024==0.1) (4.21.1)\n",
      "Requirement already satisfied: requests>=2.31 in /Users/alecchapman/opt/miniconda3/envs/delphi-nlp/lib/python3.10/site-packages (from jupyterlab-server<3,>=2.22.1->notebook->jupyter->delphi-nlp-2024==0.1) (2.31.0)\n",
      "Requirement already satisfied: fastjsonschema in /Users/alecchapman/opt/miniconda3/envs/delphi-nlp/lib/python3.10/site-packages (from nbformat>=5.7->nbconvert->jupyter->delphi-nlp-2024==0.1) (2.19.1)\n",
      "Requirement already satisfied: wcwidth in /Users/alecchapman/opt/miniconda3/envs/delphi-nlp/lib/python3.10/site-packages (from prompt-toolkit>=3.0.30->jupyter-console->jupyter->delphi-nlp-2024==0.1) (0.2.13)\n",
      "Requirement already satisfied: soupsieve>1.2 in /Users/alecchapman/opt/miniconda3/envs/delphi-nlp/lib/python3.10/site-packages (from beautifulsoup4->nbconvert->jupyter->delphi-nlp-2024==0.1) (2.5)\n",
      "Requirement already satisfied: idna>=2.8 in /Users/alecchapman/opt/miniconda3/envs/delphi-nlp/lib/python3.10/site-packages (from anyio>=3.1.0->jupyter-server<3,>=2.4.0->notebook->jupyter->delphi-nlp-2024==0.1) (3.6)\n",
      "Requirement already satisfied: sniffio>=1.1 in /Users/alecchapman/opt/miniconda3/envs/delphi-nlp/lib/python3.10/site-packages (from anyio>=3.1.0->jupyter-server<3,>=2.4.0->notebook->jupyter->delphi-nlp-2024==0.1) (1.3.0)\n",
      "Requirement already satisfied: typing-extensions>=4.1 in /Users/alecchapman/opt/miniconda3/envs/delphi-nlp/lib/python3.10/site-packages (from anyio>=3.1.0->jupyter-server<3,>=2.4.0->notebook->jupyter->delphi-nlp-2024==0.1) (4.9.0)\n",
      "Requirement already satisfied: certifi in /Users/alecchapman/opt/miniconda3/envs/delphi-nlp/lib/python3.10/site-packages (from httpx>=0.25.0->jupyterlab<4.2,>=4.1.1->notebook->jupyter->delphi-nlp-2024==0.1) (2024.2.2)\n",
      "Requirement already satisfied: httpcore==1.* in /Users/alecchapman/opt/miniconda3/envs/delphi-nlp/lib/python3.10/site-packages (from httpx>=0.25.0->jupyterlab<4.2,>=4.1.1->notebook->jupyter->delphi-nlp-2024==0.1) (1.0.3)\n",
      "Requirement already satisfied: h11<0.15,>=0.13 in /Users/alecchapman/opt/miniconda3/envs/delphi-nlp/lib/python3.10/site-packages (from httpcore==1.*->httpx>=0.25.0->jupyterlab<4.2,>=4.1.1->notebook->jupyter->delphi-nlp-2024==0.1) (0.14.0)\n",
      "Requirement already satisfied: parso<0.9.0,>=0.8.3 in /Users/alecchapman/opt/miniconda3/envs/delphi-nlp/lib/python3.10/site-packages (from jedi>=0.16->ipython>=7.23.1->ipykernel->jupyter->delphi-nlp-2024==0.1) (0.8.3)\n",
      "Requirement already satisfied: attrs>=22.2.0 in /Users/alecchapman/opt/miniconda3/envs/delphi-nlp/lib/python3.10/site-packages (from jsonschema>=4.18.0->jupyterlab-server<3,>=2.22.1->notebook->jupyter->delphi-nlp-2024==0.1) (23.2.0)\n",
      "Requirement already satisfied: jsonschema-specifications>=2023.03.6 in /Users/alecchapman/opt/miniconda3/envs/delphi-nlp/lib/python3.10/site-packages (from jsonschema>=4.18.0->jupyterlab-server<3,>=2.22.1->notebook->jupyter->delphi-nlp-2024==0.1) (2023.12.1)\n",
      "Requirement already satisfied: referencing>=0.28.4 in /Users/alecchapman/opt/miniconda3/envs/delphi-nlp/lib/python3.10/site-packages (from jsonschema>=4.18.0->jupyterlab-server<3,>=2.22.1->notebook->jupyter->delphi-nlp-2024==0.1) (0.33.0)\n",
      "Requirement already satisfied: rpds-py>=0.7.1 in /Users/alecchapman/opt/miniconda3/envs/delphi-nlp/lib/python3.10/site-packages (from jsonschema>=4.18.0->jupyterlab-server<3,>=2.22.1->notebook->jupyter->delphi-nlp-2024==0.1) (0.18.0)\n",
      "Requirement already satisfied: python-json-logger>=2.0.4 in /Users/alecchapman/opt/miniconda3/envs/delphi-nlp/lib/python3.10/site-packages (from jupyter-events>=0.9.0->jupyter-server<3,>=2.4.0->notebook->jupyter->delphi-nlp-2024==0.1) (2.0.7)\n",
      "Requirement already satisfied: pyyaml>=5.3 in /Users/alecchapman/opt/miniconda3/envs/delphi-nlp/lib/python3.10/site-packages (from jupyter-events>=0.9.0->jupyter-server<3,>=2.4.0->notebook->jupyter->delphi-nlp-2024==0.1) (6.0.1)\n",
      "Requirement already satisfied: rfc3339-validator in /Users/alecchapman/opt/miniconda3/envs/delphi-nlp/lib/python3.10/site-packages (from jupyter-events>=0.9.0->jupyter-server<3,>=2.4.0->notebook->jupyter->delphi-nlp-2024==0.1) (0.1.4)\n",
      "Requirement already satisfied: rfc3986-validator>=0.1.1 in /Users/alecchapman/opt/miniconda3/envs/delphi-nlp/lib/python3.10/site-packages (from jupyter-events>=0.9.0->jupyter-server<3,>=2.4.0->notebook->jupyter->delphi-nlp-2024==0.1) (0.1.1)\n",
      "Requirement already satisfied: ptyprocess>=0.5 in /Users/alecchapman/opt/miniconda3/envs/delphi-nlp/lib/python3.10/site-packages (from pexpect>4.3->ipython>=7.23.1->ipykernel->jupyter->delphi-nlp-2024==0.1) (0.7.0)\n",
      "Requirement already satisfied: charset-normalizer<4,>=2 in /Users/alecchapman/opt/miniconda3/envs/delphi-nlp/lib/python3.10/site-packages (from requests>=2.31->jupyterlab-server<3,>=2.22.1->notebook->jupyter->delphi-nlp-2024==0.1) (3.3.2)\n",
      "Requirement already satisfied: urllib3<3,>=1.21.1 in /Users/alecchapman/opt/miniconda3/envs/delphi-nlp/lib/python3.10/site-packages (from requests>=2.31->jupyterlab-server<3,>=2.22.1->notebook->jupyter->delphi-nlp-2024==0.1) (2.2.1)\n",
      "Requirement already satisfied: argon2-cffi-bindings in /Users/alecchapman/opt/miniconda3/envs/delphi-nlp/lib/python3.10/site-packages (from argon2-cffi->jupyter-server<3,>=2.4.0->notebook->jupyter->delphi-nlp-2024==0.1) (21.2.0)\n",
      "Requirement already satisfied: executing>=1.2.0 in /Users/alecchapman/opt/miniconda3/envs/delphi-nlp/lib/python3.10/site-packages (from stack-data->ipython>=7.23.1->ipykernel->jupyter->delphi-nlp-2024==0.1) (2.0.1)\n",
      "Requirement already satisfied: asttokens>=2.1.0 in /Users/alecchapman/opt/miniconda3/envs/delphi-nlp/lib/python3.10/site-packages (from stack-data->ipython>=7.23.1->ipykernel->jupyter->delphi-nlp-2024==0.1) (2.4.1)\n",
      "Requirement already satisfied: pure-eval in /Users/alecchapman/opt/miniconda3/envs/delphi-nlp/lib/python3.10/site-packages (from stack-data->ipython>=7.23.1->ipykernel->jupyter->delphi-nlp-2024==0.1) (0.2.2)\n",
      "Requirement already satisfied: fqdn in /Users/alecchapman/opt/miniconda3/envs/delphi-nlp/lib/python3.10/site-packages (from jsonschema[format-nongpl]>=4.18.0->jupyter-events>=0.9.0->jupyter-server<3,>=2.4.0->notebook->jupyter->delphi-nlp-2024==0.1) (1.5.1)\n",
      "Requirement already satisfied: isoduration in /Users/alecchapman/opt/miniconda3/envs/delphi-nlp/lib/python3.10/site-packages (from jsonschema[format-nongpl]>=4.18.0->jupyter-events>=0.9.0->jupyter-server<3,>=2.4.0->notebook->jupyter->delphi-nlp-2024==0.1) (20.11.0)\n",
      "Requirement already satisfied: jsonpointer>1.13 in /Users/alecchapman/opt/miniconda3/envs/delphi-nlp/lib/python3.10/site-packages (from jsonschema[format-nongpl]>=4.18.0->jupyter-events>=0.9.0->jupyter-server<3,>=2.4.0->notebook->jupyter->delphi-nlp-2024==0.1) (2.4)\n",
      "Requirement already satisfied: uri-template in /Users/alecchapman/opt/miniconda3/envs/delphi-nlp/lib/python3.10/site-packages (from jsonschema[format-nongpl]>=4.18.0->jupyter-events>=0.9.0->jupyter-server<3,>=2.4.0->notebook->jupyter->delphi-nlp-2024==0.1) (1.3.0)\n",
      "Requirement already satisfied: webcolors>=1.11 in /Users/alecchapman/opt/miniconda3/envs/delphi-nlp/lib/python3.10/site-packages (from jsonschema[format-nongpl]>=4.18.0->jupyter-events>=0.9.0->jupyter-server<3,>=2.4.0->notebook->jupyter->delphi-nlp-2024==0.1) (1.13)\n",
      "Requirement already satisfied: cffi>=1.0.1 in /Users/alecchapman/opt/miniconda3/envs/delphi-nlp/lib/python3.10/site-packages (from argon2-cffi-bindings->argon2-cffi->jupyter-server<3,>=2.4.0->notebook->jupyter->delphi-nlp-2024==0.1) (1.16.0)\n",
      "Requirement already satisfied: pycparser in /Users/alecchapman/opt/miniconda3/envs/delphi-nlp/lib/python3.10/site-packages (from cffi>=1.0.1->argon2-cffi-bindings->argon2-cffi->jupyter-server<3,>=2.4.0->notebook->jupyter->delphi-nlp-2024==0.1) (2.21)\n",
      "Requirement already satisfied: arrow>=0.15.0 in /Users/alecchapman/opt/miniconda3/envs/delphi-nlp/lib/python3.10/site-packages (from isoduration->jsonschema[format-nongpl]>=4.18.0->jupyter-events>=0.9.0->jupyter-server<3,>=2.4.0->notebook->jupyter->delphi-nlp-2024==0.1) (1.3.0)\n",
      "Requirement already satisfied: types-python-dateutil>=2.8.10 in /Users/alecchapman/opt/miniconda3/envs/delphi-nlp/lib/python3.10/site-packages (from arrow>=0.15.0->isoduration->jsonschema[format-nongpl]>=4.18.0->jupyter-events>=0.9.0->jupyter-server<3,>=2.4.0->notebook->jupyter->delphi-nlp-2024==0.1) (2.8.19.20240106)\n"
     ]
    }
   ],
   "source": [
    "!pip install https://github.com/abchapman93/DELPHI_Intro_to_NLP_Spring_2024/releases/download/v0.1/delphi_nlp_2024-0.1.tar.gz"
   ]
  },
  {
   "cell_type": "code",
   "execution_count": 60,
   "id": "4993c080",
   "metadata": {},
   "outputs": [],
   "source": [
    "from delphi_nlp_2024 import *\n",
    "from delphi_nlp_2024.quizzes.quizzes import *\n",
    "from delphi_nlp_2024.helpers import *"
   ]
  },
  {
   "cell_type": "markdown",
   "id": "a2e07e76",
   "metadata": {},
   "source": [
    "# Textual Data in Medicine\n",
    "As we saw in the last notebook, text is represented in Python with **strings**. In this notebook, we'll get more comfortable with working with strings. But first, we'll consider what information is stored in text form in medicine and then dive deeper into working with strings in Python. Then we'll learn a set of tools for extracting information from clinical text using Natural Language Processing.\n",
    "\n",
    "## Unstructured Data in the EHR\n",
    "When you see a doctor, they enter your information into the EHR in a few different ways. We've already seen some examples like:\n",
    "- ICD-9/10 codes\n",
    "- Numeric vital measurements\n",
    "- Flags for abnormal tests\n",
    "\n",
    "These are all **structured** data elements: the values are either numeric values or discrete elements with distinct, concrete meaning. Importantly, these values are *computable*: we can take the average of numeric vital measurements or count of ICD-10 codes.\n",
    "\n",
    "However, some forms of documentation are **unstructured**. Some examples are:\n",
    "- Videos\n",
    "- Radiology imaging\n",
    "- Full-text narratives\n",
    "\n",
    "Data forms like this are great for humans: they are easy to interpret and can include much more context and nuance than rigid, standardized data elements. However, they can't immediately be computed with. While a collection of pixels can be very meaningful to a radiologist, machines don't inherently have the ability to make sense of them.\n",
    "\n",
    "This presents a challenge to researchers since unstructured data accounts for a huge amount of the information stored in the EHR. While it would be great to utilize this information, we have to do a little extra work to make sense of it.\n",
    "\n",
    "## Clinical Narratives\n",
    "#### TODO\n",
    "Read the following excerpt of a discharge summary and then complete the quizzes that follow."
   ]
  },
  {
   "cell_type": "code",
   "execution_count": 61,
   "id": "9dd94714",
   "metadata": {},
   "outputs": [],
   "source": [
    "disch_summ = \"\"\"\n",
    "Service: MEDICINE\n",
    "\n",
    "Chief Complaint:\n",
    "5 days worsening SOB, DOE\n",
    " \n",
    "History of Present Illness:\n",
    "Pt is a 63M w/ h/o metastatic carcinoid tumor, HTN, \n",
    "hyperlipidemia who reports increasing SOB and DOE starting about \n",
    "a month ago but worsening significantly within the last 5 days. \n",
    "It has recently gotten so bad he can barely get up out of a \n",
    "chair without getting short of breath. He reports orthopnea but no PND. \n",
    "\n",
    "He reports no fever or chills, no URI symptoms, no recent travel, no changes \n",
    "in his medications.\n",
    "\n",
    "Pt also reports ~5 episodes of chest pain in the last few weeks \n",
    "which he describes as pressure on his mid-sternum and usually \n",
    "occurs during exertion.\n",
    " \n",
    "Past Medical History:\n",
    "1. metastatic carcinoid tumor, Dx'ed 2002\n",
    "2. hypertension\n",
    "3. hyperlipidemia\n",
    "4. carotid endarterectomy 1999\n",
    "5. depression/anxiety\n",
    " \n",
    "Social History:\n",
    "Lives alone, has two daughters\n",
    " \n",
    "Family History:\n",
    "early CAD\n",
    "\n",
    "Brief Hospital Course:\n",
    "1. SOB: likely from CHF\n",
    "The patient was initially diuresed for mild pulmonary edema: he \n",
    "received 20 IV Lasix on night of admission and 40mg [**9-10**], with \n",
    "good UOP. On [**9-10**], pt was reporting improvement of symptoms and \n",
    "able to walk around his room with 4L O2 NC. The following day he \n",
    "reported feeling worse, with increasing SOB, and was found to \n",
    "now be in oliguric renal failure. CXR [**9-11**] 8am showed showed \n",
    "atelectasis with possible superimposed pneumonia. Emergent TTE \n",
    "showed decreased EF (30%), anteroapical infarct with \n",
    "moderate-to-severe overall left ventricular contractile \n",
    "dysfunction; bicusapid aortic valve with at least mild aortic \n",
    "stenosis. He was sent to the MICU.\n",
    " \n",
    "Medications on Admission:\n",
    "ASA 81mg po qd\n",
    "Lipitor 20mg po qpm\n",
    "\n",
    "Discharge Disposition:\n",
    "Extended Care\n",
    "Discharge Diagnosis:\n",
    "Primary: congestive heart failure\n",
    "Secondary: metastatic carcinoid tumor, hypertension, \n",
    "hyperlipidemia, diabetes mellitus type 2, basal cell carcinoma\n",
    " \n",
    "Discharge Condition:\n",
    "good, stable\n",
    "\"\"\""
   ]
  },
  {
   "cell_type": "code",
   "execution_count": 62,
   "id": "78b40c24",
   "metadata": {},
   "outputs": [
    {
     "data": {
      "application/vnd.jupyter.widget-view+json": {
       "model_id": "b460e4a935274421b6de46d5386cef81",
       "version_major": 2,
       "version_minor": 0
      },
      "text/plain": [
       "VBox(children=(HTML(value='What is the main reason the patient came to the hospital?'), RadioButtons(layout=La…"
      ]
     },
     "metadata": {},
     "output_type": "display_data"
    },
    {
     "data": {
      "text/plain": []
     },
     "execution_count": 62,
     "metadata": {},
     "output_type": "execute_result"
    }
   ],
   "source": [
    "test_main_reason_hospital"
   ]
  },
  {
   "cell_type": "code",
   "execution_count": 63,
   "id": "ee314103",
   "metadata": {},
   "outputs": [
    {
     "data": {
      "application/vnd.jupyter.widget-view+json": {
       "model_id": "a6e838f088ad4326a013c3e6cf114b34",
       "version_major": 2,
       "version_minor": 0
      },
      "text/plain": [
       "VBox(children=(HTML(value='Which of the following conditions does the patient have?.'), SelectMultiple(options…"
      ]
     },
     "metadata": {},
     "output_type": "display_data"
    },
    {
     "data": {
      "text/plain": []
     },
     "execution_count": 63,
     "metadata": {},
     "output_type": "execute_result"
    }
   ],
   "source": [
    "test_pt_diagnoses"
   ]
  },
  {
   "cell_type": "code",
   "execution_count": 64,
   "id": "b1be280a",
   "metadata": {},
   "outputs": [
    {
     "data": {
      "application/vnd.jupyter.widget-view+json": {
       "model_id": "08261b8ac26344da81e7e9c16b61e90e",
       "version_major": 2,
       "version_minor": 0
      },
      "text/plain": [
       "VBox(children=(HTML(value=\"The patient doesn't have any living relatives.\"), RadioButtons(layout=Layout(width=…"
      ]
     },
     "metadata": {},
     "output_type": "display_data"
    },
    {
     "data": {
      "text/plain": []
     },
     "execution_count": 64,
     "metadata": {},
     "output_type": "execute_result"
    }
   ],
   "source": [
    "test_pt_relatives"
   ]
  },
  {
   "cell_type": "code",
   "execution_count": 65,
   "id": "135c2c59",
   "metadata": {},
   "outputs": [
    {
     "data": {
      "application/vnd.jupyter.widget-view+json": {
       "model_id": "50cb1a9b95f745799387d292938b5535",
       "version_major": 2,
       "version_minor": 0
      },
      "text/plain": [
       "VBox(children=(HTML(value='How many episodes of chest pain has the patient had in the last few weeks?'), Texta…"
      ]
     },
     "metadata": {},
     "output_type": "display_data"
    },
    {
     "data": {
      "text/plain": []
     },
     "execution_count": 65,
     "metadata": {},
     "output_type": "execute_result"
    }
   ],
   "source": [
    "test_n_chest_pain"
   ]
  },
  {
   "cell_type": "markdown",
   "id": "c73ef04f",
   "metadata": {},
   "source": [
    "### Discussion\n",
    "As you can see, there's a lot of really useful information in clinical notes. What is the advantage of documenting it using free text? What are some challenges you see with this?"
   ]
  },
  {
   "cell_type": "markdown",
   "id": "9e9a11aa",
   "metadata": {},
   "source": [
    "## String methods\n",
    "- Slicing\n",
    "- Upper/lower\n",
    "- Replacing\n",
    "- Splitting\n",
    "- Joining\n",
    "- Formatting"
   ]
  },
  {
   "cell_type": "code",
   "execution_count": 66,
   "id": "ce1e359e",
   "metadata": {},
   "outputs": [],
   "source": [
    "text = \"\"\"Chief Complaint:\n",
    "5 days worsening SOB, DOE\"\"\""
   ]
  },
  {
   "cell_type": "code",
   "execution_count": 67,
   "id": "2baa8132",
   "metadata": {},
   "outputs": [
    {
     "name": "stdout",
     "output_type": "stream",
     "text": [
      "Chief Complaint:\n",
      "5 days worsening SOB, DOE\n"
     ]
    }
   ],
   "source": [
    "print(text)"
   ]
  },
  {
   "cell_type": "code",
   "execution_count": 68,
   "id": "baf2d8d1",
   "metadata": {},
   "outputs": [
    {
     "data": {
      "text/plain": [
       "'Chief Complaint:\\n5 days worsening SOB, DOE'"
      ]
     },
     "execution_count": 68,
     "metadata": {},
     "output_type": "execute_result"
    }
   ],
   "source": [
    "text"
   ]
  },
  {
   "cell_type": "markdown",
   "id": "b536ca9f",
   "metadata": {},
   "source": [
    "### Slicing\n",
    "Under the hood, strings act similarly lists, so we can slice and index them in the same way.\n",
    "\n",
    "To get the number of characters in a string we use the `len` function:"
   ]
  },
  {
   "cell_type": "code",
   "execution_count": 69,
   "id": "060b46e9",
   "metadata": {},
   "outputs": [
    {
     "data": {
      "text/plain": [
       "16"
      ]
     },
     "execution_count": 69,
     "metadata": {},
     "output_type": "execute_result"
    }
   ],
   "source": [
    "len(\"Chief Complaint:\")"
   ]
  },
  {
   "cell_type": "markdown",
   "id": "48f016c1",
   "metadata": {},
   "source": [
    "We can access individual characters by index (also 0-indexed, like everything in Python):"
   ]
  },
  {
   "cell_type": "code",
   "execution_count": 70,
   "id": "adb18d5c",
   "metadata": {},
   "outputs": [
    {
     "data": {
      "text/plain": [
       "'C'"
      ]
     },
     "execution_count": 70,
     "metadata": {},
     "output_type": "execute_result"
    }
   ],
   "source": [
    "text[0]"
   ]
  },
  {
   "cell_type": "code",
   "execution_count": 71,
   "id": "0697efdb",
   "metadata": {},
   "outputs": [
    {
     "data": {
      "text/plain": [
       "'Chief Complaint:'"
      ]
     },
     "execution_count": 71,
     "metadata": {},
     "output_type": "execute_result"
    }
   ],
   "source": [
    "text[:16]"
   ]
  },
  {
   "cell_type": "code",
   "execution_count": 72,
   "id": "d155505f",
   "metadata": {},
   "outputs": [
    {
     "data": {
      "text/plain": [
       "'DO'"
      ]
     },
     "execution_count": 72,
     "metadata": {},
     "output_type": "execute_result"
    }
   ],
   "source": [
    "text[-3:-1]"
   ]
  },
  {
   "cell_type": "code",
   "execution_count": 73,
   "id": "dc2ba01d",
   "metadata": {},
   "outputs": [
    {
     "data": {
      "application/vnd.jupyter.widget-view+json": {
       "model_id": "b82d6ee0ddc144d68b6bc6f12b71d7f0",
       "version_major": 2,
       "version_minor": 0
      },
      "text/plain": [
       "VBox(children=(HTML(value='<h4>TODO</h4>Using the variable `text` that we defined above, what would be the val…"
      ]
     },
     "metadata": {},
     "output_type": "display_data"
    },
    {
     "data": {
      "text/plain": []
     },
     "execution_count": 73,
     "metadata": {},
     "output_type": "execute_result"
    }
   ],
   "source": [
    "# RUN CELL TO SEE QUIZ\n",
    "quiz_text_3"
   ]
  },
  {
   "cell_type": "markdown",
   "id": "d4868c11",
   "metadata": {},
   "source": [
    "### Substrings\n",
    "A **substring** is a smaller (or equally-sized) string consisting of consecutive characters within a larger string (or **superstring**). When we slice a string, we get a substring:"
   ]
  },
  {
   "cell_type": "code",
   "execution_count": 74,
   "id": "0d4379a9",
   "metadata": {},
   "outputs": [
    {
     "data": {
      "text/plain": [
       "'Chief'"
      ]
     },
     "execution_count": 74,
     "metadata": {},
     "output_type": "execute_result"
    }
   ],
   "source": [
    "sub_text = text[:5]\n",
    "sub_text"
   ]
  },
  {
   "cell_type": "markdown",
   "id": "bed138c5",
   "metadata": {},
   "source": [
    "We can check whether a string is contained in a superstring by using the `in` keyword:"
   ]
  },
  {
   "cell_type": "code",
   "execution_count": 75,
   "id": "971c8afe",
   "metadata": {},
   "outputs": [
    {
     "data": {
      "text/plain": [
       "True"
      ]
     },
     "execution_count": 75,
     "metadata": {},
     "output_type": "execute_result"
    }
   ],
   "source": [
    "sub_text in text"
   ]
  },
  {
   "cell_type": "markdown",
   "id": "55af1cb7",
   "metadata": {},
   "source": [
    "Strings are case-sensitive, though, so the characters need to match exactly:"
   ]
  },
  {
   "cell_type": "code",
   "execution_count": 76,
   "id": "13136c85",
   "metadata": {},
   "outputs": [
    {
     "data": {
      "text/plain": [
       "False"
      ]
     },
     "execution_count": 76,
     "metadata": {},
     "output_type": "execute_result"
    }
   ],
   "source": [
    "\"chief\" in text"
   ]
  },
  {
   "cell_type": "markdown",
   "id": "26c25be9",
   "metadata": {},
   "source": [
    "### Upper and lower-case\n",
    "Sometimes we want to change the case of a string, or ignore the case altogether. A few methods return a new string with different capitalization.\n",
    "\n",
    "The `text.upper()` returns an all upper-case version of the string, and `text.lower()` returns a lower-case one:"
   ]
  },
  {
   "cell_type": "code",
   "execution_count": 77,
   "id": "7a16e017",
   "metadata": {},
   "outputs": [
    {
     "data": {
      "text/plain": [
       "'CHIEF COMPLAINT:\\n5 DAYS WORSENING SOB, DOE'"
      ]
     },
     "execution_count": 77,
     "metadata": {},
     "output_type": "execute_result"
    }
   ],
   "source": [
    "text.upper()"
   ]
  },
  {
   "cell_type": "code",
   "execution_count": 78,
   "id": "9a2a02e7",
   "metadata": {},
   "outputs": [
    {
     "data": {
      "text/plain": [
       "'chief complaint:\\n5 days worsening sob, doe'"
      ]
     },
     "execution_count": 78,
     "metadata": {},
     "output_type": "execute_result"
    }
   ],
   "source": [
    "text.lower()"
   ]
  },
  {
   "cell_type": "markdown",
   "id": "76289456",
   "metadata": {},
   "source": [
    "Switching to all one case can make it easier to search a text for a string:"
   ]
  },
  {
   "cell_type": "code",
   "execution_count": 79,
   "id": "cc9fba47",
   "metadata": {},
   "outputs": [
    {
     "data": {
      "text/plain": [
       "True"
      ]
     },
     "execution_count": 79,
     "metadata": {},
     "output_type": "execute_result"
    }
   ],
   "source": [
    "\"chief\" in text.lower()"
   ]
  },
  {
   "cell_type": "markdown",
   "id": "dd7c626c",
   "metadata": {},
   "source": [
    "The `title()` method capitalizes the first letter of each word but lower-cases the rest:"
   ]
  },
  {
   "cell_type": "code",
   "execution_count": 80,
   "id": "2e6c21f8",
   "metadata": {},
   "outputs": [
    {
     "data": {
      "text/plain": [
       "'Chief Complaint:\\n5 Days Worsening Sob, Doe'"
      ]
     },
     "execution_count": 80,
     "metadata": {},
     "output_type": "execute_result"
    }
   ],
   "source": [
    "text.title()"
   ]
  },
  {
   "cell_type": "code",
   "execution_count": null,
   "id": "cc06f7f1",
   "metadata": {},
   "outputs": [],
   "source": []
  },
  {
   "cell_type": "markdown",
   "id": "6fce8c84",
   "metadata": {},
   "source": [
    "### Splitting strings\n",
    "We can split a string into smaller strings whenever a particular character/characters occurs with the `split()` method. This is how **comma-separated files** distinguish between each column:"
   ]
  },
  {
   "cell_type": "code",
   "execution_count": 81,
   "id": "5f71dcf5",
   "metadata": {},
   "outputs": [
    {
     "data": {
      "text/plain": [
       "['name', 'age', 'city', 'state']"
      ]
     },
     "execution_count": 81,
     "metadata": {},
     "output_type": "execute_result"
    }
   ],
   "source": [
    "\"name,age,city,state\".split(\",\")"
   ]
  },
  {
   "cell_type": "code",
   "execution_count": 82,
   "id": "4042ee81",
   "metadata": {},
   "outputs": [
    {
     "data": {
      "text/plain": [
       "['alec chapman', '30', 'salt lake city']"
      ]
     },
     "execution_count": 82,
     "metadata": {},
     "output_type": "execute_result"
    }
   ],
   "source": [
    "\"alec chapman,30,salt lake city\".split(\",\")"
   ]
  },
  {
   "cell_type": "markdown",
   "id": "0b44b904",
   "metadata": {},
   "source": [
    "After splitting a string, we can **unpack it** into distinct values:"
   ]
  },
  {
   "cell_type": "code",
   "execution_count": 83,
   "id": "9c387752",
   "metadata": {},
   "outputs": [
    {
     "name": "stdout",
     "output_type": "stream",
     "text": [
      "alec chapman\n",
      "30\n",
      "salt lake city\n"
     ]
    }
   ],
   "source": [
    "name, age, city = \"alec chapman,30,salt lake city\".split(\",\")\n",
    "print(name)\n",
    "print(age)\n",
    "print(city)"
   ]
  },
  {
   "cell_type": "markdown",
   "id": "b08cb7ff",
   "metadata": {},
   "source": [
    "But be careful - if one of the elements actually contains a comma, it will split in a way you might not expect:"
   ]
  },
  {
   "cell_type": "code",
   "execution_count": 84,
   "id": "5cc1cf3b",
   "metadata": {},
   "outputs": [
    {
     "data": {
      "text/plain": [
       "['alec chapman', '30', 'salt lake city', ' utah']"
      ]
     },
     "execution_count": 84,
     "metadata": {},
     "output_type": "execute_result"
    }
   ],
   "source": [
    "\"alec chapman,30,salt lake city, utah\".split(\",\")"
   ]
  },
  {
   "cell_type": "code",
   "execution_count": 34,
   "id": "2eafbed2",
   "metadata": {},
   "outputs": [
    {
     "ename": "ValueError",
     "evalue": "too many values to unpack (expected 3)",
     "output_type": "error",
     "traceback": [
      "\u001b[0;31m---------------------------------------------------------------------------\u001b[0m",
      "\u001b[0;31mValueError\u001b[0m                                Traceback (most recent call last)",
      "Cell \u001b[0;32mIn[34], line 2\u001b[0m\n\u001b[1;32m      1\u001b[0m \u001b[38;5;66;03m# Throws an error\u001b[39;00m\n\u001b[0;32m----> 2\u001b[0m name, age, city \u001b[38;5;241m=\u001b[39m \u001b[38;5;124m\"\u001b[39m\u001b[38;5;124malec chapman,30,salt lake city, ut\u001b[39m\u001b[38;5;124m\"\u001b[39m\u001b[38;5;241m.\u001b[39msplit(\u001b[38;5;124m\"\u001b[39m\u001b[38;5;124m,\u001b[39m\u001b[38;5;124m\"\u001b[39m)\n",
      "\u001b[0;31mValueError\u001b[0m: too many values to unpack (expected 3)"
     ]
    }
   ],
   "source": [
    "# Throws an error\n",
    "name, age, city = \"alec chapman,30,salt lake city, ut\".split(\",\")"
   ]
  },
  {
   "cell_type": "markdown",
   "id": "fd65f00f",
   "metadata": {},
   "source": [
    "You can split by any character. Splitting by *whitespaces* is a simple way to break a string up into individual words (but do you see any problems with this?)"
   ]
  },
  {
   "cell_type": "code",
   "execution_count": 35,
   "id": "f0081536",
   "metadata": {},
   "outputs": [
    {
     "data": {
      "text/plain": [
       "['This', 'is', 'a', 'sentence.']"
      ]
     },
     "execution_count": 35,
     "metadata": {},
     "output_type": "execute_result"
    }
   ],
   "source": [
    "\"This is a sentence.\".split(\" \")"
   ]
  },
  {
   "cell_type": "markdown",
   "id": "3d7929d1",
   "metadata": {},
   "source": [
    "#### TODO\n",
    "An **empty string** is a string without any characters:\n",
    "\n",
    "`\"\"`"
   ]
  },
  {
   "cell_type": "code",
   "execution_count": 36,
   "id": "5469bbce",
   "metadata": {},
   "outputs": [
    {
     "data": {
      "application/vnd.jupyter.widget-view+json": {
       "model_id": "49158b63e8a94be58cdc3d8ec304eb37",
       "version_major": 2,
       "version_minor": 0
      },
      "text/plain": [
       "VBox(children=(HTML(value='What value would be generated by the following code:</br><p style=\"font-family:cour…"
      ]
     },
     "metadata": {},
     "output_type": "display_data"
    },
    {
     "data": {
      "text/plain": []
     },
     "execution_count": 36,
     "metadata": {},
     "output_type": "execute_result"
    }
   ],
   "source": [
    "# RUN CELL TO SEE QUIZ\n",
    "quiz_len_empty"
   ]
  },
  {
   "cell_type": "markdown",
   "id": "c7ee4da8",
   "metadata": {},
   "source": [
    "#### TODO\n"
   ]
  },
  {
   "cell_type": "code",
   "execution_count": 37,
   "id": "b86a1c27",
   "metadata": {},
   "outputs": [
    {
     "data": {
      "application/vnd.jupyter.widget-view+json": {
       "model_id": "a30559e3140045908fa874fd001c64dd",
       "version_major": 2,
       "version_minor": 0
      },
      "text/plain": [
       "VBox(children=(HTML(value='What would happen if you split the string `\"pna\"` on an empty string?'), RadioButto…"
      ]
     },
     "metadata": {},
     "output_type": "display_data"
    },
    {
     "data": {
      "text/plain": []
     },
     "execution_count": 37,
     "metadata": {},
     "output_type": "execute_result"
    }
   ],
   "source": [
    "# RUN CELL TO SEE QUIZ\n",
    "quiz_split_pna_empty"
   ]
  },
  {
   "cell_type": "code",
   "execution_count": null,
   "id": "08877420",
   "metadata": {},
   "outputs": [],
   "source": []
  },
  {
   "cell_type": "markdown",
   "id": "82051f4d",
   "metadata": {},
   "source": [
    "### Joining strings\n",
    "The inverse of *splitting* strings is *joining* strings. We saw in the first notebook how to **concatenate** two strings together to create a larger string:"
   ]
  },
  {
   "cell_type": "code",
   "execution_count": 38,
   "id": "8f3a61d8",
   "metadata": {},
   "outputs": [
    {
     "data": {
      "text/plain": [
       "'Chief complaint'"
      ]
     },
     "execution_count": 38,
     "metadata": {},
     "output_type": "execute_result"
    }
   ],
   "source": [
    "\"Chief\" + \" \" + \"complaint\""
   ]
  },
  {
   "cell_type": "markdown",
   "id": "34949d6c",
   "metadata": {},
   "source": [
    "We can take a list of strings and create a string with all of them joined by some character (or multiple characters):"
   ]
  },
  {
   "cell_type": "code",
   "execution_count": 39,
   "id": "8e1970a0",
   "metadata": {},
   "outputs": [
    {
     "data": {
      "text/plain": [
       "'Chief complaint: 5 days worsening SOB DOE'"
      ]
     },
     "execution_count": 39,
     "metadata": {},
     "output_type": "execute_result"
    }
   ],
   "source": [
    "\" \".join([\"Chief\", \"complaint:\", \"5\", \"days\", \"worsening\", \"SOB\", \"DOE\"])"
   ]
  },
  {
   "cell_type": "code",
   "execution_count": 40,
   "id": "9475ae53",
   "metadata": {},
   "outputs": [
    {
     "data": {
      "text/plain": [
       "'This...feels...very...passive...aggressive...'"
      ]
     },
     "execution_count": 40,
     "metadata": {},
     "output_type": "execute_result"
    }
   ],
   "source": [
    "\"...\".join([\"This\", \"feels\", \"very\", \"passive\", \"aggressive\", \"\"])"
   ]
  },
  {
   "cell_type": "code",
   "execution_count": null,
   "id": "6dd68140",
   "metadata": {},
   "outputs": [],
   "source": []
  },
  {
   "cell_type": "markdown",
   "id": "a2d423ac",
   "metadata": {},
   "source": [
    "### String formatting\n",
    "Sometimes we want to use \"template\" texts and fill in values based on variable. For example, way back in the first notebook we had a function called `print_name` which would create and print a string based on the function arguments. **String formatting** is a nice way to do this. For example, one way to do this is using so-called `f-strings`, which are denoted with an `f` at the beginning of the string and then contain variable names in curly brackets `{}`."
   ]
  },
  {
   "cell_type": "code",
   "execution_count": 41,
   "id": "c5b15fbe",
   "metadata": {},
   "outputs": [
    {
     "name": "stdout",
     "output_type": "stream",
     "text": [
      "My name is Alec Chapman\n"
     ]
    }
   ],
   "source": [
    "first = \"Alec\"\n",
    "last = \"Chapman\"\n",
    "print(f\"My name is {first} {last}\")"
   ]
  },
  {
   "cell_type": "markdown",
   "id": "9d12872e",
   "metadata": {},
   "source": [
    "You can also use the string method `.format()`:"
   ]
  },
  {
   "cell_type": "code",
   "execution_count": 42,
   "id": "35fe93ed",
   "metadata": {},
   "outputs": [
    {
     "name": "stdout",
     "output_type": "stream",
     "text": [
      "My name is Alec Chapman\n"
     ]
    }
   ],
   "source": [
    "print(\"My name is {} {}\".format(\"Alec\", \"Chapman\"))"
   ]
  },
  {
   "cell_type": "markdown",
   "id": "1972aff6",
   "metadata": {},
   "source": [
    "## Practice with strings"
   ]
  },
  {
   "cell_type": "markdown",
   "id": "8da4aaa9",
   "metadata": {},
   "source": [
    "### 1.\n",
    "In NLP, **tokenization** is the process of splitting a text into individual words. It can be informative to see which unique words appear in a document. Split `disch_summ` into tokens and then create an object containing unique tokens. As an optional next step, count how many times each token appears."
   ]
  },
  {
   "cell_type": "code",
   "execution_count": 43,
   "id": "1c872973",
   "metadata": {},
   "outputs": [
    {
     "data": {
      "application/vnd.jupyter.widget-view+json": {
       "model_id": "27e03a63ec4c44b28a6292c54edb99c7",
       "version_major": 2,
       "version_minor": 0
      },
      "text/plain": [
       "VBox(children=(HTML(value='</br><strong>Displaying hint 0/2</strong>'), Output(), Button(description='Get hint…"
      ]
     },
     "metadata": {},
     "output_type": "display_data"
    },
    {
     "data": {
      "text/plain": []
     },
     "execution_count": 43,
     "metadata": {},
     "output_type": "execute_result"
    }
   ],
   "source": [
    "# RUN CELL TO SEE HINT\n",
    "hint_tokenize_disch_summ "
   ]
  },
  {
   "cell_type": "code",
   "execution_count": 44,
   "id": "21c68c28",
   "metadata": {},
   "outputs": [
    {
     "data": {
      "text/plain": [
       "{'\\n\\nHe',\n",
       " '\\nDischarge',\n",
       " '\\nFamily',\n",
       " '\\nHistory',\n",
       " '\\nIt',\n",
       " '\\nMedications',\n",
       " '\\nPast',\n",
       " '\\nService:',\n",
       " '\\nSocial',\n",
       " '\\na',\n",
       " '\\nable',\n",
       " '\\natelectasis',\n",
       " '\\nchair',\n",
       " '\\ndysfunction;',\n",
       " '\\ngood',\n",
       " '\\nhyperlipidemia',\n",
       " '\\nhyperlipidemia,',\n",
       " '\\nin',\n",
       " '\\nmoderate-to-severe',\n",
       " '\\nnow',\n",
       " '\\noccurs',\n",
       " '\\nreceived',\n",
       " '\\nreported',\n",
       " '\\nshowed',\n",
       " '\\nstenosis.',\n",
       " '\\nwhich',\n",
       " '(30%),',\n",
       " '1999\\n5.',\n",
       " '2,',\n",
       " '20',\n",
       " '2002\\n2.',\n",
       " '20mg',\n",
       " '40mg',\n",
       " '4L',\n",
       " '5',\n",
       " '63M',\n",
       " '81mg',\n",
       " '8am',\n",
       " 'Admission:\\nASA',\n",
       " 'CAD\\n\\nBrief',\n",
       " 'CHF\\nThe',\n",
       " 'CXR',\n",
       " 'Care\\nDischarge',\n",
       " 'Complaint:\\n5',\n",
       " 'Condition:\\ngood,',\n",
       " 'Course:\\n1.',\n",
       " 'DOE',\n",
       " 'DOE\\n',\n",
       " 'Diagnosis:\\nPrimary:',\n",
       " 'Disposition:\\nExtended',\n",
       " \"Dx'ed\",\n",
       " 'EF',\n",
       " 'Emergent',\n",
       " 'HTN,',\n",
       " 'He',\n",
       " 'History:\\n1.',\n",
       " 'History:\\nLives',\n",
       " 'History:\\nearly',\n",
       " 'Hospital',\n",
       " 'IV',\n",
       " 'Illness:\\nPt',\n",
       " 'Lasix',\n",
       " 'MEDICINE\\n\\nChief',\n",
       " 'MICU.\\n',\n",
       " 'Medical',\n",
       " 'NC.',\n",
       " 'O2',\n",
       " 'On',\n",
       " 'PND.',\n",
       " 'Present',\n",
       " 'SOB',\n",
       " 'SOB,',\n",
       " 'SOB:',\n",
       " 'TTE',\n",
       " 'The',\n",
       " 'UOP.',\n",
       " 'URI',\n",
       " '[**9-10**],',\n",
       " '[**9-11**]',\n",
       " 'a',\n",
       " 'about',\n",
       " 'admission',\n",
       " 'ago',\n",
       " 'alone,',\n",
       " 'also',\n",
       " 'and',\n",
       " 'anteroapical',\n",
       " 'aortic',\n",
       " 'around',\n",
       " 'as',\n",
       " 'at',\n",
       " 'bad',\n",
       " 'barely',\n",
       " 'basal',\n",
       " 'be',\n",
       " 'bicusapid',\n",
       " 'breath.',\n",
       " 'but',\n",
       " 'can',\n",
       " 'carcinoid',\n",
       " 'carcinoma\\n',\n",
       " 'carotid',\n",
       " 'cell',\n",
       " 'changes',\n",
       " 'chest',\n",
       " 'chills,',\n",
       " 'congestive',\n",
       " 'contractile',\n",
       " 'daughters\\n',\n",
       " 'day',\n",
       " 'days',\n",
       " 'days.',\n",
       " 'decreased',\n",
       " 'depression/anxiety\\n',\n",
       " 'describes',\n",
       " 'diabetes',\n",
       " 'diuresed',\n",
       " 'during',\n",
       " 'edema:',\n",
       " 'endarterectomy',\n",
       " 'episodes',\n",
       " 'exertion.\\n',\n",
       " 'failure\\nSecondary:',\n",
       " 'failure.',\n",
       " 'feeling',\n",
       " 'fever',\n",
       " 'few',\n",
       " 'following',\n",
       " 'for',\n",
       " 'found',\n",
       " 'from',\n",
       " 'get',\n",
       " 'getting',\n",
       " 'gotten',\n",
       " 'h/o',\n",
       " 'has',\n",
       " 'he',\n",
       " 'heart',\n",
       " 'his',\n",
       " 'hyperlipidemia\\n4.',\n",
       " 'hypertension\\n3.',\n",
       " 'hypertension,',\n",
       " 'improvement',\n",
       " 'in',\n",
       " 'increasing',\n",
       " 'infarct',\n",
       " 'initially',\n",
       " 'is',\n",
       " 'last',\n",
       " 'least',\n",
       " 'left',\n",
       " 'likely',\n",
       " 'medications.\\n\\nPt',\n",
       " 'mellitus',\n",
       " 'metastatic',\n",
       " 'mid-sternum',\n",
       " 'mild',\n",
       " 'month',\n",
       " 'night',\n",
       " 'no',\n",
       " 'of',\n",
       " 'oliguric',\n",
       " 'on',\n",
       " 'or',\n",
       " 'orthopnea',\n",
       " 'out',\n",
       " 'overall',\n",
       " 'pain',\n",
       " 'patient',\n",
       " 'pneumonia.',\n",
       " 'po',\n",
       " 'possible',\n",
       " 'pressure',\n",
       " 'pt',\n",
       " 'pulmonary',\n",
       " 'qd\\nLipitor',\n",
       " 'qpm\\n\\nDischarge',\n",
       " 'recent',\n",
       " 'recently',\n",
       " 'renal',\n",
       " 'reporting',\n",
       " 'reports',\n",
       " 'room',\n",
       " 'sent',\n",
       " 'short',\n",
       " 'showed',\n",
       " 'significantly',\n",
       " 'so',\n",
       " 'stable\\n',\n",
       " 'starting',\n",
       " 'superimposed',\n",
       " 'symptoms',\n",
       " 'symptoms,',\n",
       " 'the',\n",
       " 'to',\n",
       " 'travel,',\n",
       " 'tumor,',\n",
       " 'two',\n",
       " 'type',\n",
       " 'up',\n",
       " 'usually',\n",
       " 'valve',\n",
       " 'ventricular',\n",
       " 'w/',\n",
       " 'walk',\n",
       " 'was',\n",
       " 'weeks',\n",
       " 'who',\n",
       " 'with',\n",
       " 'within',\n",
       " 'without',\n",
       " 'worse,',\n",
       " 'worsening',\n",
       " '~5'}"
      ]
     },
     "execution_count": 44,
     "metadata": {},
     "output_type": "execute_result"
    }
   ],
   "source": [
    "tokens = disch_summ.split(\" \")\n",
    "set(tokens)"
   ]
  },
  {
   "cell_type": "code",
   "execution_count": 45,
   "id": "9b9befc1",
   "metadata": {},
   "outputs": [
    {
     "data": {
      "text/plain": [
       "Counter({'of': 6,\n",
       "         'with': 6,\n",
       "         'and': 5,\n",
       "         'no': 5,\n",
       "         'reports': 4,\n",
       "         'he': 4,\n",
       "         'was': 4,\n",
       "         'metastatic': 3,\n",
       "         'carcinoid': 3,\n",
       "         'tumor,': 3,\n",
       "         'the': 3,\n",
       "         'his': 3,\n",
       "         'on': 3,\n",
       "         'to': 3,\n",
       "         'worsening': 2,\n",
       "         'SOB,': 2,\n",
       "         'a': 2,\n",
       "         'increasing': 2,\n",
       "         'but': 2,\n",
       "         'last': 2,\n",
       "         'has': 2,\n",
       "         'He': 2,\n",
       "         'in': 2,\n",
       "         'mild': 2,\n",
       "         '[**9-10**],': 2,\n",
       "         'showed': 2,\n",
       "         'aortic': 2,\n",
       "         'po': 2,\n",
       "         '\\nService:': 1,\n",
       "         'MEDICINE\\n\\nChief': 1,\n",
       "         'Complaint:\\n5': 1,\n",
       "         'days': 1,\n",
       "         'DOE\\n': 1,\n",
       "         '\\nHistory': 1,\n",
       "         'Present': 1,\n",
       "         'Illness:\\nPt': 1,\n",
       "         'is': 1,\n",
       "         '63M': 1,\n",
       "         'w/': 1,\n",
       "         'h/o': 1,\n",
       "         'HTN,': 1,\n",
       "         '\\nhyperlipidemia': 1,\n",
       "         'who': 1,\n",
       "         'SOB': 1,\n",
       "         'DOE': 1,\n",
       "         'starting': 1,\n",
       "         'about': 1,\n",
       "         '\\na': 1,\n",
       "         'month': 1,\n",
       "         'ago': 1,\n",
       "         'significantly': 1,\n",
       "         'within': 1,\n",
       "         '5': 1,\n",
       "         'days.': 1,\n",
       "         '\\nIt': 1,\n",
       "         'recently': 1,\n",
       "         'gotten': 1,\n",
       "         'so': 1,\n",
       "         'bad': 1,\n",
       "         'can': 1,\n",
       "         'barely': 1,\n",
       "         'get': 1,\n",
       "         'up': 1,\n",
       "         'out': 1,\n",
       "         '\\nchair': 1,\n",
       "         'without': 1,\n",
       "         'getting': 1,\n",
       "         'short': 1,\n",
       "         'breath.': 1,\n",
       "         'orthopnea': 1,\n",
       "         'PND.': 1,\n",
       "         '\\n\\nHe': 1,\n",
       "         'fever': 1,\n",
       "         'or': 1,\n",
       "         'chills,': 1,\n",
       "         'URI': 1,\n",
       "         'symptoms,': 1,\n",
       "         'recent': 1,\n",
       "         'travel,': 1,\n",
       "         'changes': 1,\n",
       "         '\\nin': 1,\n",
       "         'medications.\\n\\nPt': 1,\n",
       "         'also': 1,\n",
       "         '~5': 1,\n",
       "         'episodes': 1,\n",
       "         'chest': 1,\n",
       "         'pain': 1,\n",
       "         'few': 1,\n",
       "         'weeks': 1,\n",
       "         '\\nwhich': 1,\n",
       "         'describes': 1,\n",
       "         'as': 1,\n",
       "         'pressure': 1,\n",
       "         'mid-sternum': 1,\n",
       "         'usually': 1,\n",
       "         '\\noccurs': 1,\n",
       "         'during': 1,\n",
       "         'exertion.\\n': 1,\n",
       "         '\\nPast': 1,\n",
       "         'Medical': 1,\n",
       "         'History:\\n1.': 1,\n",
       "         \"Dx'ed\": 1,\n",
       "         '2002\\n2.': 1,\n",
       "         'hypertension\\n3.': 1,\n",
       "         'hyperlipidemia\\n4.': 1,\n",
       "         'carotid': 1,\n",
       "         'endarterectomy': 1,\n",
       "         '1999\\n5.': 1,\n",
       "         'depression/anxiety\\n': 1,\n",
       "         '\\nSocial': 1,\n",
       "         'History:\\nLives': 1,\n",
       "         'alone,': 1,\n",
       "         'two': 1,\n",
       "         'daughters\\n': 1,\n",
       "         '\\nFamily': 1,\n",
       "         'History:\\nearly': 1,\n",
       "         'CAD\\n\\nBrief': 1,\n",
       "         'Hospital': 1,\n",
       "         'Course:\\n1.': 1,\n",
       "         'SOB:': 1,\n",
       "         'likely': 1,\n",
       "         'from': 1,\n",
       "         'CHF\\nThe': 1,\n",
       "         'patient': 1,\n",
       "         'initially': 1,\n",
       "         'diuresed': 1,\n",
       "         'for': 1,\n",
       "         'pulmonary': 1,\n",
       "         'edema:': 1,\n",
       "         '\\nreceived': 1,\n",
       "         '20': 1,\n",
       "         'IV': 1,\n",
       "         'Lasix': 1,\n",
       "         'night': 1,\n",
       "         'admission': 1,\n",
       "         '40mg': 1,\n",
       "         '\\ngood': 1,\n",
       "         'UOP.': 1,\n",
       "         'On': 1,\n",
       "         'pt': 1,\n",
       "         'reporting': 1,\n",
       "         'improvement': 1,\n",
       "         'symptoms': 1,\n",
       "         '\\nable': 1,\n",
       "         'walk': 1,\n",
       "         'around': 1,\n",
       "         'room': 1,\n",
       "         '4L': 1,\n",
       "         'O2': 1,\n",
       "         'NC.': 1,\n",
       "         'The': 1,\n",
       "         'following': 1,\n",
       "         'day': 1,\n",
       "         '\\nreported': 1,\n",
       "         'feeling': 1,\n",
       "         'worse,': 1,\n",
       "         'found': 1,\n",
       "         '\\nnow': 1,\n",
       "         'be': 1,\n",
       "         'oliguric': 1,\n",
       "         'renal': 1,\n",
       "         'failure.': 1,\n",
       "         'CXR': 1,\n",
       "         '[**9-11**]': 1,\n",
       "         '8am': 1,\n",
       "         '\\natelectasis': 1,\n",
       "         'possible': 1,\n",
       "         'superimposed': 1,\n",
       "         'pneumonia.': 1,\n",
       "         'Emergent': 1,\n",
       "         'TTE': 1,\n",
       "         '\\nshowed': 1,\n",
       "         'decreased': 1,\n",
       "         'EF': 1,\n",
       "         '(30%),': 1,\n",
       "         'anteroapical': 1,\n",
       "         'infarct': 1,\n",
       "         '\\nmoderate-to-severe': 1,\n",
       "         'overall': 1,\n",
       "         'left': 1,\n",
       "         'ventricular': 1,\n",
       "         'contractile': 1,\n",
       "         '\\ndysfunction;': 1,\n",
       "         'bicusapid': 1,\n",
       "         'valve': 1,\n",
       "         'at': 1,\n",
       "         'least': 1,\n",
       "         '\\nstenosis.': 1,\n",
       "         'sent': 1,\n",
       "         'MICU.\\n': 1,\n",
       "         '\\nMedications': 1,\n",
       "         'Admission:\\nASA': 1,\n",
       "         '81mg': 1,\n",
       "         'qd\\nLipitor': 1,\n",
       "         '20mg': 1,\n",
       "         'qpm\\n\\nDischarge': 1,\n",
       "         'Disposition:\\nExtended': 1,\n",
       "         'Care\\nDischarge': 1,\n",
       "         'Diagnosis:\\nPrimary:': 1,\n",
       "         'congestive': 1,\n",
       "         'heart': 1,\n",
       "         'failure\\nSecondary:': 1,\n",
       "         'hypertension,': 1,\n",
       "         '\\nhyperlipidemia,': 1,\n",
       "         'diabetes': 1,\n",
       "         'mellitus': 1,\n",
       "         'type': 1,\n",
       "         '2,': 1,\n",
       "         'basal': 1,\n",
       "         'cell': 1,\n",
       "         'carcinoma\\n': 1,\n",
       "         '\\nDischarge': 1,\n",
       "         'Condition:\\ngood,': 1,\n",
       "         'stable\\n': 1})"
      ]
     },
     "execution_count": 45,
     "metadata": {},
     "output_type": "execute_result"
    }
   ],
   "source": [
    "from collections import Counter\n",
    "Counter(tokens)"
   ]
  },
  {
   "cell_type": "code",
   "execution_count": null,
   "id": "93ffc562",
   "metadata": {},
   "outputs": [],
   "source": []
  },
  {
   "cell_type": "markdown",
   "id": "5159c340",
   "metadata": {},
   "source": [
    "### 2.\n",
    "Clinical notes are often structured with different *sections* which describe different parts of a patient's care. You can often recognize a new section by a title followed by a new line:\n",
    "\n",
    "```\n",
    "History of Present Illness:\n",
    "The pt is a 63M w...\n",
    "```\n",
    "\n",
    "Each of the texts below come from different sections of a clinical note. Write a function called `get_section_name` which takes a text and returns the name of the section. The expected values are written as comments. Test it on the three strings below. Note that the character `\"\\n\"` indicates a new line."
   ]
  },
  {
   "cell_type": "code",
   "execution_count": 46,
   "id": "42a48884",
   "metadata": {},
   "outputs": [],
   "source": [
    "texts = [\n",
    "    \"Chief Complaint:\\n5 days worsening SOB, DOE\", # \"Chief Complaint\"\n",
    "    \"History of Present Illness:\\nPt is a 63M w/ h/o metastatic carcinoid tumor.\", # \"History of Present Illness\"\n",
    "    \"Social History:\\nLives alone with two daughters.\" # \"Social History\"\n",
    "]"
   ]
  },
  {
   "cell_type": "code",
   "execution_count": 47,
   "id": "28f03360",
   "metadata": {},
   "outputs": [],
   "source": [
    "def get_section_name(text):\n",
    "    return text.split(\":\\n\")[0]"
   ]
  },
  {
   "cell_type": "code",
   "execution_count": null,
   "id": "fd1bb52a",
   "metadata": {},
   "outputs": [],
   "source": []
  },
  {
   "cell_type": "code",
   "execution_count": 48,
   "id": "8606a091",
   "metadata": {},
   "outputs": [
    {
     "name": "stdout",
     "output_type": "stream",
     "text": [
      "That is correct!\n"
     ]
    }
   ],
   "source": [
    "# RUN CELL TO TEST FUNCTION\n",
    "test_get_section_name.test(get_section_name)"
   ]
  },
  {
   "cell_type": "code",
   "execution_count": null,
   "id": "ccb7b206",
   "metadata": {},
   "outputs": [],
   "source": []
  },
  {
   "cell_type": "markdown",
   "id": "d9cf156b",
   "metadata": {},
   "source": [
    "### 3.\n",
    "Write a function called `pneumonia_in_text` which checks if a string contains *\"pneumonia\"* or the abbreviation *\"pna\"* is in a string. Test it on the following strings:\n"
   ]
  },
  {
   "cell_type": "code",
   "execution_count": 49,
   "id": "7f63672c",
   "metadata": {},
   "outputs": [],
   "source": [
    "pna_strings = [\n",
    "    \"The patient has pneumonia.\",\n",
    "    \"INDICATION: EVALUATE FOR PNEUMONIA\",\n",
    "    \"Patient shows symptoms concerning for pna.\",\n",
    "    \"The chest image found no evidence of pna\",\n",
    "]"
   ]
  },
  {
   "cell_type": "code",
   "execution_count": 50,
   "id": "724b9ca1",
   "metadata": {},
   "outputs": [],
   "source": [
    "def pneumonia_in_text(text):\n",
    "    if \"pneumonia\" in text.lower() or \"pna\" in text.lower():\n",
    "        return True\n",
    "    return False"
   ]
  },
  {
   "cell_type": "code",
   "execution_count": null,
   "id": "00756500",
   "metadata": {},
   "outputs": [],
   "source": []
  },
  {
   "cell_type": "code",
   "execution_count": 51,
   "id": "67ef6fcb",
   "metadata": {},
   "outputs": [
    {
     "name": "stdout",
     "output_type": "stream",
     "text": [
      "That is correct!\n"
     ]
    }
   ],
   "source": [
    "# RUN CELL TO TEST FUNCTION\n",
    "test_pneumonia_in_text.test(pneumonia_in_text)"
   ]
  },
  {
   "cell_type": "code",
   "execution_count": 52,
   "id": "bcd53cef",
   "metadata": {},
   "outputs": [
    {
     "data": {
      "application/vnd.jupyter.widget-view+json": {
       "model_id": "264f07f52de5489f92227edcfebee775",
       "version_major": 2,
       "version_minor": 0
      },
      "text/plain": [
       "VBox(children=(HTML(value='If the function above returns True, that means the note indicates the patient has p…"
      ]
     },
     "metadata": {},
     "output_type": "display_data"
    },
    {
     "data": {
      "text/plain": []
     },
     "execution_count": 52,
     "metadata": {},
     "output_type": "execute_result"
    }
   ],
   "source": [
    "# RUN CELL TO SEE QUIZ\n",
    "quiz_mc_pneumonia_in_text"
   ]
  },
  {
   "cell_type": "code",
   "execution_count": null,
   "id": "4d8f63b5",
   "metadata": {},
   "outputs": [],
   "source": []
  },
  {
   "cell_type": "markdown",
   "id": "47d90edf",
   "metadata": {},
   "source": [
    "### 4.\n",
    "Edit the code below so that the function which generates a string which gives the patient's name, age, and chief complaint based on the argument values."
   ]
  },
  {
   "cell_type": "code",
   "execution_count": 53,
   "id": "8f29372b",
   "metadata": {},
   "outputs": [
    {
     "data": {
      "application/vnd.jupyter.widget-view+json": {
       "model_id": "1d64af5c550c43199f8a582c1cc27dce",
       "version_major": 2,
       "version_minor": 0
      },
      "text/plain": [
       "VBox(children=(HTML(value='</br><strong>Displaying hint 0/1</strong>'), Output(), Button(description='Get hint…"
      ]
     },
     "metadata": {},
     "output_type": "display_data"
    },
    {
     "data": {
      "text/plain": []
     },
     "execution_count": 53,
     "metadata": {},
     "output_type": "execute_result"
    }
   ],
   "source": [
    "# RUN CELL TO SEE QUIZ\n",
    "hint_generate_chief_complaint"
   ]
  },
  {
   "cell_type": "code",
   "execution_count": 54,
   "id": "53a4ee52",
   "metadata": {},
   "outputs": [],
   "source": [
    "def generate_chief_complaint(name, age, chief_complaint):\n",
    "    text = \"Alec Chapman is a 29-year-old patient who presents today with a broken arm.\"\n",
    "    return text"
   ]
  },
  {
   "cell_type": "code",
   "execution_count": 55,
   "id": "d2cd59f4",
   "metadata": {},
   "outputs": [
    {
     "name": "stdout",
     "output_type": "stream",
     "text": [
      "Alec Chapman is a 29-year-old patient who presents today with a broken arm.\n",
      "Alec Chapman is a 29-year-old patient who presents today with a broken arm.\n",
      "Alec Chapman is a 29-year-old patient who presents today with a broken arm.\n"
     ]
    }
   ],
   "source": [
    "# Each line should print a different value\n",
    "print(generate_chief_complaint(\"Alec Chapman\", \"29\", \"a broken arm\"))\n",
    "print(generate_chief_complaint(\"John Doe\", \"41\", \"cough and fever.\"))\n",
    "print(generate_chief_complaint(\"Jane Doe\", \"61\", \"symptoms concerning for pneumonia.\"))"
   ]
  },
  {
   "cell_type": "code",
   "execution_count": 56,
   "id": "a83c9b28",
   "metadata": {},
   "outputs": [],
   "source": [
    "def generate_chief_complaint(name, age, chief_complaint):\n",
    "    text = f\"{name} is a {age}-year-old patient who presents today with {chief_complaint}.\"\n",
    "    return text"
   ]
  },
  {
   "cell_type": "code",
   "execution_count": 57,
   "id": "cc3663d1",
   "metadata": {},
   "outputs": [
    {
     "name": "stdout",
     "output_type": "stream",
     "text": [
      "Alec Chapman is a 29-year-old patient who presents today with a broken arm.\n",
      "John Doe is a 41-year-old patient who presents today with cough and fever.\n",
      "Jane Doe is a 61-year-old patient who presents today with symptoms concerning for pneumonia.\n"
     ]
    }
   ],
   "source": [
    "# Each line should print a different value\n",
    "print(generate_chief_complaint(\"Alec Chapman\", \"29\", \"a broken arm\"))\n",
    "print(generate_chief_complaint(\"John Doe\", \"41\", \"cough and fever\"))\n",
    "print(generate_chief_complaint(\"Jane Doe\", \"61\", \"symptoms concerning for pneumonia\"))"
   ]
  },
  {
   "cell_type": "code",
   "execution_count": null,
   "id": "84a0ea6d",
   "metadata": {},
   "outputs": [],
   "source": []
  }
 ],
 "metadata": {
  "kernelspec": {
   "display_name": "Python 3 (ipykernel)",
   "language": "python",
   "name": "python3"
  },
  "language_info": {
   "codemirror_mode": {
    "name": "ipython",
    "version": 3
   },
   "file_extension": ".py",
   "mimetype": "text/x-python",
   "name": "python",
   "nbconvert_exporter": "python",
   "pygments_lexer": "ipython3",
   "version": "3.10.13"
  }
 },
 "nbformat": 4,
 "nbformat_minor": 5
}
