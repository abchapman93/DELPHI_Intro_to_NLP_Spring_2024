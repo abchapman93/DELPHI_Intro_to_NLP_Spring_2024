{
 "cells": [
  {
   "cell_type": "markdown",
   "id": "65961103",
   "metadata": {},
   "source": [
    "\n",
    "<img src=\"https://github.com/abchapman93/DELPHI_Intro_to_NLP_Spring_2024/blob/main/media/DELPHI-long.png?raw=true\" size=\"20%\">\n",
    "</br>\n",
    "\n",
    "<h1 valign=\"center\" align=\"center\"><font size=\"+150\">Introduction to NLP in Python</br>Spring 2024</font></h1>"
   ]
  },
  {
   "cell_type": "code",
   "execution_count": 1,
   "id": "3ee91deb",
   "metadata": {},
   "outputs": [],
   "source": [
    "%load_ext autoreload\n",
    "%autoreload 2"
   ]
  },
  {
   "cell_type": "code",
   "execution_count": 55,
   "id": "bf956da3-d0fb-4ce9-9502-b9cdaf0cb770",
   "metadata": {},
   "outputs": [],
   "source": [
    "import sys\n",
    "sys.path.insert(0, \"..\")\n",
    "\n",
    "from delphi_nlp_2024 import *\n",
    "from delphi_nlp_2024.quizzes.quizzes import *\n",
    "from delphi_nlp_2024.helpers import *"
   ]
  },
  {
   "cell_type": "markdown",
   "id": "2208d3e3",
   "metadata": {},
   "source": [
    "# NLP with medspaCy\n",
    "This notebook will introduce the Python package `medspaCy`, a toolkit for clinical NLP.\n",
    "\n",
    "# I. Overview\n",
    "As we saw in the last notebook, spaCy doesn't work great for clinical text out of the box. We're interested in extracting different types of information from clinical text than news or Wikipedia articles. Clinical text is also very different from general domain language. \n",
    "- **It is very messy**, with semi-structured formatting from EHR\n",
    "- Clinical documents include **many abbreviations**, some of which are ambiguous\n",
    "- There are **specific tasks** needed in clinical NLP, such as **detecting negation or uncertainty** for concepts in the text\n",
    "\n",
    "One of the most powerful components of spaCy is that is **very customizable**. In addition to working with the default models provided in the core library, you can create your own [custom components](https://spacy.io/usage/processing-pipelines#custom-components) or add your own [extension attributes](https://spacy.io/usage/processing-pipelines#custom-components-attributes). Developers and researchers can then publish their spaCy extensions to the open-source community. Some examples of these openly available libraries are:\n",
    "\n",
    "- [medspacy](https://github.com/medspacy/medspacy): A modular toolkit for various applied clinical NLP tasks\n",
    "- [scispacy](https://allenai.github.io/scispacy/): Includes models trained on biomedical literature\n",
    "- [medCAT](https://github.com/CogStack/MedCAT): Models trained for medical concept extraction\n",
    "\n",
    "## medspacy\n",
    "<img alt=\"MedSpaCy logo\" src=\"https://github.com/medspacy/medspacy/raw/master/images/medspacy_logo.png\">\n",
    "\n",
    "\n",
    "[Medspacy](https://github.com/medspacy/medspacy) is an open-source package maintained by NLP developers at the University of Utah and the US Department of Veterans Affairs. It's built using the popular [spaCy](https://spacy.io/) library and is specifically designed for working with clinical notes. \n",
    "\n",
    "The goal of medSpaCy is to provide flexible, easy-to-use spaCy components for common clinical NLP tasks, such as:\n",
    "\n",
    "- Concept extraction\n",
    "- Negation detection\n",
    "- Document section splitting\n",
    "\n",
    "Here are a couple of papers that used medspaCy:\n",
    "\n",
    "- [Launching into clinical space with medspaCy: a new clinical text processing toolkit in Python\n",
    "](https://www.ncbi.nlm.nih.gov/pmc/articles/PMC8861690/)\n",
    "- [A Natural Language Processing System for National\n",
    "COVID-19 Surveillance in the US Department of Veterans Affairs](https://aclanthology.org/2020.nlpcovid19-acl.10.pdf)\n",
    "- [ReHouSED: A novel measurement of Veteran housing stability using natural language processing](https://www.sciencedirect.com/science/article/pii/S153204642100232X?via%3Dihub)\n",
    "- [Assessing mortality prediction through different representation models based on concepts extracted from clinical notes](https://arxiv.org/pdf/2207.10872.pdf)\n",
    "- [A Study into patient similarity through representation learning from medical\n",
    "records ](https://arxiv.org/pdf/2104.14229.pdf)"
   ]
  },
  {
   "cell_type": "markdown",
   "id": "aa470e87",
   "metadata": {},
   "source": [
    "## Getting started with medspaCy\n",
    "This notebook will walk show how to use medspaCy to process clinical text and introduce some of the spaCy infrastrcuture. We'll then design some rules to extract concepts from clinical texts.\n",
    "\n",
    "\n",
    "To get started with medspaCy, we'll import the library and then load a **model** which we will call `nlp`. A model in spaCy is the object which processes a note and performs the various steps of text processing."
   ]
  },
  {
   "cell_type": "code",
   "execution_count": 4,
   "id": "b86395d0-ae79-41d8-a000-aa2616054e65",
   "metadata": {},
   "outputs": [
    {
     "name": "stdout",
     "output_type": "stream",
     "text": [
      "Collecting medspacy\n",
      "  Using cached medspacy-1.1.5-py3-none-any.whl\n",
      "Collecting spacy<3.6,>=3.4.1 (from medspacy)\n",
      "  Using cached spacy-3.5.4-cp310-cp310-macosx_10_9_x86_64.whl.metadata (25 kB)\n",
      "Collecting PyRuSH>=1.0.8 (from medspacy)\n",
      "  Using cached PyRuSH-1.0.8-cp310-cp310-macosx_10_9_x86_64.whl (62 kB)\n",
      "Collecting pysbd==0.3.4 (from medspacy)\n",
      "  Using cached pysbd-0.3.4-py3-none-any.whl (71 kB)\n",
      "Requirement already satisfied: jsonschema in /Users/alecchapman/opt/miniconda3/envs/delphi-nlp/lib/python3.10/site-packages (from medspacy) (4.21.1)\n",
      "Collecting medspacy-quickumls==3.0 (from medspacy)\n",
      "  Using cached medspacy_quickumls-3.0-py3-none-any.whl.metadata (9.7 kB)\n",
      "Requirement already satisfied: numpy>=1.8.2 in /Users/alecchapman/opt/miniconda3/envs/delphi-nlp/lib/python3.10/site-packages (from medspacy-quickumls==3.0->medspacy) (1.26.4)\n",
      "Collecting unidecode>=0.4.19 (from medspacy-quickumls==3.0->medspacy)\n",
      "  Using cached Unidecode-1.3.8-py3-none-any.whl.metadata (13 kB)\n",
      "Collecting nltk>=3.3 (from medspacy-quickumls==3.0->medspacy)\n",
      "  Downloading nltk-3.8.1-py3-none-any.whl.metadata (2.8 kB)\n",
      "Collecting pysimstring (from medspacy-quickumls==3.0->medspacy)\n",
      "  Using cached pysimstring-1.2.1-cp310-cp310-macosx_10_9_x86_64.whl (119 kB)\n",
      "Collecting unqlite>=0.8.1 (from medspacy-quickumls==3.0->medspacy)\n",
      "  Using cached unqlite-0.9.6-cp310-cp310-macosx_10_9_x86_64.whl\n",
      "Collecting pytest>=6 (from medspacy-quickumls==3.0->medspacy)\n",
      "  Using cached pytest-8.0.1-py3-none-any.whl.metadata (7.7 kB)\n",
      "Requirement already satisfied: six in /Users/alecchapman/opt/miniconda3/envs/delphi-nlp/lib/python3.10/site-packages (from medspacy-quickumls==3.0->medspacy) (1.16.0)\n",
      "Collecting Cython<3.0,>=0.25 (from PyRuSH>=1.0.8->medspacy)\n",
      "  Using cached Cython-0.29.37-py2.py3-none-any.whl.metadata (3.1 kB)\n",
      "Requirement already satisfied: setuptools in /Users/alecchapman/opt/miniconda3/envs/delphi-nlp/lib/python3.10/site-packages (from PyRuSH>=1.0.8->medspacy) (68.2.2)\n",
      "Collecting PyFastNER>=1.0.8 (from PyRuSH>=1.0.8->medspacy)\n",
      "  Using cached PyFastNER-1.0.10-py3-none-any.whl.metadata (15 kB)\n",
      "Collecting quicksectx>=0.3.5 (from PyRuSH>=1.0.8->medspacy)\n",
      "  Using cached quicksectx-0.3.8-cp310-cp310-macosx_10_9_x86_64.whl.metadata (4.6 kB)\n",
      "Collecting spacy-legacy<3.1.0,>=3.0.11 (from spacy<3.6,>=3.4.1->medspacy)\n",
      "  Using cached spacy_legacy-3.0.12-py2.py3-none-any.whl.metadata (2.8 kB)\n",
      "Collecting spacy-loggers<2.0.0,>=1.0.0 (from spacy<3.6,>=3.4.1->medspacy)\n",
      "  Using cached spacy_loggers-1.0.5-py3-none-any.whl.metadata (23 kB)\n",
      "Collecting murmurhash<1.1.0,>=0.28.0 (from spacy<3.6,>=3.4.1->medspacy)\n",
      "  Using cached murmurhash-1.0.10-cp310-cp310-macosx_10_9_x86_64.whl.metadata (2.0 kB)\n",
      "Collecting cymem<2.1.0,>=2.0.2 (from spacy<3.6,>=3.4.1->medspacy)\n",
      "  Using cached cymem-2.0.8-cp310-cp310-macosx_10_9_x86_64.whl.metadata (8.4 kB)\n",
      "Collecting preshed<3.1.0,>=3.0.2 (from spacy<3.6,>=3.4.1->medspacy)\n",
      "  Using cached preshed-3.0.9-cp310-cp310-macosx_10_9_x86_64.whl.metadata (2.2 kB)\n",
      "Collecting thinc<8.2.0,>=8.1.8 (from spacy<3.6,>=3.4.1->medspacy)\n",
      "  Using cached thinc-8.1.12-cp310-cp310-macosx_10_9_x86_64.whl.metadata (15 kB)\n",
      "Collecting wasabi<1.2.0,>=0.9.1 (from spacy<3.6,>=3.4.1->medspacy)\n",
      "  Using cached wasabi-1.1.2-py3-none-any.whl.metadata (28 kB)\n",
      "Collecting srsly<3.0.0,>=2.4.3 (from spacy<3.6,>=3.4.1->medspacy)\n",
      "  Using cached srsly-2.4.8-cp310-cp310-macosx_10_9_x86_64.whl.metadata (20 kB)\n",
      "Collecting catalogue<2.1.0,>=2.0.6 (from spacy<3.6,>=3.4.1->medspacy)\n",
      "  Using cached catalogue-2.0.10-py3-none-any.whl.metadata (14 kB)\n",
      "Collecting typer<0.10.0,>=0.3.0 (from spacy<3.6,>=3.4.1->medspacy)\n",
      "  Using cached typer-0.9.0-py3-none-any.whl.metadata (14 kB)\n",
      "Collecting pathy>=0.10.0 (from spacy<3.6,>=3.4.1->medspacy)\n",
      "  Using cached pathy-0.11.0-py3-none-any.whl.metadata (16 kB)\n",
      "Collecting smart-open<7.0.0,>=5.2.1 (from spacy<3.6,>=3.4.1->medspacy)\n",
      "  Using cached smart_open-6.4.0-py3-none-any.whl.metadata (21 kB)\n",
      "Collecting tqdm<5.0.0,>=4.38.0 (from spacy<3.6,>=3.4.1->medspacy)\n",
      "  Using cached tqdm-4.66.2-py3-none-any.whl.metadata (57 kB)\n",
      "Requirement already satisfied: requests<3.0.0,>=2.13.0 in /Users/alecchapman/opt/miniconda3/envs/delphi-nlp/lib/python3.10/site-packages (from spacy<3.6,>=3.4.1->medspacy) (2.31.0)\n",
      "Collecting pydantic!=1.8,!=1.8.1,<1.11.0,>=1.7.4 (from spacy<3.6,>=3.4.1->medspacy)\n",
      "  Using cached pydantic-1.10.14-cp310-cp310-macosx_10_9_x86_64.whl.metadata (150 kB)\n",
      "Requirement already satisfied: jinja2 in /Users/alecchapman/opt/miniconda3/envs/delphi-nlp/lib/python3.10/site-packages (from spacy<3.6,>=3.4.1->medspacy) (3.1.3)\n",
      "Requirement already satisfied: packaging>=20.0 in /Users/alecchapman/opt/miniconda3/envs/delphi-nlp/lib/python3.10/site-packages (from spacy<3.6,>=3.4.1->medspacy) (23.2)\n",
      "Collecting langcodes<4.0.0,>=3.2.0 (from spacy<3.6,>=3.4.1->medspacy)\n",
      "  Using cached langcodes-3.3.0-py3-none-any.whl (181 kB)\n",
      "Requirement already satisfied: attrs>=22.2.0 in /Users/alecchapman/opt/miniconda3/envs/delphi-nlp/lib/python3.10/site-packages (from jsonschema->medspacy) (23.2.0)\n",
      "Requirement already satisfied: jsonschema-specifications>=2023.03.6 in /Users/alecchapman/opt/miniconda3/envs/delphi-nlp/lib/python3.10/site-packages (from jsonschema->medspacy) (2023.12.1)\n",
      "Requirement already satisfied: referencing>=0.28.4 in /Users/alecchapman/opt/miniconda3/envs/delphi-nlp/lib/python3.10/site-packages (from jsonschema->medspacy) (0.33.0)\n",
      "Requirement already satisfied: rpds-py>=0.7.1 in /Users/alecchapman/opt/miniconda3/envs/delphi-nlp/lib/python3.10/site-packages (from jsonschema->medspacy) (0.18.0)\n",
      "Collecting click (from nltk>=3.3->medspacy-quickumls==3.0->medspacy)\n",
      "  Using cached click-8.1.7-py3-none-any.whl.metadata (3.0 kB)\n",
      "Collecting joblib (from nltk>=3.3->medspacy-quickumls==3.0->medspacy)\n",
      "  Using cached joblib-1.3.2-py3-none-any.whl.metadata (5.4 kB)\n",
      "Collecting regex>=2021.8.3 (from nltk>=3.3->medspacy-quickumls==3.0->medspacy)\n",
      "  Using cached regex-2023.12.25-cp310-cp310-macosx_10_9_x86_64.whl.metadata (40 kB)\n",
      "Collecting pathlib-abc==0.1.1 (from pathy>=0.10.0->spacy<3.6,>=3.4.1->medspacy)\n",
      "  Using cached pathlib_abc-0.1.1-py3-none-any.whl.metadata (18 kB)\n",
      "Requirement already satisfied: typing-extensions>=4.2.0 in /Users/alecchapman/opt/miniconda3/envs/delphi-nlp/lib/python3.10/site-packages (from pydantic!=1.8,!=1.8.1,<1.11.0,>=1.7.4->spacy<3.6,>=3.4.1->medspacy) (4.9.0)\n",
      "Collecting iniconfig (from pytest>=6->medspacy-quickumls==3.0->medspacy)\n",
      "  Downloading iniconfig-2.0.0-py3-none-any.whl.metadata (2.6 kB)\n",
      "Collecting pluggy<2.0,>=1.3.0 (from pytest>=6->medspacy-quickumls==3.0->medspacy)\n",
      "  Using cached pluggy-1.4.0-py3-none-any.whl.metadata (4.3 kB)\n",
      "Requirement already satisfied: exceptiongroup>=1.0.0rc8 in /Users/alecchapman/opt/miniconda3/envs/delphi-nlp/lib/python3.10/site-packages (from pytest>=6->medspacy-quickumls==3.0->medspacy) (1.2.0)\n",
      "Requirement already satisfied: tomli>=1.0.0 in /Users/alecchapman/opt/miniconda3/envs/delphi-nlp/lib/python3.10/site-packages (from pytest>=6->medspacy-quickumls==3.0->medspacy) (2.0.1)\n",
      "Requirement already satisfied: charset-normalizer<4,>=2 in /Users/alecchapman/opt/miniconda3/envs/delphi-nlp/lib/python3.10/site-packages (from requests<3.0.0,>=2.13.0->spacy<3.6,>=3.4.1->medspacy) (3.3.2)\n",
      "Requirement already satisfied: idna<4,>=2.5 in /Users/alecchapman/opt/miniconda3/envs/delphi-nlp/lib/python3.10/site-packages (from requests<3.0.0,>=2.13.0->spacy<3.6,>=3.4.1->medspacy) (3.6)\n",
      "Requirement already satisfied: urllib3<3,>=1.21.1 in /Users/alecchapman/opt/miniconda3/envs/delphi-nlp/lib/python3.10/site-packages (from requests<3.0.0,>=2.13.0->spacy<3.6,>=3.4.1->medspacy) (2.2.1)\n",
      "Requirement already satisfied: certifi>=2017.4.17 in /Users/alecchapman/opt/miniconda3/envs/delphi-nlp/lib/python3.10/site-packages (from requests<3.0.0,>=2.13.0->spacy<3.6,>=3.4.1->medspacy) (2024.2.2)\n",
      "Collecting blis<0.8.0,>=0.7.8 (from thinc<8.2.0,>=8.1.8->spacy<3.6,>=3.4.1->medspacy)\n",
      "  Using cached blis-0.7.11-cp310-cp310-macosx_10_9_x86_64.whl.metadata (7.4 kB)\n",
      "Collecting confection<1.0.0,>=0.0.1 (from thinc<8.2.0,>=8.1.8->spacy<3.6,>=3.4.1->medspacy)\n",
      "  Using cached confection-0.1.4-py3-none-any.whl.metadata (19 kB)\n",
      "Requirement already satisfied: MarkupSafe>=2.0 in /Users/alecchapman/opt/miniconda3/envs/delphi-nlp/lib/python3.10/site-packages (from jinja2->spacy<3.6,>=3.4.1->medspacy) (2.1.5)\n",
      "Using cached medspacy_quickumls-3.0-py3-none-any.whl (92 kB)\n",
      "Using cached spacy-3.5.4-cp310-cp310-macosx_10_9_x86_64.whl (6.9 MB)\n",
      "Using cached catalogue-2.0.10-py3-none-any.whl (17 kB)\n",
      "Using cached cymem-2.0.8-cp310-cp310-macosx_10_9_x86_64.whl (41 kB)\n",
      "Using cached Cython-0.29.37-py2.py3-none-any.whl (989 kB)\n",
      "Using cached murmurhash-1.0.10-cp310-cp310-macosx_10_9_x86_64.whl (26 kB)\n",
      "Using cached nltk-3.8.1-py3-none-any.whl (1.5 MB)\n",
      "Using cached pathy-0.11.0-py3-none-any.whl (47 kB)\n",
      "Using cached pathlib_abc-0.1.1-py3-none-any.whl (23 kB)\n",
      "Using cached preshed-3.0.9-cp310-cp310-macosx_10_9_x86_64.whl (132 kB)\n",
      "Using cached pydantic-1.10.14-cp310-cp310-macosx_10_9_x86_64.whl (2.9 MB)\n",
      "Using cached PyFastNER-1.0.10-py3-none-any.whl (22 kB)\n",
      "Using cached pytest-8.0.1-py3-none-any.whl (333 kB)\n",
      "Using cached quicksectx-0.3.8-cp310-cp310-macosx_10_9_x86_64.whl (369 kB)\n",
      "Using cached smart_open-6.4.0-py3-none-any.whl (57 kB)\n",
      "Using cached spacy_legacy-3.0.12-py2.py3-none-any.whl (29 kB)\n",
      "Using cached spacy_loggers-1.0.5-py3-none-any.whl (22 kB)\n",
      "Using cached srsly-2.4.8-cp310-cp310-macosx_10_9_x86_64.whl (492 kB)\n",
      "Using cached thinc-8.1.12-cp310-cp310-macosx_10_9_x86_64.whl (867 kB)\n",
      "Using cached tqdm-4.66.2-py3-none-any.whl (78 kB)\n",
      "Using cached typer-0.9.0-py3-none-any.whl (45 kB)\n",
      "Using cached Unidecode-1.3.8-py3-none-any.whl (235 kB)\n",
      "Using cached wasabi-1.1.2-py3-none-any.whl (27 kB)\n",
      "Using cached blis-0.7.11-cp310-cp310-macosx_10_9_x86_64.whl (6.1 MB)\n",
      "Using cached click-8.1.7-py3-none-any.whl (97 kB)\n",
      "Using cached confection-0.1.4-py3-none-any.whl (35 kB)\n",
      "Using cached pluggy-1.4.0-py3-none-any.whl (20 kB)\n",
      "Using cached regex-2023.12.25-cp310-cp310-macosx_10_9_x86_64.whl (296 kB)\n",
      "Using cached iniconfig-2.0.0-py3-none-any.whl (5.9 kB)\n",
      "Using cached joblib-1.3.2-py3-none-any.whl (302 kB)\n",
      "Installing collected packages: pysimstring, cymem, wasabi, unidecode, tqdm, spacy-loggers, spacy-legacy, smart-open, regex, pysbd, pydantic, pluggy, pathlib-abc, murmurhash, langcodes, joblib, iniconfig, Cython, click, catalogue, blis, unqlite, typer, srsly, quicksectx, pytest, preshed, nltk, PyFastNER, pathy, confection, thinc, spacy, PyRuSH, medspacy-quickumls, medspacy\n",
      "Successfully installed Cython-0.29.37 PyFastNER-1.0.10 PyRuSH-1.0.8 blis-0.7.11 catalogue-2.0.10 click-8.1.7 confection-0.1.4 cymem-2.0.8 iniconfig-2.0.0 joblib-1.3.2 langcodes-3.3.0 medspacy-1.1.5 medspacy-quickumls-3.0 murmurhash-1.0.10 nltk-3.8.1 pathlib-abc-0.1.1 pathy-0.11.0 pluggy-1.4.0 preshed-3.0.9 pydantic-1.10.14 pysbd-0.3.4 pysimstring-1.2.1 pytest-8.0.1 quicksectx-0.3.8 regex-2023.12.25 smart-open-6.4.0 spacy-3.5.4 spacy-legacy-3.0.12 spacy-loggers-1.0.5 srsly-2.4.8 thinc-8.1.12 tqdm-4.66.2 typer-0.9.0 unidecode-1.3.8 unqlite-0.9.6 wasabi-1.1.2\n"
     ]
    }
   ],
   "source": [
    "!pip install medspacy"
   ]
  },
  {
   "cell_type": "code",
   "execution_count": 5,
   "id": "256d0929",
   "metadata": {},
   "outputs": [],
   "source": [
    "import medspacy"
   ]
  },
  {
   "cell_type": "markdown",
   "id": "6c3b4566",
   "metadata": {},
   "source": [
    "### `nlp`\n",
    "The simplest way to create a model in medspaCy is `medspaCy.load()`. This is a spaCy `English` class. You can also load models for other languages."
   ]
  },
  {
   "cell_type": "code",
   "execution_count": 6,
   "id": "46a9f92e",
   "metadata": {},
   "outputs": [
    {
     "data": {
      "text/plain": [
       "<spacy.lang.en.English at 0x7f9530416200>"
      ]
     },
     "execution_count": 6,
     "metadata": {},
     "output_type": "execute_result"
    }
   ],
   "source": [
    "nlp = medspacy.load()\n",
    "nlp"
   ]
  },
  {
   "cell_type": "markdown",
   "id": "00712877",
   "metadata": {},
   "source": [
    "### `Doc`\n",
    "To process a text, we call `nlp(text)` and save the result to `doc`. Calling `nlp` on a text returns an object from the `Doc` class. In spaCy, `Doc` objects represent a single text."
   ]
  },
  {
   "cell_type": "code",
   "execution_count": 7,
   "id": "3aa679ab",
   "metadata": {},
   "outputs": [
    {
     "data": {
      "text/plain": [
       "Chief complaint: Fever and SOB"
      ]
     },
     "execution_count": 7,
     "metadata": {},
     "output_type": "execute_result"
    }
   ],
   "source": [
    "text = \"Chief complaint: Fever and SOB\"\n",
    "doc = nlp(text)\n",
    "doc"
   ]
  },
  {
   "cell_type": "code",
   "execution_count": 8,
   "id": "7f81ec64",
   "metadata": {},
   "outputs": [
    {
     "data": {
      "text/plain": [
       "spacy.tokens.doc.Doc"
      ]
     },
     "execution_count": 8,
     "metadata": {},
     "output_type": "execute_result"
    }
   ],
   "source": [
    "type(doc)"
   ]
  },
  {
   "cell_type": "code",
   "execution_count": null,
   "id": "cb614b58",
   "metadata": {},
   "outputs": [],
   "source": []
  },
  {
   "cell_type": "markdown",
   "id": "df22bad5",
   "metadata": {},
   "source": [
    "### `Token`\n",
    "A `Token` is a single word, symbol, or whitespace in a `doc`. When we create a `doc` object, the text broken up into individual tokens. This is called **\"tokenization\"**.\n",
    "\n",
    "**Discussion**: Look at the tokens generated from this text snippet. What can you say about the tokenization method? Is it as simple as splitting up into words every time we reach a whitespace?"
   ]
  },
  {
   "cell_type": "code",
   "execution_count": 9,
   "id": "6a97bf46",
   "metadata": {},
   "outputs": [
    {
     "name": "stdout",
     "output_type": "stream",
     "text": [
      "Chief\n",
      "complaint\n",
      ":\n",
      "Fever\n",
      "and\n",
      "SOB\n"
     ]
    }
   ],
   "source": [
    "for token in doc:\n",
    "    print(token)"
   ]
  },
  {
   "cell_type": "code",
   "execution_count": 10,
   "id": "2abe352e",
   "metadata": {},
   "outputs": [
    {
     "name": "stdout",
     "output_type": "stream",
     "text": [
      "<class 'spacy.tokens.token.Token'>\n"
     ]
    }
   ],
   "source": [
    "print(type(token))"
   ]
  },
  {
   "cell_type": "markdown",
   "id": "74f5944c",
   "metadata": {},
   "source": [
    "If we access a single index of a doc, we get a token:"
   ]
  },
  {
   "cell_type": "code",
   "execution_count": 11,
   "id": "e1ce2401",
   "metadata": {},
   "outputs": [
    {
     "data": {
      "text/plain": [
       "Chief"
      ]
     },
     "execution_count": 11,
     "metadata": {},
     "output_type": "execute_result"
    }
   ],
   "source": [
    "token = doc[0]\n",
    "token"
   ]
  },
  {
   "cell_type": "code",
   "execution_count": 16,
   "id": "b30593c3",
   "metadata": {},
   "outputs": [
    {
     "data": {
      "application/vnd.jupyter.widget-view+json": {
       "model_id": "f8d7e88c6e1141f081dfcdf7ab3248c2",
       "version_major": 2,
       "version_minor": 0
      },
      "text/plain": [
       "VBox(children=(HTML(value='What would the value of the previouscell be if we had instead run: <p style=\"font-f…"
      ]
     },
     "metadata": {},
     "output_type": "display_data"
    },
    {
     "data": {
      "text/plain": []
     },
     "execution_count": 16,
     "metadata": {},
     "output_type": "execute_result"
    }
   ],
   "source": [
    "quiz_doc_cc_idx"
   ]
  },
  {
   "cell_type": "markdown",
   "id": "ed548101",
   "metadata": {},
   "source": [
    "### `Span`\n",
    "While a `Token` represents a single word, a `Span` represents one or more words from a `Doc`. We can get a `Span` by slicing a `Doc` object:"
   ]
  },
  {
   "cell_type": "code",
   "execution_count": 17,
   "id": "6924b484",
   "metadata": {},
   "outputs": [
    {
     "data": {
      "text/plain": [
       "Chief complaint:"
      ]
     },
     "execution_count": 17,
     "metadata": {},
     "output_type": "execute_result"
    }
   ],
   "source": [
    "span = doc[0:3]\n",
    "span"
   ]
  },
  {
   "cell_type": "code",
   "execution_count": null,
   "id": "79c1b0ad",
   "metadata": {},
   "outputs": [],
   "source": []
  },
  {
   "cell_type": "markdown",
   "id": "283be07a",
   "metadata": {},
   "source": [
    "## Pipeline Components\n",
    "Under the hood, the `nlp` object goes through a number of sequential steps to process the text. This is called a **pipeline** and it allows us to create modular, independent processing steps when analyzing text. We can see the names of our pipeline components through the `nlp.pipe_names` attribute:"
   ]
  },
  {
   "cell_type": "code",
   "execution_count": 18,
   "id": "0ca111cc",
   "metadata": {},
   "outputs": [
    {
     "data": {
      "text/plain": [
       "['medspacy_pyrush', 'medspacy_target_matcher', 'medspacy_context']"
      ]
     },
     "execution_count": 18,
     "metadata": {},
     "output_type": "execute_result"
    }
   ],
   "source": [
    "nlp.pipe_names"
   ]
  },
  {
   "cell_type": "markdown",
   "id": "23ab0c5e",
   "metadata": {},
   "source": [
    "There's also a hidden component which runs before all of them called the `tokenizer`. This splits text up into tokens and creates a `Doc` object, which is then passed on to the rest of the components."
   ]
  },
  {
   "cell_type": "code",
   "execution_count": 19,
   "id": "007105a5",
   "metadata": {},
   "outputs": [
    {
     "data": {
      "text/plain": [
       "Chief complaint: Fever and SOB"
      ]
     },
     "execution_count": 19,
     "metadata": {},
     "output_type": "execute_result"
    }
   ],
   "source": [
    "nlp.tokenizer(text)"
   ]
  },
  {
   "cell_type": "markdown",
   "id": "842bcbf4",
   "metadata": {},
   "source": [
    "We'll learn more about some of these pipeline components in the following notebooks. First, we'll start with the `target_matcher` component and learn how to extract clinical concepts from text."
   ]
  },
  {
   "cell_type": "code",
   "execution_count": 20,
   "id": "b08b41bd",
   "metadata": {},
   "outputs": [
    {
     "data": {
      "text/plain": [
       "['medspacy_target_matcher']"
      ]
     },
     "execution_count": 20,
     "metadata": {},
     "output_type": "execute_result"
    }
   ],
   "source": [
    "# For now, remove some components we don't need\n",
    "nlp.remove_pipe(\"medspacy_pyrush\")\n",
    "nlp.remove_pipe(\"medspacy_context\")\n",
    "nlp.pipe_names"
   ]
  },
  {
   "cell_type": "markdown",
   "id": "5130551b",
   "metadata": {},
   "source": [
    "## Concept Extraction\n",
    "One of the first step in many clinical NLP tasks is identiyfing particular **concepts** in text. These will vary in each use case, but some common examples of concepts are:\n",
    "- Diagnoses\n",
    "- Signs and symptoms\n",
    "- Medications\n",
    "- Tests\n",
    "\n",
    "### TODO\n",
    "For each of the texts below, identify the best description of the concepts **in bold**."
   ]
  },
  {
   "cell_type": "code",
   "execution_count": 23,
   "id": "4c1feace",
   "metadata": {},
   "outputs": [
    {
     "data": {
      "application/vnd.jupyter.widget-view+json": {
       "model_id": "3b6e9aaf93d94b8c99ea03b1a1699237",
       "version_major": 2,
       "version_minor": 0
      },
      "text/plain": [
       "VBox(children=(HTML(value='\\nPt is a 63M w/ h/o <strong>metastatic carcinoid tumor</strong>, <strong>HTN</stro…"
      ]
     },
     "metadata": {},
     "output_type": "display_data"
    },
    {
     "data": {
      "text/plain": []
     },
     "execution_count": 23,
     "metadata": {},
     "output_type": "execute_result"
    }
   ],
   "source": [
    "# RUN CELL TO SEE QUIZ\n",
    "quiz_medical_concepts_1"
   ]
  },
  {
   "cell_type": "code",
   "execution_count": 24,
   "id": "933f9545",
   "metadata": {},
   "outputs": [
    {
     "data": {
      "application/vnd.jupyter.widget-view+json": {
       "model_id": "754c035dcf2b4770b42dd8ebede79f2d",
       "version_major": 2,
       "version_minor": 0
      },
      "text/plain": [
       "VBox(children=(HTML(value='\\nMedications on Admission:\\n<ol>\\n<li> <strong>ASA 81mg po qd</strong></li>\\n<li><…"
      ]
     },
     "metadata": {},
     "output_type": "display_data"
    },
    {
     "data": {
      "text/plain": []
     },
     "execution_count": 24,
     "metadata": {},
     "output_type": "execute_result"
    }
   ],
   "source": [
    "# RUN CELL TO SEE QUIZ\n",
    "quiz_medical_concepts_2"
   ]
  },
  {
   "cell_type": "code",
   "execution_count": 28,
   "id": "09062bb2",
   "metadata": {},
   "outputs": [
    {
     "data": {
      "application/vnd.jupyter.widget-view+json": {
       "model_id": "ff73c2add57842bb9f87cf501c0bf40b",
       "version_major": 2,
       "version_minor": 0
      },
      "text/plain": [
       "VBox(children=(HTML(value='\\nPreviously <strong>homeless</strong> 2012-2013. Currently <strong>lives with his …"
      ]
     },
     "metadata": {},
     "output_type": "display_data"
    },
    {
     "data": {
      "text/plain": []
     },
     "execution_count": 28,
     "metadata": {},
     "output_type": "execute_result"
    }
   ],
   "source": [
    "# RUN CELL TO SEE QUIZ\n",
    "quiz_medical_concepts_3"
   ]
  },
  {
   "cell_type": "markdown",
   "id": "e5c8f51a",
   "metadata": {},
   "source": [
    "The task of extracting these spans of text is called **named entity recognition (NER)**. This can be done using either machine learning models or rule-based models. In this class, we'll focus on building rule-based systems. In rule-based NLP, we define patterns to match concepts in text. SpaCy offers many [rule-based methods](https://spacy.io/usage/rule-based-matching). MedSpaCy uses a pipeline component called `TargetMatcher` and rules defined by a class called `TargetRule`. Extracted concepts will be stored as `Span` objects in `doc.ents`.\n",
    "\n",
    "### `target_matcher`\n",
    "To start adding rules, we'll first need to access the pipeline component. We can do this by calling `nlp.get_pipe(pipe_name)`:"
   ]
  },
  {
   "cell_type": "code",
   "execution_count": 29,
   "id": "0d92aad4",
   "metadata": {},
   "outputs": [],
   "source": [
    "target_matcher = nlp.get_pipe(\"medspacy_target_matcher\")"
   ]
  },
  {
   "cell_type": "markdown",
   "id": "5f7b38b0",
   "metadata": {},
   "source": [
    "Next we need to actually write some rules using the `TargetRule` class. Target rules require two positional arguments:\n",
    "- `literal`: A span of text to match in the text (case insensitive)\n",
    "- `category`: The label to assign to extracted concepts\n",
    "\n",
    "(There are also a few keyword arguments that we'll explore later, but these are the two required arguments.)\n",
    "\n",
    "Let's say that we want to extract patient diagnoses from the following text:"
   ]
  },
  {
   "cell_type": "code",
   "execution_count": 30,
   "id": "47394118",
   "metadata": {},
   "outputs": [],
   "source": [
    "dx_text = \"Pt is a 63M w/ h/o metastatic carcinoid tumor, HTN and hyperlipidemia\""
   ]
  },
  {
   "cell_type": "markdown",
   "id": "30b4b00c",
   "metadata": {},
   "source": [
    "There are three diagnoses in this text. The first is `\"metastatic carcinoid tumor\"`. Let's write a rule to capture this:"
   ]
  },
  {
   "cell_type": "code",
   "execution_count": 31,
   "id": "6bddb2ec",
   "metadata": {},
   "outputs": [],
   "source": [
    "from medspacy.target_matcher import TargetRule\n",
    "rule = TargetRule(\"metastatic carcinoid tumor\", \"DIAGNOSIS\")"
   ]
  },
  {
   "cell_type": "markdown",
   "id": "8f8d7d5b",
   "metadata": {},
   "source": [
    "We can then add it to our target matcher:"
   ]
  },
  {
   "cell_type": "code",
   "execution_count": 32,
   "id": "cff5fa0a",
   "metadata": {},
   "outputs": [],
   "source": [
    "target_matcher.add(rule)"
   ]
  },
  {
   "cell_type": "code",
   "execution_count": 33,
   "id": "5dbf25b5",
   "metadata": {},
   "outputs": [
    {
     "data": {
      "text/plain": [
       "[TargetRule(literal=\"metastatic carcinoid tumor\", category=\"DIAGNOSIS\", pattern=None, attributes=None, on_match=None)]"
      ]
     },
     "execution_count": 33,
     "metadata": {},
     "output_type": "execute_result"
    }
   ],
   "source": [
    "target_matcher.rules"
   ]
  },
  {
   "cell_type": "markdown",
   "id": "79c74daa",
   "metadata": {},
   "source": [
    "Now let's process the text above and see if it's extracted by our NLP model by looking at `doc.ents`:"
   ]
  },
  {
   "cell_type": "code",
   "execution_count": 34,
   "id": "9ebfe523",
   "metadata": {},
   "outputs": [
    {
     "data": {
      "text/plain": [
       "(metastatic carcinoid tumor,)"
      ]
     },
     "execution_count": 34,
     "metadata": {},
     "output_type": "execute_result"
    }
   ],
   "source": [
    "doc = nlp(dx_text)\n",
    "doc.ents"
   ]
  },
  {
   "cell_type": "markdown",
   "id": "951835d6",
   "metadata": {},
   "source": [
    "The `target_matcher` added a `Span` to the doc's entities representing the concept we just extracted. Let's assign this span to the variable `ent`. We can see the concept category by checking the `ent.label_` attribute."
   ]
  },
  {
   "cell_type": "code",
   "execution_count": 35,
   "id": "b8ae08e4",
   "metadata": {},
   "outputs": [
    {
     "name": "stdout",
     "output_type": "stream",
     "text": [
      "metastatic carcinoid tumor\n",
      "<class 'spacy.tokens.span.Span'>\n",
      "DIAGNOSIS\n"
     ]
    }
   ],
   "source": [
    "ent = doc.ents[0]\n",
    "print(ent)\n",
    "print(type(ent))\n",
    "print(ent.label_)"
   ]
  },
  {
   "cell_type": "markdown",
   "id": "8668a612",
   "metadata": {},
   "source": [
    "`medspaCy` provides some visualization functions which make it easier to look at what has been extracted from the notes:"
   ]
  },
  {
   "cell_type": "code",
   "execution_count": 36,
   "id": "08a504b0",
   "metadata": {},
   "outputs": [],
   "source": [
    "from medspacy.visualization import visualize_ent"
   ]
  },
  {
   "cell_type": "code",
   "execution_count": 37,
   "id": "2d9420bf",
   "metadata": {},
   "outputs": [
    {
     "data": {
      "text/html": [
       "<span class=\"tex2jax_ignore\"><div class=\"entities\" style=\"line-height: 2.5; direction: ltr\">Pt is a 63M w/ h/o \n",
       "<mark class=\"entity\" style=\"background: #1f77b4; padding: 0.45em 0.6em; margin: 0 0.25em; line-height: 1; border-radius: 0.35em;\">\n",
       "    metastatic carcinoid tumor\n",
       "    <span style=\"font-size: 0.8em; font-weight: bold; line-height: 1; border-radius: 0.35em; vertical-align: middle; margin-left: 0.5rem\">DIAGNOSIS</span>\n",
       "</mark>\n",
       ", HTN and hyperlipidemia</div></span>"
      ],
      "text/plain": [
       "<IPython.core.display.HTML object>"
      ]
     },
     "metadata": {},
     "output_type": "display_data"
    }
   ],
   "source": [
    "visualize_ent(doc)"
   ]
  },
  {
   "cell_type": "code",
   "execution_count": null,
   "id": "397c847a",
   "metadata": {},
   "outputs": [],
   "source": []
  },
  {
   "cell_type": "markdown",
   "id": "a6a3fb24",
   "metadata": {},
   "source": [
    "### TODO\n",
    "Edit the cell below to write a list of rules for extracting the two remaining diagnoses from `dx_text`. Then add them to the target matcher and reprocess the doc."
   ]
  },
  {
   "cell_type": "code",
   "execution_count": 38,
   "id": "aa6dbf9b",
   "metadata": {},
   "outputs": [],
   "source": [
    "rules = [\n",
    "    TargetRule(\"HTN\", \"DIAGNOSIS\"),\n",
    "    TargetRule(\"hyperlipidemia\", \"DIAGNOSIS\"),\n",
    "]"
   ]
  },
  {
   "cell_type": "code",
   "execution_count": 39,
   "id": "5871d3b4",
   "metadata": {},
   "outputs": [],
   "source": [
    "target_matcher.add(rules)"
   ]
  },
  {
   "cell_type": "code",
   "execution_count": 40,
   "id": "109e6292",
   "metadata": {},
   "outputs": [],
   "source": [
    "doc_dx = nlp(dx_text)"
   ]
  },
  {
   "cell_type": "code",
   "execution_count": 41,
   "id": "cd99107d",
   "metadata": {},
   "outputs": [
    {
     "data": {
      "text/html": [
       "<span class=\"tex2jax_ignore\"><div class=\"entities\" style=\"line-height: 2.5; direction: ltr\">Pt is a 63M w/ h/o \n",
       "<mark class=\"entity\" style=\"background: #1f77b4; padding: 0.45em 0.6em; margin: 0 0.25em; line-height: 1; border-radius: 0.35em;\">\n",
       "    metastatic carcinoid tumor\n",
       "    <span style=\"font-size: 0.8em; font-weight: bold; line-height: 1; border-radius: 0.35em; vertical-align: middle; margin-left: 0.5rem\">DIAGNOSIS</span>\n",
       "</mark>\n",
       ", \n",
       "<mark class=\"entity\" style=\"background: #1f77b4; padding: 0.45em 0.6em; margin: 0 0.25em; line-height: 1; border-radius: 0.35em;\">\n",
       "    HTN\n",
       "    <span style=\"font-size: 0.8em; font-weight: bold; line-height: 1; border-radius: 0.35em; vertical-align: middle; margin-left: 0.5rem\">DIAGNOSIS</span>\n",
       "</mark>\n",
       " and \n",
       "<mark class=\"entity\" style=\"background: #1f77b4; padding: 0.45em 0.6em; margin: 0 0.25em; line-height: 1; border-radius: 0.35em;\">\n",
       "    hyperlipidemia\n",
       "    <span style=\"font-size: 0.8em; font-weight: bold; line-height: 1; border-radius: 0.35em; vertical-align: middle; margin-left: 0.5rem\">DIAGNOSIS</span>\n",
       "</mark>\n",
       "</div></span>"
      ],
      "text/plain": [
       "<IPython.core.display.HTML object>"
      ]
     },
     "metadata": {},
     "output_type": "display_data"
    }
   ],
   "source": [
    "visualize_ent(doc_dx)"
   ]
  },
  {
   "cell_type": "code",
   "execution_count": 42,
   "id": "42fead68",
   "metadata": {},
   "outputs": [
    {
     "data": {
      "text/plain": [
       "(metastatic carcinoid tumor, HTN, hyperlipidemia)"
      ]
     },
     "execution_count": 42,
     "metadata": {},
     "output_type": "execute_result"
    }
   ],
   "source": [
    "doc_dx.ents"
   ]
  },
  {
   "cell_type": "code",
   "execution_count": null,
   "id": "75ef663b",
   "metadata": {},
   "outputs": [],
   "source": []
  },
  {
   "cell_type": "code",
   "execution_count": 45,
   "id": "6a3755f5",
   "metadata": {},
   "outputs": [
    {
     "name": "stdout",
     "output_type": "stream",
     "text": [
      "That is correct!\n"
     ]
    }
   ],
   "source": [
    "# RUN CELL TO TEST VALUE\n",
    "test_dx_text.test(doc_dx)"
   ]
  },
  {
   "cell_type": "code",
   "execution_count": null,
   "id": "ea2f25ac",
   "metadata": {},
   "outputs": [],
   "source": []
  },
  {
   "cell_type": "markdown",
   "id": "c4c818a0",
   "metadata": {},
   "source": [
    "### Advanced pattern matching\n",
    "We could pass in simple strings to our `ruler` to extract exact matches. However, there may be lots of small variations in the text we want to extract, and it will grow cumbersome to type out every single possible string. Instead, we'll do some more advanced matching by using **token attribute matching**.\n",
    "\n",
    "SpaCy allows us to write patterns based on not only the exact text, but other linguistic attributes such as **part-of-speech tag**, **numerical properties**, **regular expressions**, and much more. \n",
    "\n",
    "### Example: Chronic Kidney Disease\n",
    "Each of the texts below mention a different stage of Chronic Kidney Disease:\n",
    "\n",
    "---\n",
    "- 76 year old man with CKD Stage 3.\n",
    "- relevant diagnoses: ckd stage 4\n",
    "- The patient has progressed to ckd stage 5\n",
    "---\n",
    "\n",
    "We could write different target rules to match each text, but sometimes there are too many combinations to feasibly write out every option. Instead of trying to think of the near-infinite number of variations, let's write one pattern which will match all of these clinical problems.\n",
    "\n",
    "An advanced pattern in spaCy is a Python **list**. Each element in that list is a **dictionary** representing each of the **tokens** (individual words) in a span of text. The **keys** of the dictionary represent the token attributes to look at and the **values** represent the values which should trigger a match:\n",
    "\n",
    "---\n",
    "```python\n",
    "[\n",
    "    {\"ATTRIBUTE\": value}, # First token\n",
    "    {\"ATTRIBUTE\": value}, # Second token\n",
    "    {\"ATTRIBUTE\": value} # Third token\n",
    "]\n",
    "```\n",
    "\n",
    "Let's now write a pattern which will match both **\"CKD Stage 3\"** and **\"ckd stage two\"**. What attributes are similar between these two spans of text? What is a general pattern that you could match?\n",
    "\n",
    "Both spans of text start out with the text **\"CKD\"**, although one is upper-case and one is lower-case. To match either, we will match on the **\"LOWER\"** attribute of the token (which is the lower-case text):\n",
    "\n",
    "```python\n",
    "{\"LOWER\": \"ckd\"}\n",
    "```\n",
    "\n",
    "The second token is **\"Stage\"**, but again there's a difference in case. So let's use the **\"LOWER\"** attribute again:\n",
    "\n",
    "```python\n",
    "{\"LOWER\": \"stage\"}\n",
    "```\n",
    "\n",
    "Finally, the last token is a number. In this text there are **\"3\"** and **\"two\"**, but there could potentially be any number **1-5**. So let's just match any number. SpaCy can also recognize that the word **\"two\"** is a number by using the **\"LIKE_NUM\"** attribute, which is a boolean:\n",
    "\n",
    "```python\n",
    "{\"LIKE_NUM\": True}\n",
    "```\n",
    "\n",
    "When we put it all together, here is our pattern:\n",
    "```python\n",
    "pattern = [\n",
    "    {\"LOWER\": \"ckd\"}, # Token 1\n",
    "    {\"LOWER\": \"stage\"}, # Token 2\n",
    "    {\"LIKE_NUM\": True} # Token 3\n",
    "]\n",
    "```\n",
    "\n",
    "Once we've written a rule like this, we can add it to the target rule using the `pattern` keyword argument.\n",
    "\n",
    "```python\n",
    "TargetRule(\"CKD Stage X\", \"DIAGNOSIS\", pattern=pattern)\n",
    "```\n",
    "\n",
    "Another helpful attribute for advanced pattern matching is `\"OP\"`, which lets the pattern be flexible on how many times the token is matched:\n",
    "\n",
    "- `\"OP\": \"?` matches zero or 1 time\n",
    "- `\"OP\": \"*` matches zero or more times (up to any number)\n",
    "- `\"OP\": \"+` matches 1 or more time\n",
    "\n",
    "So if we modified the pattern above to include an operator attribute then we could make `\"stage\"` and the number optional and match just \"`ckd`\":\n",
    "\n",
    "```python\n",
    "pattern = [\n",
    "    {\"LOWER\": \"ckd\"}, # Token 1\n",
    "    {\"LOWER\": \"stage\", \"OP\": \"?\"}, # Token 2\n",
    "    {\"LIKE_NUM\": True, \"OP\": \"?\"} # Token 3\n",
    "]\n",
    "```\n",
    "\n",
    "#### TODO\n",
    "Finish the code below to create a rule matching which will match all three examples of CKD. Then add it to the pipeline and test your model. You can test it on the three examples below."
   ]
  },
  {
   "cell_type": "code",
   "execution_count": 46,
   "id": "fc4ec6c0",
   "metadata": {},
   "outputs": [],
   "source": [
    "texts = [\n",
    "    \"76 year old man with CKD Stage 3.\",\n",
    "    \"relevant diagnoses: ckd stage 4\",\n",
    "    \"The patient has progressed to ckd stage 5\",\n",
    "    \"She was dx'd with CKD in January.\"\n",
    "]"
   ]
  },
  {
   "cell_type": "code",
   "execution_count": 47,
   "id": "525f0de8",
   "metadata": {},
   "outputs": [],
   "source": [
    "rule = TargetRule(\"CKD Stage X\", \"DIAGNOSIS\", \n",
    "                  pattern=[\n",
    "    {\"LOWER\": \"ckd\", \"OP\": \"?\"}, # Token 1\n",
    "    {\"LOWER\": \"stage\", \"OP\": \"?\"}, # Token 2\n",
    "    {\"LIKE_NUM\": True, \"OP\": \"?\"} # Token 3\n",
    "])"
   ]
  },
  {
   "cell_type": "code",
   "execution_count": 48,
   "id": "e43e13fa",
   "metadata": {},
   "outputs": [],
   "source": [
    "target_matcher = nlp.get_pipe(\"medspacy_target_matcher\")\n",
    "target_matcher.add(rule)"
   ]
  },
  {
   "cell_type": "code",
   "execution_count": 49,
   "id": "a86075d7",
   "metadata": {},
   "outputs": [
    {
     "data": {
      "text/html": [
       "<span class=\"tex2jax_ignore\"><div class=\"entities\" style=\"line-height: 2.5; direction: ltr\">\n",
       "<mark class=\"entity\" style=\"background: #1f77b4; padding: 0.45em 0.6em; margin: 0 0.25em; line-height: 1; border-radius: 0.35em;\">\n",
       "    76\n",
       "    <span style=\"font-size: 0.8em; font-weight: bold; line-height: 1; border-radius: 0.35em; vertical-align: middle; margin-left: 0.5rem\">DIAGNOSIS</span>\n",
       "</mark>\n",
       " year old man with \n",
       "<mark class=\"entity\" style=\"background: #1f77b4; padding: 0.45em 0.6em; margin: 0 0.25em; line-height: 1; border-radius: 0.35em;\">\n",
       "    CKD Stage 3\n",
       "    <span style=\"font-size: 0.8em; font-weight: bold; line-height: 1; border-radius: 0.35em; vertical-align: middle; margin-left: 0.5rem\">DIAGNOSIS</span>\n",
       "</mark>\n",
       ".</div></span>"
      ],
      "text/plain": [
       "<IPython.core.display.HTML object>"
      ]
     },
     "metadata": {},
     "output_type": "display_data"
    },
    {
     "data": {
      "text/html": [
       "<span class=\"tex2jax_ignore\"><div class=\"entities\" style=\"line-height: 2.5; direction: ltr\">relevant diagnoses: \n",
       "<mark class=\"entity\" style=\"background: #1f77b4; padding: 0.45em 0.6em; margin: 0 0.25em; line-height: 1; border-radius: 0.35em;\">\n",
       "    ckd stage 4\n",
       "    <span style=\"font-size: 0.8em; font-weight: bold; line-height: 1; border-radius: 0.35em; vertical-align: middle; margin-left: 0.5rem\">DIAGNOSIS</span>\n",
       "</mark>\n",
       "</div></span>"
      ],
      "text/plain": [
       "<IPython.core.display.HTML object>"
      ]
     },
     "metadata": {},
     "output_type": "display_data"
    },
    {
     "data": {
      "text/html": [
       "<span class=\"tex2jax_ignore\"><div class=\"entities\" style=\"line-height: 2.5; direction: ltr\">The patient has progressed to \n",
       "<mark class=\"entity\" style=\"background: #1f77b4; padding: 0.45em 0.6em; margin: 0 0.25em; line-height: 1; border-radius: 0.35em;\">\n",
       "    ckd stage 5\n",
       "    <span style=\"font-size: 0.8em; font-weight: bold; line-height: 1; border-radius: 0.35em; vertical-align: middle; margin-left: 0.5rem\">DIAGNOSIS</span>\n",
       "</mark>\n",
       "</div></span>"
      ],
      "text/plain": [
       "<IPython.core.display.HTML object>"
      ]
     },
     "metadata": {},
     "output_type": "display_data"
    },
    {
     "data": {
      "text/html": [
       "<span class=\"tex2jax_ignore\"><div class=\"entities\" style=\"line-height: 2.5; direction: ltr\">She was dx'd with \n",
       "<mark class=\"entity\" style=\"background: #1f77b4; padding: 0.45em 0.6em; margin: 0 0.25em; line-height: 1; border-radius: 0.35em;\">\n",
       "    CKD\n",
       "    <span style=\"font-size: 0.8em; font-weight: bold; line-height: 1; border-radius: 0.35em; vertical-align: middle; margin-left: 0.5rem\">DIAGNOSIS</span>\n",
       "</mark>\n",
       " in January.</div></span>"
      ],
      "text/plain": [
       "<IPython.core.display.HTML object>"
      ]
     },
     "metadata": {},
     "output_type": "display_data"
    }
   ],
   "source": [
    "for text in texts:\n",
    "    visualize_ent(nlp(text))"
   ]
  },
  {
   "cell_type": "code",
   "execution_count": null,
   "id": "5118a193",
   "metadata": {},
   "outputs": [],
   "source": []
  },
  {
   "cell_type": "code",
   "execution_count": 50,
   "id": "fa4aab8e",
   "metadata": {},
   "outputs": [
    {
     "name": "stdout",
     "output_type": "stream",
     "text": [
      "That is correct!\n"
     ]
    }
   ],
   "source": [
    "# RUN CELL TEST VALUE\n",
    "test_ckd_stage_x.test(nlp)"
   ]
  },
  {
   "cell_type": "code",
   "execution_count": null,
   "id": "111cd8b5",
   "metadata": {},
   "outputs": [],
   "source": []
  },
  {
   "cell_type": "markdown",
   "id": "ea1f92fa",
   "metadata": {},
   "source": [
    "## Concept extraction practice\n",
    "Let's return to the example discharge summary we looked at in a previous notebook. Add rules to `target_matcher` that will extract the following concepts from the text:\n",
    "- `\"DIAGNOSIS\"`\n",
    "- `\"MEDICATION\"`\n",
    "- `\"SIGN/SYMPTOM\"`\n",
    "- `\"SOCIAL_DETERMINANT\"`\n",
    "- `\"PROCEDURE\"`\n",
    "\n",
    "It might be useful to work in teams with clinicians or people familiar with these concepts so you can identify and define them. You don't need to extract every concept from the text (there are a lot!) so maybe just go through the note and add a few examples of each conceptt. If you'd like to write more sophisticated rules, it may be helpful to review spaCy's [rule-based NLP documentation](https://spacy.io/usage/rule-based-matching#matcher) (look at the documentation under `Matcher`)."
   ]
  },
  {
   "cell_type": "code",
   "execution_count": 51,
   "id": "5c232c8a",
   "metadata": {},
   "outputs": [
    {
     "data": {
      "application/vnd.jupyter.widget-view+json": {
       "model_id": "cbd5876b7fc941a0943e6536c4a7b5b1",
       "version_major": 2,
       "version_minor": 0
      },
      "text/plain": [
       "VBox(children=(HTML(value='</br><strong>Displaying hint 0/2</strong>'), Output(), Button(description='Get hint…"
      ]
     },
     "metadata": {},
     "output_type": "display_data"
    },
    {
     "data": {
      "text/plain": []
     },
     "execution_count": 51,
     "metadata": {},
     "output_type": "execute_result"
    }
   ],
   "source": [
    "# RUN CELL TO SEE HINT\n",
    "hint_discharge_summ_target_rules"
   ]
  },
  {
   "cell_type": "code",
   "execution_count": 57,
   "id": "e4872d16",
   "metadata": {},
   "outputs": [],
   "source": [
    "# Load a fresh NLP model\n",
    "nlp = medspacy.load(enable=[\"medspacy_target_matcher\"])\n",
    "target_matcher = nlp.get_pipe(\"medspacy_target_matcher\")"
   ]
  },
  {
   "cell_type": "code",
   "execution_count": 58,
   "id": "8e79e2b5",
   "metadata": {},
   "outputs": [],
   "source": [
    "rules = [\n",
    "    TargetRule(\"SOB\", \"SIGN/SYMPTOM\"),\n",
    "    TargetRule(\"DOE\", \"SIGN/SYMPTOM\"),\n",
    "    \n",
    "    TargetRule(\"metastatic carcinoid tumor\", \"DIAGNOSIS\"),\n",
    "    TargetRule(\"HTN\", \"DIAGNOSIS\",\n",
    "              pattern=[{\"LOWER\": {\"IN\": [\"htn\", \"hypertension\"]}}]),\n",
    "    TargetRule(\"hyperlipidemia\", \"DIAGNOSIS\"),\n",
    "    \n",
    "    TargetRule(literal=\"congestive heart failure\", category=\"DIAGNOSIS\"),\n",
    "    TargetRule(literal=\" diabetes mellitus type 2\", category=\"DIAGNOSIS\"),\n",
    "    TargetRule(literal=\"basal cell carcinoma\", category=\"DIAGNOSIS\"),\n",
    "    TargetRule(literal=\"atelectasis\", category=\"DIAGNOSIS\"),\n",
    "    TargetRule(literal=\"pneumonia\", category=\"DIAGNOSIS\"),\n",
    "    \n",
    "    TargetRule(literal=\"homeless\", category=\"SOCIAL_DETERMINANT\"),\n",
    "    TargetRule(literal=\"employed\", category=\"SOCIAL_DETERMINANT\"),\n",
    "    TargetRule(literal=\"lives with family\", category=\"SOCIAL_DETERMINANT\",\n",
    "              pattern=[\n",
    "                  {\"LOWER\": \"lives\"},\n",
    "                  {\"LOWER\": \"with\"},\n",
    "                  {\"LIKE_NUM\": True, \"OP\": \"?\"}, \n",
    "                  {\"LOWER\": {\"IN\": [\n",
    "                      \"daughter\",\n",
    "                      \"daughters\",\n",
    "                      \"son\",\n",
    "                      \"sons\",\n",
    "                      \"family\",\n",
    "                  ]}}\n",
    "              ]),\n",
    "    \n",
    "    TargetRule(\"CXR\", \"PROCEDURE\")\n",
    "    \n",
    "]\n",
    "\n",
    "target_matcher.add(rules)"
   ]
  },
  {
   "cell_type": "code",
   "execution_count": 59,
   "id": "236c9efc",
   "metadata": {},
   "outputs": [
    {
     "data": {
      "text/html": [
       "<span class=\"tex2jax_ignore\"><div class=\"entities\" style=\"line-height: 2.5; direction: ltr\"></br>Service: MEDICINE</br></br>Chief Complaint:</br>5 days worsening \n",
       "<mark class=\"entity\" style=\"background: #1f77b4; padding: 0.45em 0.6em; margin: 0 0.25em; line-height: 1; border-radius: 0.35em;\">\n",
       "    SOB\n",
       "    <span style=\"font-size: 0.8em; font-weight: bold; line-height: 1; border-radius: 0.35em; vertical-align: middle; margin-left: 0.5rem\">SIGN/SYMPTOM</span>\n",
       "</mark>\n",
       ", \n",
       "<mark class=\"entity\" style=\"background: #1f77b4; padding: 0.45em 0.6em; margin: 0 0.25em; line-height: 1; border-radius: 0.35em;\">\n",
       "    DOE\n",
       "    <span style=\"font-size: 0.8em; font-weight: bold; line-height: 1; border-radius: 0.35em; vertical-align: middle; margin-left: 0.5rem\">SIGN/SYMPTOM</span>\n",
       "</mark>\n",
       "</br></br>History of Present Illness:</br>Pt is a 63M w/ \n",
       "<mark class=\"entity\" style=\"background: #ff7f0e; padding: 0.45em 0.6em; margin: 0 0.25em; line-height: 1; border-radius: 0.35em;\">\n",
       "    h/o\n",
       "    <span style=\"font-size: 0.8em; font-weight: bold; line-height: 1; border-radius: 0.35em; vertical-align: middle; margin-left: 0.5rem\">HISTORICAL</span>\n",
       "</mark>\n",
       " \n",
       "<mark class=\"entity\" style=\"background: #d62728; padding: 0.45em 0.6em; margin: 0 0.25em; line-height: 1; border-radius: 0.35em;\">\n",
       "    metastatic carcinoid tumor\n",
       "    <span style=\"font-size: 0.8em; font-weight: bold; line-height: 1; border-radius: 0.35em; vertical-align: middle; margin-left: 0.5rem\">DIAGNOSIS</span>\n",
       "</mark>\n",
       ", \n",
       "<mark class=\"entity\" style=\"background: #d62728; padding: 0.45em 0.6em; margin: 0 0.25em; line-height: 1; border-radius: 0.35em;\">\n",
       "    HTN\n",
       "    <span style=\"font-size: 0.8em; font-weight: bold; line-height: 1; border-radius: 0.35em; vertical-align: middle; margin-left: 0.5rem\">DIAGNOSIS</span>\n",
       "</mark>\n",
       ", </br>\n",
       "<mark class=\"entity\" style=\"background: #d62728; padding: 0.45em 0.6em; margin: 0 0.25em; line-height: 1; border-radius: 0.35em;\">\n",
       "    hyperlipidemia\n",
       "    <span style=\"font-size: 0.8em; font-weight: bold; line-height: 1; border-radius: 0.35em; vertical-align: middle; margin-left: 0.5rem\">DIAGNOSIS</span>\n",
       "</mark>\n",
       " who reports increasing \n",
       "<mark class=\"entity\" style=\"background: #1f77b4; padding: 0.45em 0.6em; margin: 0 0.25em; line-height: 1; border-radius: 0.35em;\">\n",
       "    SOB\n",
       "    <span style=\"font-size: 0.8em; font-weight: bold; line-height: 1; border-radius: 0.35em; vertical-align: middle; margin-left: 0.5rem\">SIGN/SYMPTOM</span>\n",
       "</mark>\n",
       " and \n",
       "<mark class=\"entity\" style=\"background: #1f77b4; padding: 0.45em 0.6em; margin: 0 0.25em; line-height: 1; border-radius: 0.35em;\">\n",
       "    DOE\n",
       "    <span style=\"font-size: 0.8em; font-weight: bold; line-height: 1; border-radius: 0.35em; vertical-align: middle; margin-left: 0.5rem\">SIGN/SYMPTOM</span>\n",
       "</mark>\n",
       " starting about </br>a month ago but worsening significantly within the last 5 days. </br>It has recently gotten so bad he can barely get up out of a </br>chair without getting short of breath. He reports orthopnea but no PND. </br></br>He reports no fever or chills, no URI symptoms, no recent travel, no changes </br>in his medications.</br></br>Pt also reports ~5 episodes of chest pain in the last few weeks </br>which he describes as pressure on his mid-sternum and usually </br>occurs during exertion.</br></br>Past Medical History:</br>1. \n",
       "<mark class=\"entity\" style=\"background: #d62728; padding: 0.45em 0.6em; margin: 0 0.25em; line-height: 1; border-radius: 0.35em;\">\n",
       "    metastatic carcinoid tumor\n",
       "    <span style=\"font-size: 0.8em; font-weight: bold; line-height: 1; border-radius: 0.35em; vertical-align: middle; margin-left: 0.5rem\">DIAGNOSIS</span>\n",
       "</mark>\n",
       ", Dx'ed 2002</br>2. \n",
       "<mark class=\"entity\" style=\"background: #d62728; padding: 0.45em 0.6em; margin: 0 0.25em; line-height: 1; border-radius: 0.35em;\">\n",
       "    hypertension\n",
       "    <span style=\"font-size: 0.8em; font-weight: bold; line-height: 1; border-radius: 0.35em; vertical-align: middle; margin-left: 0.5rem\">DIAGNOSIS</span>\n",
       "</mark>\n",
       "</br>3. \n",
       "<mark class=\"entity\" style=\"background: #d62728; padding: 0.45em 0.6em; margin: 0 0.25em; line-height: 1; border-radius: 0.35em;\">\n",
       "    hyperlipidemia\n",
       "    <span style=\"font-size: 0.8em; font-weight: bold; line-height: 1; border-radius: 0.35em; vertical-align: middle; margin-left: 0.5rem\">DIAGNOSIS</span>\n",
       "</mark>\n",
       "</br>4. carotid endarterectomy 1999</br>5. depression/anxiety</br></br>Social History:</br>Previously \n",
       "<mark class=\"entity\" style=\"background: #9467bd; padding: 0.45em 0.6em; margin: 0 0.25em; line-height: 1; border-radius: 0.35em;\">\n",
       "    homeless\n",
       "    <span style=\"font-size: 0.8em; font-weight: bold; line-height: 1; border-radius: 0.35em; vertical-align: middle; margin-left: 0.5rem\">SOCIAL_DETERMINANT</span>\n",
       "</mark>\n",
       ", now \n",
       "<mark class=\"entity\" style=\"background: #9467bd; padding: 0.45em 0.6em; margin: 0 0.25em; line-height: 1; border-radius: 0.35em;\">\n",
       "    lives with two daughters\n",
       "    <span style=\"font-size: 0.8em; font-weight: bold; line-height: 1; border-radius: 0.35em; vertical-align: middle; margin-left: 0.5rem\">SOCIAL_DETERMINANT</span>\n",
       "</mark>\n",
       ". Currently \n",
       "<mark class=\"entity\" style=\"background: #9467bd; padding: 0.45em 0.6em; margin: 0 0.25em; line-height: 1; border-radius: 0.35em;\">\n",
       "    employed\n",
       "    <span style=\"font-size: 0.8em; font-weight: bold; line-height: 1; border-radius: 0.35em; vertical-align: middle; margin-left: 0.5rem\">SOCIAL_DETERMINANT</span>\n",
       "</mark>\n",
       " full-time.</br></br>Family History:</br>early CAD</br></br>Brief Hospital Course:</br>1. \n",
       "<mark class=\"entity\" style=\"background: #1f77b4; padding: 0.45em 0.6em; margin: 0 0.25em; line-height: 1; border-radius: 0.35em;\">\n",
       "    SOB\n",
       "    <span style=\"font-size: 0.8em; font-weight: bold; line-height: 1; border-radius: 0.35em; vertical-align: middle; margin-left: 0.5rem\">SIGN/SYMPTOM</span>\n",
       "</mark>\n",
       ": likely from CHF</br>The patient was initially diuresed for mild pulmonary edema: he </br>received 20 IV Lasix on night of admission and 40mg [**9-10**], with </br>good UOP. On [**9-10**], pt was reporting improvement of symptoms and </br>able to walk around his room with 4L O2 NC. The following day he </br>reported feeling worse, with increasing \n",
       "<mark class=\"entity\" style=\"background: #1f77b4; padding: 0.45em 0.6em; margin: 0 0.25em; line-height: 1; border-radius: 0.35em;\">\n",
       "    SOB\n",
       "    <span style=\"font-size: 0.8em; font-weight: bold; line-height: 1; border-radius: 0.35em; vertical-align: middle; margin-left: 0.5rem\">SIGN/SYMPTOM</span>\n",
       "</mark>\n",
       ", and was found to </br>now be in oliguric renal failure. \n",
       "<mark class=\"entity\" style=\"background: #8c564b; padding: 0.45em 0.6em; margin: 0 0.25em; line-height: 1; border-radius: 0.35em;\">\n",
       "    CXR\n",
       "    <span style=\"font-size: 0.8em; font-weight: bold; line-height: 1; border-radius: 0.35em; vertical-align: middle; margin-left: 0.5rem\">PROCEDURE</span>\n",
       "</mark>\n",
       " [**9-11**] 8am showed showed </br>\n",
       "<mark class=\"entity\" style=\"background: #d62728; padding: 0.45em 0.6em; margin: 0 0.25em; line-height: 1; border-radius: 0.35em;\">\n",
       "    atelectasis\n",
       "    <span style=\"font-size: 0.8em; font-weight: bold; line-height: 1; border-radius: 0.35em; vertical-align: middle; margin-left: 0.5rem\">DIAGNOSIS</span>\n",
       "</mark>\n",
       " with \n",
       "<mark class=\"entity\" style=\"background: #2ca02c; padding: 0.45em 0.6em; margin: 0 0.25em; line-height: 1; border-radius: 0.35em;\">\n",
       "    possible\n",
       "    <span style=\"font-size: 0.8em; font-weight: bold; line-height: 1; border-radius: 0.35em; vertical-align: middle; margin-left: 0.5rem\">POSSIBLE_EXISTENCE</span>\n",
       "</mark>\n",
       " superimposed \n",
       "<mark class=\"entity\" style=\"background: #d62728; padding: 0.45em 0.6em; margin: 0 0.25em; line-height: 1; border-radius: 0.35em;\">\n",
       "    pneumonia\n",
       "    <span style=\"font-size: 0.8em; font-weight: bold; line-height: 1; border-radius: 0.35em; vertical-align: middle; margin-left: 0.5rem\">DIAGNOSIS</span>\n",
       "</mark>\n",
       ". Emergent TTE </br>showed decreased EF (30%), anteroapical infarct with </br>moderate-to-severe overall left ventricular contractile </br>dysfunction; bicusapid aortic valve with at least mild aortic </br>stenosis. He was sent to the MICU.</br></br>Medications on Admission:</br>ASA 81mg po qd</br>Lipitor 20mg po qpm</br></br>Discharge Disposition:</br>Extended Care</br>Discharge Diagnosis:</br>Primary: \n",
       "<mark class=\"entity\" style=\"background: #d62728; padding: 0.45em 0.6em; margin: 0 0.25em; line-height: 1; border-radius: 0.35em;\">\n",
       "    congestive heart failure\n",
       "    <span style=\"font-size: 0.8em; font-weight: bold; line-height: 1; border-radius: 0.35em; vertical-align: middle; margin-left: 0.5rem\">DIAGNOSIS</span>\n",
       "</mark>\n",
       "</br>Secondary: \n",
       "<mark class=\"entity\" style=\"background: #d62728; padding: 0.45em 0.6em; margin: 0 0.25em; line-height: 1; border-radius: 0.35em;\">\n",
       "    metastatic carcinoid tumor\n",
       "    <span style=\"font-size: 0.8em; font-weight: bold; line-height: 1; border-radius: 0.35em; vertical-align: middle; margin-left: 0.5rem\">DIAGNOSIS</span>\n",
       "</mark>\n",
       ", \n",
       "<mark class=\"entity\" style=\"background: #d62728; padding: 0.45em 0.6em; margin: 0 0.25em; line-height: 1; border-radius: 0.35em;\">\n",
       "    hypertension\n",
       "    <span style=\"font-size: 0.8em; font-weight: bold; line-height: 1; border-radius: 0.35em; vertical-align: middle; margin-left: 0.5rem\">DIAGNOSIS</span>\n",
       "</mark>\n",
       ", </br>\n",
       "<mark class=\"entity\" style=\"background: #d62728; padding: 0.45em 0.6em; margin: 0 0.25em; line-height: 1; border-radius: 0.35em;\">\n",
       "    hyperlipidemia\n",
       "    <span style=\"font-size: 0.8em; font-weight: bold; line-height: 1; border-radius: 0.35em; vertical-align: middle; margin-left: 0.5rem\">DIAGNOSIS</span>\n",
       "</mark>\n",
       ", diabetes mellitus type 2, \n",
       "<mark class=\"entity\" style=\"background: #d62728; padding: 0.45em 0.6em; margin: 0 0.25em; line-height: 1; border-radius: 0.35em;\">\n",
       "    basal cell carcinoma\n",
       "    <span style=\"font-size: 0.8em; font-weight: bold; line-height: 1; border-radius: 0.35em; vertical-align: middle; margin-left: 0.5rem\">DIAGNOSIS</span>\n",
       "</mark>\n",
       "</br></br>Discharge Condition:</br>good, stable</br></div></span>"
      ],
      "text/plain": [
       "<IPython.core.display.HTML object>"
      ]
     },
     "metadata": {},
     "output_type": "display_data"
    }
   ],
   "source": [
    "doc = nlp(disch_summ)\n",
    "visualize_ent(doc)"
   ]
  },
  {
   "cell_type": "code",
   "execution_count": null,
   "id": "dfbdb6a7",
   "metadata": {},
   "outputs": [],
   "source": []
  }
 ],
 "metadata": {
  "kernelspec": {
   "display_name": "Python 3 (ipykernel)",
   "language": "python",
   "name": "python3"
  },
  "language_info": {
   "codemirror_mode": {
    "name": "ipython",
    "version": 3
   },
   "file_extension": ".py",
   "mimetype": "text/x-python",
   "name": "python",
   "nbconvert_exporter": "python",
   "pygments_lexer": "ipython3",
   "version": "3.10.13"
  }
 },
 "nbformat": 4,
 "nbformat_minor": 5
}
