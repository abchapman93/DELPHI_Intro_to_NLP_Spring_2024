{
 "cells": [
  {
   "cell_type": "markdown",
   "id": "c12d4144",
   "metadata": {},
   "source": [
    "\n",
    "<img src=\"https://github.com/abchapman93/DELPHI_Intro_to_NLP_Spring_2024/blob/main/media/DELPHI-long.png?raw=true\" size=\"20%\">\n",
    "</br>\n",
    "\n",
    "<h1 valign=\"center\" align=\"center\"><font size=\"+150\">Introduction to NLP in Python</br>Spring 2024</font></h1>"
   ]
  },
  {
   "cell_type": "markdown",
   "id": "1473797a",
   "metadata": {},
   "source": [
    "# Module 1\n",
    "Welcome to the PHS Data Science Workshop! This class will use **Jupyter Notebooks** for writing code, running it on data, and viewing the results. Each day will start with a **Roadmap** that will outline the plans for the day.\n",
    "\n",
    "The general outline for each day will be:\n",
    "1. Introduction of today's topic and review what we learned the day before\n",
    "2. Learn the skills of the day by completing educational notebooks\n",
    "3. Apply our new skills to a use case of pneumonia\n",
    "\n",
    "## Overview\n",
    "In this module, we'll learn the Python essentials. We'll start with basic syntax and how to run code in Jupyter notebooks. Next, we'll learn how to use built-in **functions** and how to define **variables** . These will be two of the most important building blocks for using Python. Variables have different **data types**, which we'll delve into more in the second notebook which covers **strings**, **lists**, and other data structures. Then we'll start to really delve into the logic of Python programming by writing our own functions, using **for loops**, and executing **control statements**."
   ]
  },
  {
   "cell_type": "markdown",
   "id": "2fb72a68",
   "metadata": {},
   "source": [
    "## Outline\n",
    "1. Python Essentials\n",
    "2. Manipulating Data\n",
    "3. Data Structures\n",
    "4. Module 1 Exercises"
   ]
  },
  {
   "cell_type": "markdown",
   "id": "86e51f8b",
   "metadata": {},
   "source": [
    "## TODO and Discussion items\n",
    "Throughout these notebooks, you'll see sections marked **TODO** or **Discussion**. Whenever you see a todo section, you'll be asked to edit or complete code. Parts of code which you need to edit will have placeholders of three underscores: `___`. You should replace these underscores with the correct snippet of code. This syntax should be familiar with you as the convention used by DataCamp.\n",
    "\n",
    "For example, if you are asked to edit the cell below to print out the text \"Hello, world!\", you should change this cell (which won't run correctly until you change it):"
   ]
  },
  {
   "cell_type": "code",
   "execution_count": 1,
   "id": "8043958e",
   "metadata": {},
   "outputs": [
    {
     "ename": "TypeError",
     "evalue": "'str' object is not callable",
     "output_type": "error",
     "traceback": [
      "\u001b[0;31m---------------------------------------------------------------------------\u001b[0m",
      "\u001b[0;31mTypeError\u001b[0m                                 Traceback (most recent call last)",
      "Input \u001b[0;32mIn [1]\u001b[0m, in \u001b[0;36m<cell line: 1>\u001b[0;34m()\u001b[0m\n\u001b[0;32m----> 1\u001b[0m \u001b[43m___\u001b[49m\u001b[43m(\u001b[49m\u001b[38;5;124;43m\"\u001b[39;49m\u001b[38;5;124;43mHello, world!\u001b[39;49m\u001b[38;5;124;43m\"\u001b[39;49m\u001b[43m)\u001b[49m\n",
      "\u001b[0;31mTypeError\u001b[0m: 'str' object is not callable"
     ]
    }
   ],
   "source": [
    "___(\"Hello, world!\")"
   ]
  },
  {
   "cell_type": "markdown",
   "id": "47a3b4df",
   "metadata": {},
   "source": [
    "To this:"
   ]
  },
  {
   "cell_type": "code",
   "execution_count": 2,
   "id": "a013a452",
   "metadata": {},
   "outputs": [
    {
     "name": "stdout",
     "output_type": "stream",
     "text": [
      "Hello, world!\n"
     ]
    }
   ],
   "source": [
    "print(\"Hello, world!\")"
   ]
  },
  {
   "cell_type": "markdown",
   "id": "92ee6b28",
   "metadata": {},
   "source": [
    "## Quizzes and Unit Tests\n",
    "Some of the **TODO** items will use widgets or test functions that I've made for the class. Here are some examples:"
   ]
  },
  {
   "cell_type": "code",
   "execution_count": 1,
   "id": "3af59dad-5388-4c9d-982f-1fa458845f5a",
   "metadata": {},
   "outputs": [
    {
     "name": "stdout",
     "output_type": "stream",
     "text": [
      "Collecting https://github.com/abchapman93/DELPHI_Intro_to_NLP_Spring_2024/releases/download/v0.1/delphi_nlp_2024-0.1.tar.gz\n",
      "  Downloading https://github.com/abchapman93/DELPHI_Intro_to_NLP_Spring_2024/releases/download/v0.1/delphi_nlp_2024-0.1.tar.gz (13 kB)\n",
      "  Preparing metadata (setup.py) ... \u001b[?25ldone\n",
      "\u001b[?25hRequirement already satisfied: jupyter in /Users/alecchapman/opt/miniconda3/envs/delphi-nlp/lib/python3.10/site-packages (from delphi-nlp-2024==0.1) (1.0.0)\n",
      "Requirement already satisfied: notebook in /Users/alecchapman/opt/miniconda3/envs/delphi-nlp/lib/python3.10/site-packages (from jupyter->delphi-nlp-2024==0.1) (7.1.0)\n",
      "Requirement already satisfied: qtconsole in /Users/alecchapman/opt/miniconda3/envs/delphi-nlp/lib/python3.10/site-packages (from jupyter->delphi-nlp-2024==0.1) (5.5.1)\n",
      "Requirement already satisfied: jupyter-console in /Users/alecchapman/opt/miniconda3/envs/delphi-nlp/lib/python3.10/site-packages (from jupyter->delphi-nlp-2024==0.1) (6.6.3)\n",
      "Requirement already satisfied: nbconvert in /Users/alecchapman/opt/miniconda3/envs/delphi-nlp/lib/python3.10/site-packages (from jupyter->delphi-nlp-2024==0.1) (7.16.0)\n",
      "Requirement already satisfied: ipykernel in /Users/alecchapman/opt/miniconda3/envs/delphi-nlp/lib/python3.10/site-packages (from jupyter->delphi-nlp-2024==0.1) (6.29.2)\n",
      "Requirement already satisfied: ipywidgets in /Users/alecchapman/opt/miniconda3/envs/delphi-nlp/lib/python3.10/site-packages (from jupyter->delphi-nlp-2024==0.1) (8.1.2)\n",
      "Requirement already satisfied: appnope in /Users/alecchapman/opt/miniconda3/envs/delphi-nlp/lib/python3.10/site-packages (from ipykernel->jupyter->delphi-nlp-2024==0.1) (0.1.4)\n",
      "Requirement already satisfied: comm>=0.1.1 in /Users/alecchapman/opt/miniconda3/envs/delphi-nlp/lib/python3.10/site-packages (from ipykernel->jupyter->delphi-nlp-2024==0.1) (0.2.1)\n",
      "Requirement already satisfied: debugpy>=1.6.5 in /Users/alecchapman/opt/miniconda3/envs/delphi-nlp/lib/python3.10/site-packages (from ipykernel->jupyter->delphi-nlp-2024==0.1) (1.8.1)\n",
      "Requirement already satisfied: ipython>=7.23.1 in /Users/alecchapman/opt/miniconda3/envs/delphi-nlp/lib/python3.10/site-packages (from ipykernel->jupyter->delphi-nlp-2024==0.1) (8.21.0)\n",
      "Requirement already satisfied: jupyter-client>=6.1.12 in /Users/alecchapman/opt/miniconda3/envs/delphi-nlp/lib/python3.10/site-packages (from ipykernel->jupyter->delphi-nlp-2024==0.1) (8.6.0)\n",
      "Requirement already satisfied: jupyter-core!=5.0.*,>=4.12 in /Users/alecchapman/opt/miniconda3/envs/delphi-nlp/lib/python3.10/site-packages (from ipykernel->jupyter->delphi-nlp-2024==0.1) (5.7.1)\n",
      "Requirement already satisfied: matplotlib-inline>=0.1 in /Users/alecchapman/opt/miniconda3/envs/delphi-nlp/lib/python3.10/site-packages (from ipykernel->jupyter->delphi-nlp-2024==0.1) (0.1.6)\n",
      "Requirement already satisfied: nest-asyncio in /Users/alecchapman/opt/miniconda3/envs/delphi-nlp/lib/python3.10/site-packages (from ipykernel->jupyter->delphi-nlp-2024==0.1) (1.6.0)\n",
      "Requirement already satisfied: packaging in /Users/alecchapman/opt/miniconda3/envs/delphi-nlp/lib/python3.10/site-packages (from ipykernel->jupyter->delphi-nlp-2024==0.1) (23.2)\n",
      "Requirement already satisfied: psutil in /Users/alecchapman/opt/miniconda3/envs/delphi-nlp/lib/python3.10/site-packages (from ipykernel->jupyter->delphi-nlp-2024==0.1) (5.9.8)\n",
      "Requirement already satisfied: pyzmq>=24 in /Users/alecchapman/opt/miniconda3/envs/delphi-nlp/lib/python3.10/site-packages (from ipykernel->jupyter->delphi-nlp-2024==0.1) (25.1.2)\n",
      "Requirement already satisfied: tornado>=6.1 in /Users/alecchapman/opt/miniconda3/envs/delphi-nlp/lib/python3.10/site-packages (from ipykernel->jupyter->delphi-nlp-2024==0.1) (6.4)\n",
      "Requirement already satisfied: traitlets>=5.4.0 in /Users/alecchapman/opt/miniconda3/envs/delphi-nlp/lib/python3.10/site-packages (from ipykernel->jupyter->delphi-nlp-2024==0.1) (5.14.1)\n",
      "Requirement already satisfied: widgetsnbextension~=4.0.10 in /Users/alecchapman/opt/miniconda3/envs/delphi-nlp/lib/python3.10/site-packages (from ipywidgets->jupyter->delphi-nlp-2024==0.1) (4.0.10)\n",
      "Requirement already satisfied: jupyterlab-widgets~=3.0.10 in /Users/alecchapman/opt/miniconda3/envs/delphi-nlp/lib/python3.10/site-packages (from ipywidgets->jupyter->delphi-nlp-2024==0.1) (3.0.10)\n",
      "Requirement already satisfied: prompt-toolkit>=3.0.30 in /Users/alecchapman/opt/miniconda3/envs/delphi-nlp/lib/python3.10/site-packages (from jupyter-console->jupyter->delphi-nlp-2024==0.1) (3.0.43)\n",
      "Requirement already satisfied: pygments in /Users/alecchapman/opt/miniconda3/envs/delphi-nlp/lib/python3.10/site-packages (from jupyter-console->jupyter->delphi-nlp-2024==0.1) (2.17.2)\n",
      "Requirement already satisfied: beautifulsoup4 in /Users/alecchapman/opt/miniconda3/envs/delphi-nlp/lib/python3.10/site-packages (from nbconvert->jupyter->delphi-nlp-2024==0.1) (4.12.3)\n",
      "Requirement already satisfied: bleach!=5.0.0 in /Users/alecchapman/opt/miniconda3/envs/delphi-nlp/lib/python3.10/site-packages (from nbconvert->jupyter->delphi-nlp-2024==0.1) (6.1.0)\n",
      "Requirement already satisfied: defusedxml in /Users/alecchapman/opt/miniconda3/envs/delphi-nlp/lib/python3.10/site-packages (from nbconvert->jupyter->delphi-nlp-2024==0.1) (0.7.1)\n",
      "Requirement already satisfied: jinja2>=3.0 in /Users/alecchapman/opt/miniconda3/envs/delphi-nlp/lib/python3.10/site-packages (from nbconvert->jupyter->delphi-nlp-2024==0.1) (3.1.3)\n",
      "Requirement already satisfied: jupyterlab-pygments in /Users/alecchapman/opt/miniconda3/envs/delphi-nlp/lib/python3.10/site-packages (from nbconvert->jupyter->delphi-nlp-2024==0.1) (0.3.0)\n",
      "Requirement already satisfied: markupsafe>=2.0 in /Users/alecchapman/opt/miniconda3/envs/delphi-nlp/lib/python3.10/site-packages (from nbconvert->jupyter->delphi-nlp-2024==0.1) (2.1.5)\n",
      "Requirement already satisfied: mistune<4,>=2.0.3 in /Users/alecchapman/opt/miniconda3/envs/delphi-nlp/lib/python3.10/site-packages (from nbconvert->jupyter->delphi-nlp-2024==0.1) (3.0.2)\n",
      "Requirement already satisfied: nbclient>=0.5.0 in /Users/alecchapman/opt/miniconda3/envs/delphi-nlp/lib/python3.10/site-packages (from nbconvert->jupyter->delphi-nlp-2024==0.1) (0.9.0)\n",
      "Requirement already satisfied: nbformat>=5.7 in /Users/alecchapman/opt/miniconda3/envs/delphi-nlp/lib/python3.10/site-packages (from nbconvert->jupyter->delphi-nlp-2024==0.1) (5.9.2)\n",
      "Requirement already satisfied: pandocfilters>=1.4.1 in /Users/alecchapman/opt/miniconda3/envs/delphi-nlp/lib/python3.10/site-packages (from nbconvert->jupyter->delphi-nlp-2024==0.1) (1.5.1)\n",
      "Requirement already satisfied: tinycss2 in /Users/alecchapman/opt/miniconda3/envs/delphi-nlp/lib/python3.10/site-packages (from nbconvert->jupyter->delphi-nlp-2024==0.1) (1.2.1)\n",
      "Requirement already satisfied: jupyter-server<3,>=2.4.0 in /Users/alecchapman/opt/miniconda3/envs/delphi-nlp/lib/python3.10/site-packages (from notebook->jupyter->delphi-nlp-2024==0.1) (2.12.5)\n",
      "Requirement already satisfied: jupyterlab-server<3,>=2.22.1 in /Users/alecchapman/opt/miniconda3/envs/delphi-nlp/lib/python3.10/site-packages (from notebook->jupyter->delphi-nlp-2024==0.1) (2.25.3)\n",
      "Requirement already satisfied: jupyterlab<4.2,>=4.1.1 in /Users/alecchapman/opt/miniconda3/envs/delphi-nlp/lib/python3.10/site-packages (from notebook->jupyter->delphi-nlp-2024==0.1) (4.1.1)\n",
      "Requirement already satisfied: notebook-shim<0.3,>=0.2 in /Users/alecchapman/opt/miniconda3/envs/delphi-nlp/lib/python3.10/site-packages (from notebook->jupyter->delphi-nlp-2024==0.1) (0.2.4)\n",
      "Requirement already satisfied: qtpy>=2.4.0 in /Users/alecchapman/opt/miniconda3/envs/delphi-nlp/lib/python3.10/site-packages (from qtconsole->jupyter->delphi-nlp-2024==0.1) (2.4.1)\n",
      "Requirement already satisfied: six>=1.9.0 in /Users/alecchapman/opt/miniconda3/envs/delphi-nlp/lib/python3.10/site-packages (from bleach!=5.0.0->nbconvert->jupyter->delphi-nlp-2024==0.1) (1.16.0)\n",
      "Requirement already satisfied: webencodings in /Users/alecchapman/opt/miniconda3/envs/delphi-nlp/lib/python3.10/site-packages (from bleach!=5.0.0->nbconvert->jupyter->delphi-nlp-2024==0.1) (0.5.1)\n",
      "Requirement already satisfied: decorator in /Users/alecchapman/opt/miniconda3/envs/delphi-nlp/lib/python3.10/site-packages (from ipython>=7.23.1->ipykernel->jupyter->delphi-nlp-2024==0.1) (5.1.1)\n",
      "Requirement already satisfied: jedi>=0.16 in /Users/alecchapman/opt/miniconda3/envs/delphi-nlp/lib/python3.10/site-packages (from ipython>=7.23.1->ipykernel->jupyter->delphi-nlp-2024==0.1) (0.19.1)\n",
      "Requirement already satisfied: stack-data in /Users/alecchapman/opt/miniconda3/envs/delphi-nlp/lib/python3.10/site-packages (from ipython>=7.23.1->ipykernel->jupyter->delphi-nlp-2024==0.1) (0.6.3)\n",
      "Requirement already satisfied: exceptiongroup in /Users/alecchapman/opt/miniconda3/envs/delphi-nlp/lib/python3.10/site-packages (from ipython>=7.23.1->ipykernel->jupyter->delphi-nlp-2024==0.1) (1.2.0)\n",
      "Requirement already satisfied: pexpect>4.3 in /Users/alecchapman/opt/miniconda3/envs/delphi-nlp/lib/python3.10/site-packages (from ipython>=7.23.1->ipykernel->jupyter->delphi-nlp-2024==0.1) (4.9.0)\n",
      "Requirement already satisfied: python-dateutil>=2.8.2 in /Users/alecchapman/opt/miniconda3/envs/delphi-nlp/lib/python3.10/site-packages (from jupyter-client>=6.1.12->ipykernel->jupyter->delphi-nlp-2024==0.1) (2.8.2)\n",
      "Requirement already satisfied: platformdirs>=2.5 in /Users/alecchapman/opt/miniconda3/envs/delphi-nlp/lib/python3.10/site-packages (from jupyter-core!=5.0.*,>=4.12->ipykernel->jupyter->delphi-nlp-2024==0.1) (4.2.0)\n",
      "Requirement already satisfied: anyio>=3.1.0 in /Users/alecchapman/opt/miniconda3/envs/delphi-nlp/lib/python3.10/site-packages (from jupyter-server<3,>=2.4.0->notebook->jupyter->delphi-nlp-2024==0.1) (4.2.0)\n",
      "Requirement already satisfied: argon2-cffi in /Users/alecchapman/opt/miniconda3/envs/delphi-nlp/lib/python3.10/site-packages (from jupyter-server<3,>=2.4.0->notebook->jupyter->delphi-nlp-2024==0.1) (23.1.0)\n",
      "Requirement already satisfied: jupyter-events>=0.9.0 in /Users/alecchapman/opt/miniconda3/envs/delphi-nlp/lib/python3.10/site-packages (from jupyter-server<3,>=2.4.0->notebook->jupyter->delphi-nlp-2024==0.1) (0.9.0)\n",
      "Requirement already satisfied: jupyter-server-terminals in /Users/alecchapman/opt/miniconda3/envs/delphi-nlp/lib/python3.10/site-packages (from jupyter-server<3,>=2.4.0->notebook->jupyter->delphi-nlp-2024==0.1) (0.5.2)\n",
      "Requirement already satisfied: overrides in /Users/alecchapman/opt/miniconda3/envs/delphi-nlp/lib/python3.10/site-packages (from jupyter-server<3,>=2.4.0->notebook->jupyter->delphi-nlp-2024==0.1) (7.7.0)\n",
      "Requirement already satisfied: prometheus-client in /Users/alecchapman/opt/miniconda3/envs/delphi-nlp/lib/python3.10/site-packages (from jupyter-server<3,>=2.4.0->notebook->jupyter->delphi-nlp-2024==0.1) (0.20.0)\n",
      "Requirement already satisfied: send2trash>=1.8.2 in /Users/alecchapman/opt/miniconda3/envs/delphi-nlp/lib/python3.10/site-packages (from jupyter-server<3,>=2.4.0->notebook->jupyter->delphi-nlp-2024==0.1) (1.8.2)\n",
      "Requirement already satisfied: terminado>=0.8.3 in /Users/alecchapman/opt/miniconda3/envs/delphi-nlp/lib/python3.10/site-packages (from jupyter-server<3,>=2.4.0->notebook->jupyter->delphi-nlp-2024==0.1) (0.18.0)\n",
      "Requirement already satisfied: websocket-client in /Users/alecchapman/opt/miniconda3/envs/delphi-nlp/lib/python3.10/site-packages (from jupyter-server<3,>=2.4.0->notebook->jupyter->delphi-nlp-2024==0.1) (1.7.0)\n",
      "Requirement already satisfied: async-lru>=1.0.0 in /Users/alecchapman/opt/miniconda3/envs/delphi-nlp/lib/python3.10/site-packages (from jupyterlab<4.2,>=4.1.1->notebook->jupyter->delphi-nlp-2024==0.1) (2.0.4)\n",
      "Requirement already satisfied: httpx>=0.25.0 in /Users/alecchapman/opt/miniconda3/envs/delphi-nlp/lib/python3.10/site-packages (from jupyterlab<4.2,>=4.1.1->notebook->jupyter->delphi-nlp-2024==0.1) (0.26.0)\n",
      "Requirement already satisfied: jupyter-lsp>=2.0.0 in /Users/alecchapman/opt/miniconda3/envs/delphi-nlp/lib/python3.10/site-packages (from jupyterlab<4.2,>=4.1.1->notebook->jupyter->delphi-nlp-2024==0.1) (2.2.2)\n",
      "Requirement already satisfied: tomli in /Users/alecchapman/opt/miniconda3/envs/delphi-nlp/lib/python3.10/site-packages (from jupyterlab<4.2,>=4.1.1->notebook->jupyter->delphi-nlp-2024==0.1) (2.0.1)\n",
      "Requirement already satisfied: babel>=2.10 in /Users/alecchapman/opt/miniconda3/envs/delphi-nlp/lib/python3.10/site-packages (from jupyterlab-server<3,>=2.22.1->notebook->jupyter->delphi-nlp-2024==0.1) (2.14.0)\n",
      "Requirement already satisfied: json5>=0.9.0 in /Users/alecchapman/opt/miniconda3/envs/delphi-nlp/lib/python3.10/site-packages (from jupyterlab-server<3,>=2.22.1->notebook->jupyter->delphi-nlp-2024==0.1) (0.9.14)\n",
      "Requirement already satisfied: jsonschema>=4.18.0 in /Users/alecchapman/opt/miniconda3/envs/delphi-nlp/lib/python3.10/site-packages (from jupyterlab-server<3,>=2.22.1->notebook->jupyter->delphi-nlp-2024==0.1) (4.21.1)\n",
      "Requirement already satisfied: requests>=2.31 in /Users/alecchapman/opt/miniconda3/envs/delphi-nlp/lib/python3.10/site-packages (from jupyterlab-server<3,>=2.22.1->notebook->jupyter->delphi-nlp-2024==0.1) (2.31.0)\n",
      "Requirement already satisfied: fastjsonschema in /Users/alecchapman/opt/miniconda3/envs/delphi-nlp/lib/python3.10/site-packages (from nbformat>=5.7->nbconvert->jupyter->delphi-nlp-2024==0.1) (2.19.1)\n",
      "Requirement already satisfied: wcwidth in /Users/alecchapman/opt/miniconda3/envs/delphi-nlp/lib/python3.10/site-packages (from prompt-toolkit>=3.0.30->jupyter-console->jupyter->delphi-nlp-2024==0.1) (0.2.13)\n",
      "Requirement already satisfied: soupsieve>1.2 in /Users/alecchapman/opt/miniconda3/envs/delphi-nlp/lib/python3.10/site-packages (from beautifulsoup4->nbconvert->jupyter->delphi-nlp-2024==0.1) (2.5)\n",
      "Requirement already satisfied: idna>=2.8 in /Users/alecchapman/opt/miniconda3/envs/delphi-nlp/lib/python3.10/site-packages (from anyio>=3.1.0->jupyter-server<3,>=2.4.0->notebook->jupyter->delphi-nlp-2024==0.1) (3.6)\n",
      "Requirement already satisfied: sniffio>=1.1 in /Users/alecchapman/opt/miniconda3/envs/delphi-nlp/lib/python3.10/site-packages (from anyio>=3.1.0->jupyter-server<3,>=2.4.0->notebook->jupyter->delphi-nlp-2024==0.1) (1.3.0)\n",
      "Requirement already satisfied: typing-extensions>=4.1 in /Users/alecchapman/opt/miniconda3/envs/delphi-nlp/lib/python3.10/site-packages (from anyio>=3.1.0->jupyter-server<3,>=2.4.0->notebook->jupyter->delphi-nlp-2024==0.1) (4.9.0)\n",
      "Requirement already satisfied: certifi in /Users/alecchapman/opt/miniconda3/envs/delphi-nlp/lib/python3.10/site-packages (from httpx>=0.25.0->jupyterlab<4.2,>=4.1.1->notebook->jupyter->delphi-nlp-2024==0.1) (2024.2.2)\n",
      "Requirement already satisfied: httpcore==1.* in /Users/alecchapman/opt/miniconda3/envs/delphi-nlp/lib/python3.10/site-packages (from httpx>=0.25.0->jupyterlab<4.2,>=4.1.1->notebook->jupyter->delphi-nlp-2024==0.1) (1.0.3)\n",
      "Requirement already satisfied: h11<0.15,>=0.13 in /Users/alecchapman/opt/miniconda3/envs/delphi-nlp/lib/python3.10/site-packages (from httpcore==1.*->httpx>=0.25.0->jupyterlab<4.2,>=4.1.1->notebook->jupyter->delphi-nlp-2024==0.1) (0.14.0)\n",
      "Requirement already satisfied: parso<0.9.0,>=0.8.3 in /Users/alecchapman/opt/miniconda3/envs/delphi-nlp/lib/python3.10/site-packages (from jedi>=0.16->ipython>=7.23.1->ipykernel->jupyter->delphi-nlp-2024==0.1) (0.8.3)\n",
      "Requirement already satisfied: attrs>=22.2.0 in /Users/alecchapman/opt/miniconda3/envs/delphi-nlp/lib/python3.10/site-packages (from jsonschema>=4.18.0->jupyterlab-server<3,>=2.22.1->notebook->jupyter->delphi-nlp-2024==0.1) (23.2.0)\n",
      "Requirement already satisfied: jsonschema-specifications>=2023.03.6 in /Users/alecchapman/opt/miniconda3/envs/delphi-nlp/lib/python3.10/site-packages (from jsonschema>=4.18.0->jupyterlab-server<3,>=2.22.1->notebook->jupyter->delphi-nlp-2024==0.1) (2023.12.1)\n",
      "Requirement already satisfied: referencing>=0.28.4 in /Users/alecchapman/opt/miniconda3/envs/delphi-nlp/lib/python3.10/site-packages (from jsonschema>=4.18.0->jupyterlab-server<3,>=2.22.1->notebook->jupyter->delphi-nlp-2024==0.1) (0.33.0)\n",
      "Requirement already satisfied: rpds-py>=0.7.1 in /Users/alecchapman/opt/miniconda3/envs/delphi-nlp/lib/python3.10/site-packages (from jsonschema>=4.18.0->jupyterlab-server<3,>=2.22.1->notebook->jupyter->delphi-nlp-2024==0.1) (0.18.0)\n",
      "Requirement already satisfied: python-json-logger>=2.0.4 in /Users/alecchapman/opt/miniconda3/envs/delphi-nlp/lib/python3.10/site-packages (from jupyter-events>=0.9.0->jupyter-server<3,>=2.4.0->notebook->jupyter->delphi-nlp-2024==0.1) (2.0.7)\n",
      "Requirement already satisfied: pyyaml>=5.3 in /Users/alecchapman/opt/miniconda3/envs/delphi-nlp/lib/python3.10/site-packages (from jupyter-events>=0.9.0->jupyter-server<3,>=2.4.0->notebook->jupyter->delphi-nlp-2024==0.1) (6.0.1)\n",
      "Requirement already satisfied: rfc3339-validator in /Users/alecchapman/opt/miniconda3/envs/delphi-nlp/lib/python3.10/site-packages (from jupyter-events>=0.9.0->jupyter-server<3,>=2.4.0->notebook->jupyter->delphi-nlp-2024==0.1) (0.1.4)\n",
      "Requirement already satisfied: rfc3986-validator>=0.1.1 in /Users/alecchapman/opt/miniconda3/envs/delphi-nlp/lib/python3.10/site-packages (from jupyter-events>=0.9.0->jupyter-server<3,>=2.4.0->notebook->jupyter->delphi-nlp-2024==0.1) (0.1.1)\n",
      "Requirement already satisfied: ptyprocess>=0.5 in /Users/alecchapman/opt/miniconda3/envs/delphi-nlp/lib/python3.10/site-packages (from pexpect>4.3->ipython>=7.23.1->ipykernel->jupyter->delphi-nlp-2024==0.1) (0.7.0)\n",
      "Requirement already satisfied: charset-normalizer<4,>=2 in /Users/alecchapman/opt/miniconda3/envs/delphi-nlp/lib/python3.10/site-packages (from requests>=2.31->jupyterlab-server<3,>=2.22.1->notebook->jupyter->delphi-nlp-2024==0.1) (3.3.2)\n",
      "Requirement already satisfied: urllib3<3,>=1.21.1 in /Users/alecchapman/opt/miniconda3/envs/delphi-nlp/lib/python3.10/site-packages (from requests>=2.31->jupyterlab-server<3,>=2.22.1->notebook->jupyter->delphi-nlp-2024==0.1) (2.2.1)\n",
      "Requirement already satisfied: argon2-cffi-bindings in /Users/alecchapman/opt/miniconda3/envs/delphi-nlp/lib/python3.10/site-packages (from argon2-cffi->jupyter-server<3,>=2.4.0->notebook->jupyter->delphi-nlp-2024==0.1) (21.2.0)\n",
      "Requirement already satisfied: executing>=1.2.0 in /Users/alecchapman/opt/miniconda3/envs/delphi-nlp/lib/python3.10/site-packages (from stack-data->ipython>=7.23.1->ipykernel->jupyter->delphi-nlp-2024==0.1) (2.0.1)\n",
      "Requirement already satisfied: asttokens>=2.1.0 in /Users/alecchapman/opt/miniconda3/envs/delphi-nlp/lib/python3.10/site-packages (from stack-data->ipython>=7.23.1->ipykernel->jupyter->delphi-nlp-2024==0.1) (2.4.1)\n",
      "Requirement already satisfied: pure-eval in /Users/alecchapman/opt/miniconda3/envs/delphi-nlp/lib/python3.10/site-packages (from stack-data->ipython>=7.23.1->ipykernel->jupyter->delphi-nlp-2024==0.1) (0.2.2)\n",
      "Requirement already satisfied: fqdn in /Users/alecchapman/opt/miniconda3/envs/delphi-nlp/lib/python3.10/site-packages (from jsonschema[format-nongpl]>=4.18.0->jupyter-events>=0.9.0->jupyter-server<3,>=2.4.0->notebook->jupyter->delphi-nlp-2024==0.1) (1.5.1)\n",
      "Requirement already satisfied: isoduration in /Users/alecchapman/opt/miniconda3/envs/delphi-nlp/lib/python3.10/site-packages (from jsonschema[format-nongpl]>=4.18.0->jupyter-events>=0.9.0->jupyter-server<3,>=2.4.0->notebook->jupyter->delphi-nlp-2024==0.1) (20.11.0)\n",
      "Requirement already satisfied: jsonpointer>1.13 in /Users/alecchapman/opt/miniconda3/envs/delphi-nlp/lib/python3.10/site-packages (from jsonschema[format-nongpl]>=4.18.0->jupyter-events>=0.9.0->jupyter-server<3,>=2.4.0->notebook->jupyter->delphi-nlp-2024==0.1) (2.4)\n",
      "Requirement already satisfied: uri-template in /Users/alecchapman/opt/miniconda3/envs/delphi-nlp/lib/python3.10/site-packages (from jsonschema[format-nongpl]>=4.18.0->jupyter-events>=0.9.0->jupyter-server<3,>=2.4.0->notebook->jupyter->delphi-nlp-2024==0.1) (1.3.0)\n",
      "Requirement already satisfied: webcolors>=1.11 in /Users/alecchapman/opt/miniconda3/envs/delphi-nlp/lib/python3.10/site-packages (from jsonschema[format-nongpl]>=4.18.0->jupyter-events>=0.9.0->jupyter-server<3,>=2.4.0->notebook->jupyter->delphi-nlp-2024==0.1) (1.13)\n",
      "Requirement already satisfied: cffi>=1.0.1 in /Users/alecchapman/opt/miniconda3/envs/delphi-nlp/lib/python3.10/site-packages (from argon2-cffi-bindings->argon2-cffi->jupyter-server<3,>=2.4.0->notebook->jupyter->delphi-nlp-2024==0.1) (1.16.0)\n",
      "Requirement already satisfied: pycparser in /Users/alecchapman/opt/miniconda3/envs/delphi-nlp/lib/python3.10/site-packages (from cffi>=1.0.1->argon2-cffi-bindings->argon2-cffi->jupyter-server<3,>=2.4.0->notebook->jupyter->delphi-nlp-2024==0.1) (2.21)\n",
      "Requirement already satisfied: arrow>=0.15.0 in /Users/alecchapman/opt/miniconda3/envs/delphi-nlp/lib/python3.10/site-packages (from isoduration->jsonschema[format-nongpl]>=4.18.0->jupyter-events>=0.9.0->jupyter-server<3,>=2.4.0->notebook->jupyter->delphi-nlp-2024==0.1) (1.3.0)\n",
      "Requirement already satisfied: types-python-dateutil>=2.8.10 in /Users/alecchapman/opt/miniconda3/envs/delphi-nlp/lib/python3.10/site-packages (from arrow>=0.15.0->isoduration->jsonschema[format-nongpl]>=4.18.0->jupyter-events>=0.9.0->jupyter-server<3,>=2.4.0->notebook->jupyter->delphi-nlp-2024==0.1) (2.8.19.20240106)\n"
     ]
    }
   ],
   "source": [
    "!pip install https://github.com/abchapman93/DELPHI_Intro_to_NLP_Spring_2024/releases/download/v0.1/delphi_nlp_2024-0.1.tar.gz"
   ]
  },
  {
   "cell_type": "code",
   "execution_count": 13,
   "id": "1d0ef47c",
   "metadata": {},
   "outputs": [],
   "source": [
    "from delphi_nlp_2024 import *\n",
    "from delphi_nlp_2024.quizzes import *"
   ]
  },
  {
   "cell_type": "markdown",
   "id": "458dae7a",
   "metadata": {},
   "source": [
    "### 1. Multiple Choice\n",
    "Multiple choice quizzes will give you several answers. One of them is correct."
   ]
  },
  {
   "cell_type": "code",
   "execution_count": 4,
   "id": "9fe47683",
   "metadata": {},
   "outputs": [
    {
     "data": {
      "application/vnd.jupyter.widget-view+json": {
       "model_id": "77a77a20089d4087b2370ce2421b243b",
       "version_major": 2,
       "version_minor": 0
      },
      "text/plain": [
       "VBox(children=(HTML(value='What day of the week is it?'), RadioButtons(layout=Layout(width='auto'), options=('…"
      ]
     },
     "metadata": {},
     "output_type": "display_data"
    },
    {
     "data": {
      "text/plain": []
     },
     "execution_count": 4,
     "metadata": {},
     "output_type": "execute_result"
    }
   ],
   "source": [
    "# RUN CELL TO SEE QUIZ\n",
    "test_day_of_week"
   ]
  },
  {
   "cell_type": "markdown",
   "id": "bcf34fce",
   "metadata": {},
   "source": [
    "### 2. Select Multiple\n",
    "These quizzes will have one or more correct answers. Hold \"Command\" (Mac) or \"Ctrl\" (windows) to add another option to your selection."
   ]
  },
  {
   "cell_type": "code",
   "execution_count": 5,
   "id": "3b7ac09b",
   "metadata": {},
   "outputs": [
    {
     "data": {
      "application/vnd.jupyter.widget-view+json": {
       "model_id": "2e21ae6c972c450c96fc8d7ee2a4e4be",
       "version_major": 2,
       "version_minor": 0
      },
      "text/plain": [
       "VBox(children=(HTML(value='Which of the following numbers are prime? (Select all that apply.)'), SelectMultipl…"
      ]
     },
     "metadata": {},
     "output_type": "display_data"
    },
    {
     "data": {
      "text/plain": []
     },
     "execution_count": 5,
     "metadata": {},
     "output_type": "execute_result"
    }
   ],
   "source": [
    "prime_mc "
   ]
  },
  {
   "cell_type": "markdown",
   "id": "3d022848",
   "metadata": {},
   "source": [
    "### 3. Free Text\n",
    "Free text quizzes will ask you two write a free-text value. It has to be entered exactly as expected (case insensitive), so try to follow the suggestions for how to write it."
   ]
  },
  {
   "cell_type": "code",
   "execution_count": 6,
   "id": "c5537e2c",
   "metadata": {},
   "outputs": [
    {
     "data": {
      "application/vnd.jupyter.widget-view+json": {
       "model_id": "257d52626aa84edbac770c1062f0ed66",
       "version_major": 2,
       "version_minor": 0
      },
      "text/plain": [
       "VBox(children=(HTML(value='What state are we in? (No abbreviations!)'), Textarea(value='', placeholder='Type s…"
      ]
     },
     "metadata": {},
     "output_type": "display_data"
    },
    {
     "data": {
      "text/plain": []
     },
     "execution_count": 6,
     "metadata": {},
     "output_type": "execute_result"
    }
   ],
   "source": [
    "# RUN CELL TO SEE QUIZ\n",
    "test_state"
   ]
  },
  {
   "cell_type": "markdown",
   "id": "e6756599",
   "metadata": {},
   "source": [
    "### 4. Function test\n",
    "Here you'll enter the name of the function and it will test whether the function returns the expected value. For example, the following test checks whether the built-in function `max` returns the largest value in an array. (This will make more sense at the end of the day!)"
   ]
  },
  {
   "cell_type": "code",
   "execution_count": 7,
   "id": "245c3699",
   "metadata": {},
   "outputs": [
    {
     "name": "stdout",
     "output_type": "stream",
     "text": [
      "Correct!\n"
     ]
    }
   ],
   "source": [
    "# RUN CELL TO TEST VALUE\n",
    "test_max.test(max)"
   ]
  },
  {
   "cell_type": "markdown",
   "id": "7996ea1f",
   "metadata": {},
   "source": [
    "**4. Value test**: This tests whether the value of a variable is what was expected."
   ]
  },
  {
   "cell_type": "code",
   "execution_count": 8,
   "id": "a7f06aa9",
   "metadata": {},
   "outputs": [
    {
     "data": {
      "text/plain": [
       "3"
      ]
     },
     "execution_count": 8,
     "metadata": {},
     "output_type": "execute_result"
    }
   ],
   "source": [
    "x = 3\n",
    "x"
   ]
  },
  {
   "cell_type": "code",
   "execution_count": 9,
   "id": "1ee2cc79",
   "metadata": {},
   "outputs": [
    {
     "name": "stdout",
     "output_type": "stream",
     "text": [
      "That is correct!\n"
     ]
    }
   ],
   "source": [
    "test_x_equals_3.test(3)"
   ]
  },
  {
   "cell_type": "markdown",
   "id": "91d61657",
   "metadata": {},
   "source": [
    "### 5. Hints\n",
    "Some exercises will offer hints which you can check if you need help getting start with an answer or if the exercise is a visualization which can't be checked manually."
   ]
  },
  {
   "cell_type": "code",
   "execution_count": 14,
   "id": "ef3351fd",
   "metadata": {},
   "outputs": [
    {
     "ename": "NameError",
     "evalue": "name 'hint_example' is not defined",
     "output_type": "error",
     "traceback": [
      "\u001b[0;31m---------------------------------------------------------------------------\u001b[0m",
      "\u001b[0;31mNameError\u001b[0m                                 Traceback (most recent call last)",
      "Cell \u001b[0;32mIn[14], line 1\u001b[0m\n\u001b[0;32m----> 1\u001b[0m \u001b[43mhint_example\u001b[49m\n",
      "\u001b[0;31mNameError\u001b[0m: name 'hint_example' is not defined"
     ]
    }
   ],
   "source": [
    "hint_example"
   ]
  },
  {
   "cell_type": "code",
   "execution_count": null,
   "id": "1958c85f",
   "metadata": {},
   "outputs": [],
   "source": []
  },
  {
   "cell_type": "markdown",
   "id": "f663095f",
   "metadata": {},
   "source": [
    "## Next Steps\n"
   ]
  },
  {
   "cell_type": "code",
   "execution_count": null,
   "id": "81fd34fb",
   "metadata": {},
   "outputs": [],
   "source": []
  }
 ],
 "metadata": {
  "kernelspec": {
   "display_name": "Python 3 (ipykernel)",
   "language": "python",
   "name": "python3"
  },
  "language_info": {
   "codemirror_mode": {
    "name": "ipython",
    "version": 3
   },
   "file_extension": ".py",
   "mimetype": "text/x-python",
   "name": "python",
   "nbconvert_exporter": "python",
   "pygments_lexer": "ipython3",
   "version": "3.10.13"
  }
 },
 "nbformat": 4,
 "nbformat_minor": 5
}
